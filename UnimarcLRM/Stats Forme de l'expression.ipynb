{
 "cells": [
  {
   "cell_type": "code",
   "execution_count": 9,
   "metadata": {},
   "outputs": [],
   "source": [
    "from lxml import etree\n",
    "import SRUextraction as sru\n",
    "from collections import Counter"
   ]
  },
  {
   "cell_type": "code",
   "execution_count": 4,
   "metadata": {},
   "outputs": [],
   "source": [
    "tree = etree.parse(\"UMA_Oeuvres_Expressions.xml\")\n",
    "ns = {\"m\": \"http://www.loc.gov/MARC21/slim\"}"
   ]
  },
  {
   "cell_type": "code",
   "execution_count": 16,
   "metadata": {},
   "outputs": [
    {
     "data": {
      "text/plain": [
       "Counter({'film': 12,\n",
       "         'Texte noté': 25,\n",
       "         'programme': 1,\n",
       "         'Texte noté. Image fixe': 4,\n",
       "         'jeu vidéo': 1,\n",
       "         'Image fixe': 4,\n",
       "         'spectacle': 1,\n",
       "         'Musique exécutée': 1,\n",
       "         'Image animée': 2,\n",
       "         'Parole énoncée': 1,\n",
       "         'émission radiophonique': 1})"
      ]
     },
     "execution_count": 16,
     "metadata": {},
     "output_type": "execute_result"
    }
   ],
   "source": [
    "types = []\n",
    "for record in tree.xpath(\"//m:record\", namespaces=ns):\n",
    "    f154a = sru.record2fieldvalue(record, \"154$a\")\n",
    "    localtype = \"\"\n",
    "    if f154a and f154a[1] == \"b\":\n",
    "        for f242n in sru.record2fieldvalue(record, \"242$n\").split(\"¤\"):\n",
    "            if f242n:\n",
    "                if localtype == \"\":\n",
    "                    localtype = f242n\n",
    "                    types.append(localtype)\n",
    "        if localtype == \"\":\n",
    "            for f232c in sru.record2fieldvalue(record, \"232$c\").split(\"¤\"):\n",
    "                if f232c:\n",
    "                    if localtype == \"\":\n",
    "                        localtype = f232c\n",
    "                        types.append(localtype)\n",
    "        if localtype == \"\":\n",
    "            for f232n in sru.record2fieldvalue(record, \"232$n\").split(\"¤\"):\n",
    "                if f232n:\n",
    "                    if localtype == \"\":\n",
    "                        localtype = f232n\n",
    "                        types.append(localtype)\n",
    "        if localtype == \"\":\n",
    "            for f542n in sru.record2fieldvalue(record, \"542$n\").split(\"¤\"):\n",
    "                if localtype == \"\":\n",
    "                    localtype = f542n\n",
    "                    types.append(localtype)\n",
    "\n",
    "        if localtype == \"\":\n",
    "            print(sru.record2fieldvalue(record, \"001\"))\n",
    "Counter(types)"
   ]
  },
  {
   "cell_type": "code",
   "execution_count": null,
   "metadata": {},
   "outputs": [],
   "source": []
  },
  {
   "cell_type": "code",
   "execution_count": null,
   "metadata": {},
   "outputs": [],
   "source": []
  }
 ],
 "metadata": {
  "kernelspec": {
   "display_name": "Python 3",
   "language": "python",
   "name": "python3"
  },
  "language_info": {
   "codemirror_mode": {
    "name": "ipython",
    "version": 3
   },
   "file_extension": ".py",
   "mimetype": "text/x-python",
   "name": "python",
   "nbconvert_exporter": "python",
   "pygments_lexer": "ipython3",
   "version": "3.8.3"
  }
 },
 "nbformat": 4,
 "nbformat_minor": 4
}
