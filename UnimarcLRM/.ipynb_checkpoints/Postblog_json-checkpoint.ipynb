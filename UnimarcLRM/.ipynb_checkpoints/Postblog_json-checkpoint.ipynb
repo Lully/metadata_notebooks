{
 "cells": [
  {
   "cell_type": "markdown",
   "metadata": {},
   "source": [
    "# Jeu de données Unimarc entités : affichage des résultats - structuration interne\n",
    "\n",
    "Ca ne vous paraîtra sans doute pas le plus intéressant si vous avez essayé de naviguer un peu dans les pages de résultats, mais j'ai envie d'expliquer un peu la problématique de reconstruction des informations en interne.\n",
    "\n",
    "En effet quand un internaute une recherche sur un lot de notices initialement structurées en entités OEMI, il est susceptible de mettre dans le même formulaire de recherche des informations relevant de plusieurs niveaux de l'arbre, sans le savoir. Il faut donc que les résultats puissent répondre même si vous mettez un nom d'auteur (oeuvre), un titre (oeuvre) et un éditeur (manifestation) ; ou encore un numéro de symphonie (oeuvre) avecun chef d'orchestre (expression).\n",
    "\n",
    "La solution que j'ai trouvée (je ne suis pas sûr qu'il en existe d'autre, en fait ?) est de reconstruire, entre les notices initiales et l'utilisateur, des macro-notices qui agrègent tout un tas d'informations. Vous pouvez en voir le résultat dans le jeu de données, à travers les notices JSON (accessibles depuis une notice"
   ]
  }
 ],
 "metadata": {},
 "nbformat": 4,
 "nbformat_minor": 4
}
