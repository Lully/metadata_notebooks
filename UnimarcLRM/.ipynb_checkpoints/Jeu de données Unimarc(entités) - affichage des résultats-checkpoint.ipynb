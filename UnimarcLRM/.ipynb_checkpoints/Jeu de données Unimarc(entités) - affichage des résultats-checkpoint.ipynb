{
 "cells": [
  {
   "cell_type": "markdown",
   "metadata": {},
   "source": [
    "# Objectif\n",
    "\n",
    "Proposer un affichage de résultats (sous forme de pages HTML articulées entre elles) à partir du jeu de données (4 fichiers Unimarc XML d'entités LRM) et des objets Python créés dessus, à partir du code présenté dans le notebook **Manipulation des fichiers de notices Unimarc LRM**\n",
    "\n",
    "Ce code sera amené à évoluer selon les besoins des affichages"
   ]
  },
  {
   "cell_type": "markdown",
   "metadata": {},
   "source": [
    "Le coeur du dispositif est un dictionnaire d'instances de classes Item, Manif, Expression, Oeuvre et Record (pour les autres notices : personnes et sujets notamment) dont la clé est le numéro de notice, et la valeur l'instance en question."
   ]
  },
  {
   "cell_type": "code",
   "execution_count": 1,
   "metadata": {},
   "outputs": [],
   "source": [
    "import os\n",
    "from Record import construct_indexation\n",
    "from generate_records import generate_dict_entities\n",
    "from generate_results import search, display_html_results, delete_html_results"
   ]
  },
  {
   "cell_type": "markdown",
   "metadata": {},
   "source": [
    "### Préalable : génération du dictionnaire d'entités"
   ]
  },
  {
   "cell_type": "code",
   "execution_count": 2,
   "metadata": {},
   "outputs": [
    {
     "name": "stdout",
     "output_type": "stream",
     "text": [
      "UMLRM0007\n",
      "UMLRM0129\n",
      "UMLRM0090\n",
      "UMLRM0004\n",
      "description Nosferatu, Phantom der Nacht film  . Shadow of the vampire film  . Nosferatu, the wrath of Malachi jeu vidéo  . Stoker, Bram (1847-1912)   Est une adaptation dans un autre mode de création de [œuvre]\n",
      "\n",
      "UMLRM0081\n",
      "UMLRM0152\n",
      "UMLRM0154\n",
      "UMLRM0007\n",
      "UMLRM0135\n",
      "UMLRM0090\n",
      "UMLRM0105\n",
      "UMLRM0180\n",
      "UMLRM0001\n",
      "UMLRM0078\n",
      "UMLRM0191\n",
      "UMLRM0120\n",
      "UMLRM0081\n",
      "UMLRM0126\n",
      "UMLRM0099\n",
      "UMLRM0037\n",
      "UMLRM0034\n",
      "UMLRM0075\n",
      "UMLRM0114¤16166639\n",
      "description \"Dracula\" : l'oeuvre de Bram Stoker et le film de Francis F. Coppola   Oeuvre étudiée dans. [Photographies extraites du film \"Dracula\" de Tod Browning]   A pour illustration. Dracula film  . Nosferatu, Phantom der Nacht film  . Dracula, pages from a virgin's diary film  . Nosferatu, the wrath of Malachi jeu vidéo  . Dracula has risen from the grave film  . Dracula film ; série  . Nosferatu, eine Symphonie des Grauens film  A pour adaptation dans un autre mode de création de [œuvre]. Bram Stoker's Dracula film  A pour adaptation dans un autre mode de création de [œuvre]. Dracula émission radiophonique  A pour adaptation dans un autre mode de création de [œuvre]. Dracula, dead and loving it film  A pour parodie. \"Dracula\" : l'oeuvre de Bram Stoker et le film de Francis F. Coppola   Oeuvre étudiée dans. Stoker, Bram (1847-1912) Choix  A pour œuvre préparatoire. Druillet, Philippe (1944-....)   . Stoker, Bram (1847-1912) Choix  A pour sélection [oeuvre]. Humphries, Tudor (1953-….)   A pour adaptation pour la jeunesse dans le même mode création [œuvre]. Stoker, Bram (1847-1912)   A pour antépisode. Stoker, Dacre¤Holt, Ian (1964-….)   A pour suite\n",
      "UMLRM0001\n",
      "UMLRM0004\n",
      "description Nosferatu : eine Symphonie des Grauens film  . Stoker   \n",
      "\n",
      "description \n",
      "\n",
      "description Opéra Bastille (Paris, France ; lieu)   \n",
      "\n",
      "UMLRM0004\n",
      "description Stoker, Bram (1847-1912)   Est une sélection de [œuvre]\n",
      "UMLRM0004\n",
      "description Stoker, Bram (1847-1912)   Est une adaptation pour la jeunesse dans le même mode de création de [œuvre]\n",
      "UMLRM0004\n",
      "description Stoker, Bram (1847-1912)   Est une sélection de [œuvre]\n",
      "\n",
      "\n",
      "\n",
      "\n",
      "\n",
      "\n",
      "description \n",
      "UMLRM0004\n",
      "description Stoker, Bram (1847-1912)   Antépisode de\n",
      "UMLRM0081\n",
      "UMLRM0004\n",
      "description \"Dracula\" : l'oeuvre de Bram Stoker et le film de Francis F. Coppola   Oeuvre étudiée dans. Stoker, Bram (1847-1912)   Est une adaptation dans un autre mode de création de [œuvre]\n",
      "\n",
      "UMLRM0078\n",
      "UMLRM0004\n",
      "description Bram Stoker's Dracula film  Est une étude de [œuvre]. Stoker, Bram (1847-1912)   Est une étude de [œuvre]\n",
      "description \n",
      "UMLRM0141\n",
      "description Valls de Gomis, Estelle (1973-...)   Est une adaptation pour un autre public dans le même mode de création de [œuvre]\n",
      "UMLRM0001\n",
      "UMLRM0004\n",
      "description  Nosferatu, eine Symphonie des Grauens film  . Stoker, Bram (1847-1912)   \n",
      "\n",
      "UMLRM0001\n",
      "UMLRM0004\n",
      "description  film  . Stoker   \n",
      "UMLRM0180\n",
      "UMLRM0004\n",
      "description Dracula film ; série  . Stoker, Bram (1847-1912)   \n",
      "\n",
      "UMLRM0004\n",
      "description Stoker, Bram (1847-1912)   Est une étude de [œuvre]\n",
      "UMLRM0004\n",
      "UMLRM0186\n",
      "description Stoker, Bram (1847-1912)   Suite de. Dufranne, Michel (1970-....)¤Kowalski, Piotr (1973-....)   A pour adaptation dans un autre mode de création [œuvre]\n",
      "UMLRM0186\n",
      "description Dufranne, Michel (1970-....)¤Kowalski, Piotr (1973-....)   \n",
      "UMLRM0154\n",
      "UMLRM0004\n",
      "description  film  Est une parodie de. Stoker   Est une parodie de\n",
      "\n",
      "UMLRM0004\n",
      "description Stoker, Bram (1847-1912)   Est une œuvre préparatoire pour\n",
      "UMLRM0001\n",
      "description  film  \n",
      "\n",
      "description \n",
      "UMLRM0004\n",
      "UMLRM0164\n",
      "UMLRM0165\n",
      "description Stoker, Bram (1847-1912)   . Godden, Mark   Est une adaptation dans un autre mode de création de [œuvre]. Mahler, Gustav (1860-1911) Choix  Utilise la musique [œuvre]\n",
      "\n",
      "UMLRM0147\n",
      "\n",
      "\n",
      "description Nosferatu spectacle  Décors utilisés dans. Jeanneteau, Daniel (1963-....)¤Deratte, Laure (19..-....)   Œuvre préparatoire pour. Opéra Bastille (Paris, France ; lieu)   \n",
      "\n",
      "UMLRM0087\n",
      "description Valls de Gomis, Estelle (1973-...)   A pour adaptation pour un autre public dans le même mode de création de [œuvre]\n",
      "UMLRM0143\n",
      "UMLRM0145\n",
      "UMLRM0146\n",
      "UMLRM0144\n",
      "description Dusapin,Pascal (1955-....)   Utilise la musique [œuvre]. Dusapin,Pascal (1955-....)   Utilise la musique [œuvre]. Dusapin,Pascal (1955-....)   Utilise la musique [œuvre]. Dusapin,Pascal (1955-....)   Utilise la musique [œuvre]\n",
      "\n",
      "UMLRM0142\n",
      "description Dusapin, Pascal (1955-....)   . Gallotta, Jean-Claude (1950-....)   Musique utilisée dans [œuvre]\n",
      "\n",
      "UMLRM0142\n",
      "description Dusapin, Pascal (1955-....)   . Gallotta, Jean-Claude (1950-....)   Musique utilisée dans [œuvre]\n",
      "UMLRM0142\n",
      "description Gallotta, Jean-Claude (1950-....)   Musique utilisée dans [œuvre]\n",
      "UMLRM0142\n",
      "description Gallotta, Jean-Claude (1950-....)   Musique utilisée dans [œuvre]\n",
      "UMLRM0138\n",
      "description Jeanneteau, Daniel (1963-....)¤Deratte, Laure (19..-....)   Utilise les décors\n",
      "description \n",
      "UMLRM0004\n",
      "description Stoker, Bram (1847-1912)   Illustre\n",
      "UMLRM0154\n",
      "UMLRM0004\n",
      "description Dracula film  Est une sélection de [œuvre]. Stoker   Illustre\n",
      "UMLRM0152\n",
      "UMLRM0163\n",
      "UMLRM0120\n",
      "UMLRM0155\n",
      "UMLRM0004\n",
      "UMLRM0156\n",
      "description [Photographies extraites du film \"Dracula\" de Tod Browning]   A pour selection [oeuvre]. Drácula film espagnol A pour remake. Dracula, dead and loving it film  A pour parodie. Deane, Hamilton (1879-1958)¤Balderston, John L. (1889-1954)   Est une adaptation dans un autre mode de création de [œuvre]. Stoker   . Glass, Philip (1937-....)   A pour complément\n",
      "UMLRM0154\n",
      "UMLRM0163\n",
      "UMLRM0004\n",
      "description Dracula film  . Drácula film espagnol . Stoker, Bram (1847-1912)   Est une adaptation dans un autre mode de création de [œuvre]\n",
      "UMLRM0154\n",
      "description Dracula film  Est un complément de]\n",
      "\n",
      "\n",
      "\n",
      "UMLRM0154\n",
      "UMLRM0155\n",
      "UMLRM0004\n",
      "description Dracula film  Est un remake de. Deane, Hamilton (1879-1958)¤Balderston, John L. (1889-1954)   Est une adaptation dans un autre mode de création de [œuvre]. Stoker   \n",
      "UMLRM0135\n",
      "UMLRM0165\n",
      "UMLRM0004\n",
      "description Dracula : pages from a virgin's diary film  A pour adaptation dans un autre mode de création de [œuvre]. Mahler, Gustav (1860-1911) Choix  Utilise la musique [œuvre]. Stoker, Bram (1847-1912)   \n",
      "UMLRM0135\n",
      "UMLRM0164\n",
      "description Dracula : pages from a virgin's diary film  Musique utilisée dans [œuvre]. Godden, Mark   Musique utilisée dans [œuvre]\n",
      "description \n",
      "\n",
      "description \n",
      "\n",
      "description \n",
      "\n",
      "\n",
      "\n",
      "UMLRM0105\n",
      "\n",
      "\n",
      "\n",
      "\n",
      "\n",
      "UMLRM0004\n",
      "description Horror of Dracula film  . The brides of Dracula film  . Dracula, prince of darkness film  . Dracula has risen from the grave film  . Taste the blood of Dracula film  . Scars of Dracula film  . Dracula A.D. 1972 film  . The satanic sites of Dracula film  . The legend of the 7 golden vampires film  . Stoker, Bram (1847-1912)   \n",
      "\n",
      "\n",
      "UMLRM0114\n",
      "\n",
      "UMLRM0117\n",
      "\n",
      "description Stoker, Dacre¤Holt, Ian (1964-….)   Est une adaptation dans un autre mode de création de [œuvre]. Dufranne, Michel (1970-....)¤Kowalski, Piotr (1973-....)   A pour partie [œuvre]. Dufranne, Michel (1970-....)¤Kowalski, Piotr (1973-....)   A pour partie [œuvre]. Dufranne, Michel (1970-....)¤Kowalski, Piotr (1973-....)   A pour partie [œuvre]\n",
      "\n",
      "UMLRM0194\n",
      "UMLRM0004\n",
      "description The Mercury theatre on the air série radiophonique  . Stoker   Est une adaptation dans un autre mode de création de [œuvre]\n",
      "UMLRM0191\n",
      "description Dracula émission radiophonique  \n",
      "description \n"
     ]
    }
   ],
   "source": [
    "dict_entities = generate_dict_entities(\"UMA_Oeuvres_Expressions.xml\", \"UMB_Manifestations.xml\",\n",
    "                                       \"UMH_Items.xml\", \"UMA_Autres_Entites_Liees.xml\")\n",
    "oeuvres = [dict_entities[o] for o in dict_entities if dict_entities[o].type == \"o\"]\n",
    "expressions = [dict_entities[e] for e in dict_entities if dict_entities[e].type == \"e\"]"
   ]
  },
  {
   "cell_type": "markdown",
   "metadata": {},
   "source": [
    "# Moteur de recherche (afficher des oeuvres)"
   ]
  },
  {
   "cell_type": "code",
   "execution_count": 3,
   "metadata": {},
   "outputs": [
    {
     "name": "stdout",
     "output_type": "stream",
     "text": [
      "Chercher dans la base : dr\n",
      "Nombre de résultats : 36 oeuvre(s) -  46 expression(s)\n"
     ]
    }
   ],
   "source": [
    "kw_search = input(\"Chercher dans la base : \")\n",
    "results_o = search(kw_search, oeuvres, dict_entities, \"all\")\n",
    "results_e = search(kw_search, expressions, dict_entities, \"all\")\n",
    "\n",
    "print(\"Nombre de résultats :\", len(results_o), \"oeuvre(s) - \", len(results_e), \"expression(s)\")\n",
    "display_html_results(results_o, dict_entities, kw_search, \"o\")\n",
    "display_html_results(results_e, dict_entities, kw_search, \"e\")"
   ]
  },
  {
   "cell_type": "markdown",
   "metadata": {},
   "source": [
    "**[Résultats par oeuvres](results/short_results_o.html)** **[Résultats par expressions](results/short_results_e.html)**"
   ]
  },
  {
   "cell_type": "markdown",
   "metadata": {},
   "source": [
    "### Supprimer les pages de résultats\n",
    "\n",
    "Lancer la cellule ci-dessous"
   ]
  },
  {
   "cell_type": "code",
   "execution_count": 4,
   "metadata": {},
   "outputs": [],
   "source": [
    " # delete_html_results()"
   ]
  },
  {
   "cell_type": "code",
   "execution_count": null,
   "metadata": {},
   "outputs": [],
   "source": [
    "liste_types = set()\n",
    "for e in expressions:\n",
    "    liste_types.add(e.expressionContentType)\n",
    "for e in liste_types:\n",
    "    print(e)"
   ]
  },
  {
   "cell_type": "code",
   "execution_count": null,
   "metadata": {},
   "outputs": [],
   "source": []
  }
 ],
 "metadata": {
  "kernelspec": {
   "display_name": "Python 3",
   "language": "python",
   "name": "python3"
  },
  "language_info": {
   "codemirror_mode": {
    "name": "ipython",
    "version": 3
   },
   "file_extension": ".py",
   "mimetype": "text/x-python",
   "name": "python",
   "nbconvert_exporter": "python",
   "pygments_lexer": "ipython3",
   "version": "3.8.3"
  }
 },
 "nbformat": 4,
 "nbformat_minor": 4
}
