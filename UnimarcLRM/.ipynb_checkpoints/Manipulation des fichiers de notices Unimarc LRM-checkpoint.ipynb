{
 "cells": [
  {
   "cell_type": "markdown",
   "metadata": {},
   "source": [
    "# Introduction\n",
    "\n",
    "Suite à la publication de 340 notices d'entités LRM par le groupe Systèmes et Données https://zenodo.org/record/7358799 voici un ensemble de scripts pour visualiser un peu leur contenu\n",
    "\n",
    "Les données diffusées en iso2709 ont été converties en MarcXML pour faciliter les traitements.\n",
    "\n",
    "4 fichiers sont fournis :"
   ]
  },
  {
   "cell_type": "code",
   "execution_count": 1,
   "metadata": {},
   "outputs": [],
   "source": [
    "manifs_filename = \"UMB_Manifestations.xml\"\n",
    "oeuvres_expressions_filename = \"UMA_Oeuvres_Expressions.xml\"\n",
    "autres_entites_filename = \"UMA_Autres_Entites_Liees.xml\"\n",
    "items_filename = \"UMH_Items.xml\""
   ]
  },
  {
   "cell_type": "code",
   "execution_count": 4,
   "metadata": {},
   "outputs": [],
   "source": [
    "import SRUextraction as sru # import du fichier https://github.com/Lully/bnf-sru/blob/master/SRUextraction.py\n",
    "from lxml import etree\n",
    "\n",
    "ns = {\"marc\": \"http://www.loc.gov/MARC21/slim\"}"
   ]
  },
  {
   "cell_type": "code",
   "execution_count": 24,
   "metadata": {},
   "outputs": [],
   "source": [
    "manifs_file = etree.parse(manifs_filename)\n",
    "oeuvres_expressions_file = etree.parse(oeuvres_expressions_filename)\n",
    "autres_entites_file = etree.parse(autres_entites_filename)\n",
    "items_file = etree.parse(items_filename)"
   ]
  },
  {
   "cell_type": "code",
   "execution_count": null,
   "metadata": {},
   "outputs": [],
   "source": []
  },
  {
   "cell_type": "markdown",
   "metadata": {},
   "source": [
    "### Fonctions d'extraction"
   ]
  },
  {
   "cell_type": "code",
   "execution_count": 70,
   "metadata": {},
   "outputs": [],
   "source": [
    "class Record:\n",
    "    def __init__(self, xml_record, rectype):\n",
    "        self.xml = xml_record\n",
    "        self.type = rectype\n",
    "        self.id = sru.record2fieldvalue(self.xml, \"001\")\n",
    "        self.label = get_label(self.xml, self.type)\n",
    "    \n",
    "    def __repr__(self):\n",
    "        return etree.tostring(self.xml).decode(\"utf-8\")\n",
    "    \n",
    "def get_label(xml_record, rectype):\n",
    "    label = []\n",
    "    if rectype in \"mipc\":\n",
    "        label.append(sru.record2fieldvalue(xml_record, \"200$a\"))\n",
    "    elif rectype in \"eo\":\n",
    "        for field in xml_record.xpath(\"*[@tag]\"):\n",
    "            tag = field.get(\"tag\")\n",
    "            if tag.startswith(\"2\"):\n",
    "                label.append(sru.field2subfield(field, \"a\"))\n",
    "    return \", \".join(label)"
   ]
  },
  {
   "cell_type": "markdown",
   "metadata": {},
   "source": [
    "# Les manifestations"
   ]
  },
  {
   "cell_type": "code",
   "execution_count": 71,
   "metadata": {},
   "outputs": [],
   "source": [
    "manifs = [Record(manif, \"m\") for manif in manifs_file.xpath(\".//marc:record\", namespaces=ns)]\n",
    "oeuvres_expr = [Record(manif, \"o\") for manif in oeuvres_expressions_file.xpath(\".//marc:record\", namespaces=ns)]  "
   ]
  },
  {
   "cell_type": "code",
   "execution_count": 72,
   "metadata": {},
   "outputs": [
    {
     "name": "stdout",
     "output_type": "stream",
     "text": [
      "Nosferatu, [Sannois], [Sannois], , 1 DVD vidéo, Les trésors du cinéma\n",
      "Dracula,  London¤Sidney¤Auckland, 27-Mesnil-sur-l'Estrée, 1 volume (382 pages)\n",
      " Nosferatu, fantôme de la nuit, [Neuilly-sur-Seine], [Neuilly-sur-Seine], 1 BD vidéo\n",
      "\"Nosferatu le vampire\", Neuilly, 1 volume (221 pages), Clefs concours\n",
      "Jean-Claude Gallotta, Nosferatu, ballet de l'Opéra, Paris, , 1 volume (54 pages)\n",
      "Dracula, 9th edition, London, 1 volume (VIII-404 pages)\n",
      " Dracula,  Paris, 72-La Flèche, 1 volume (574 pages), J'ai lu\n",
      "Dracula, Verviers, 1 volume (569 pages), Marabout Géant\n",
      "Dracula, Paris, 72-La Flèche, 1 volume (XXIV-505 pages), J'ai lu\n",
      "Dracula, Paris, 72-La Flèche, 1 volume (534 pages), Bibliothèque verte\n",
      "Dracula, [Paris], Italie, 1 volume (217 pages), Classiques & patrimoine\n",
      "Dracula, Paris¤Bruxelles¤Montréal [etc.], Chine, 1 volume (64 pages), La bibliothèque des classiques\n",
      "Dracula, Édition revue, [Paris], Manchecourt (Loiret, France), 1 volume (222 pages), Étonnants classiques\n",
      " Dracula,  Paris, Slovaquie, 1 volume (679 pages), J'ai lu\n",
      "Dracula, Nouvelle traduction, Rosières-en-Haye, 91-Les Ulis, 1 volume (741 pages), Camion noir\n",
      "Dracula, Édition revue, [Paris], , 1 volume (222 pages - [4] pages), Étonnants classiques\n",
      "Dracula, [Paris], Pays-Bas, 1 volume (919 pages)\n",
      "Dracula, Texte abrégé, Vanves, Espagne,  1 volume (321 pages)\n",
      "Dracula, Paris, 1 volume (263 pages), Collection littéraire des romans étrangers\n",
      "Dracula, Paris, 1 volume (96 pages – planches non numérotées), Cinéma-Bibliothèque\n",
      "Dracula, Paris, 1 volume (344 pages), Les maîtres du fantastique\n",
      "Drácula, Rungis, 1 volume (540 pages), Clásicos Universales Maxtor\n",
      "Dracula‎, Paris‎, 27-Mesnil-sur-l'Estrée‎, 1 volume (232 pages)‎, Classiques\n",
      "Bram Stoker, London, 1 volume(XV-381 pages)\n",
      "Dracula¤suivi de L'invité de Dracula, Paris, 72-La Flèche, 1 volume (575 pages), Pocket\n",
      "Bram Stoker's Dracula, Tokyo, , 2 LaserDiscs\n",
      " \"Dracula\", Paris, 86-Ligugé, 1 volume (379 pages)\n",
      "Dracula,  Paris, 61-Lonrai, 1 volume (497 pages), Texto\n",
      "Le vampire au fil des siècles, Coudray-Macouard, 21-Quétigny, 1 volume (471 pages-[16] pages de planches.)\n",
      "Nosferatu, [Clichy]¤Boulogne-Billancourt, ,  1 disque optique numérique (CD-ROM), Hits collection, Jeu multimédia\n",
      "Nosferatu, Version française, Courbevoie, , 1 disque optique numérique (CD-ROM), Neo games, Jeu multimédia\n",
      "Nosferatu, Paris¤Bruxelles, Paris, 1 volume (63 pages)\n",
      "Nosferatu, Paris, 37-Tours, 1 volume (non paginé [55] pages)\n",
      "Dracula has risen from the grave‎, [Burbank, Californie, États-Unis], Paris, 1 cassette vidéo\n",
      "Dracula, Paris, 1 volume (XX-413 pages), Aventures fantastiques\n",
      " Bram Stoker’s Dracula,  London¤New York, ,  1 volume (VII-150 pages), Continuum reader’s guide\n",
      "Dracula l'immortel, Neuilly-sur-Seine, Espagne, 1 volume (505 pages)\n",
      "Dracula l'immortel, [Neuilly-sur-Seine]¤ [Paris], 85-Luçon,  1 volume (48 pages)\n",
      "Dracula, mort et heureux de l’être, Neuilly-sur-Seine, Boulogne-Billancourt, 1 DVD vidéo\n",
      "Bram Stoker’s notes for “Dracula “, Jefferson (N.C.), 1 volume (VII-331 pages)\n",
      "L'ombre du vampire, Paris, Antony, 1 cassette vidéo\n",
      "Max Schreck, München, , 1 volume. (575 pages)\n",
      "Dracula, [Paris], [Paris], 1 DVD vidéo\n",
      "[Maquette de décor en volume pour \"Nosferatu\"], , 1 maquette en volume \n",
      "Dracula, [London], [Le Blanc-Mesnil], , 1 disque compact\n",
      "Dracula, [Paris], [Paris], 1 BD vidéo\n",
      "Guy Maddin, [Paris], [Paris], 4 DVD vidéo\n",
      "Dracula, pages tirées du journal d’une vierge, un film de Guy Maddin, [Paris], Aubervilliers, 1 feuille\n",
      "Dracula, [Paris], Manchecourt (Loiret, France), 1 volume (247 pages), Étonnants classiques\n",
      "Les grands classiques du cinéma allemand, [Sannois], [Sannois], 7 DVD vidéo\n",
      "Dracula, Abridged edition for young readers, London, 1 volume (64 pages), Eyewitness classics\n",
      "Dracula, Texte abrégé, [Paris], 18-Saint-Amand-Montrond, 1 volume (321 pages), Black moon\n",
      "Dracula, Texte abrégé, Paris, Italie, 1 volume (317 pages), Classiques & Cie\n",
      " Dracula et les femmes, [Paris], Paris, 1 cassette vidéo\n",
      "L'ombre du vampire, Paris, Antony, 1 DVD vidéo\n",
      "Dracula, Paris, 2 CD MP3\n",
      "Mel Brooks, [Neuilly-sur-Seine], Boulogne-Billancourt, 2 DVD vidéo\n",
      "Dracula, Schiller park (Illinois), , 1 CD audio\n",
      "Bibliographie de Dracula, Lausanne, , 1 volume(215 pages), Contemporains\n",
      "Dictionnaire des littératures vampiriques, Dinan, 1 volume(332 pages), Terres fantastiques \n"
     ]
    }
   ],
   "source": [
    "for el in manifs:\n",
    "    print(el.label)"
   ]
  },
  {
   "cell_type": "code",
   "execution_count": 69,
   "metadata": {},
   "outputs": [
    {
     "name": "stdout",
     "output_type": "stream",
     "text": [
      "\n",
      "Nosferatu, eine Symphonie des Grauens\n",
      "Stoker, Bram (1847-1912)\n",
      "Stoker, Bram (1847-1912)\n",
      " Nosferatu, Phantom der Nacht\n",
      "Nosferatu, Phantom der Nacht\n",
      "Palma, Paola (1971-….)¤Vezyroglou, Dimitri (1970-….)\n",
      "Palma, Paola (1971-….)¤Vezyroglou, Dimitri (1970-….)\n",
      "Jean-Claude Gallotta, Nosferatu, ballet de l'Opéra\n",
      "Jean-Claude Gallotta, Nosferatu, ballet de l'Opéra\n",
      "Stoker, Bram (1847-1912)\n",
      "Stoker, Bram (1847-1912)\n",
      "Stoker, Bram (1847-1912)\n",
      "Humphries, Tudor (1953-….)\n",
      "Humphries, Tudor (1953-….)\n",
      "Stoker, Bram (1847-1912)\n",
      "Stoker, Bram (1847-1912)\n",
      "Stoker, Bram (1847-1912)\n",
      "Stoker, Bram (1847-1912)\n",
      "Stoker, Bram (1847-1912)\n",
      "Stoker, Bram (1847-1912)\n",
      "Stoker, Bram (1847-1912)\n",
      "Stoker, Bram (1847-1912)\n",
      "Stoker, Bram (1847-1912)\n",
      "Stoker, Bram (1847-1912)\n",
      "Belford, Barbara\n",
      "Belford, Barbara\n",
      "Stoker, Bram (1847-1912)\n",
      "Stoker, Bram (1847-1912)\n",
      "Bram Stoker's Dracula\n",
      "Bram Stoker's Dracula\n",
      "\"Dracula\" : l'oeuvre de Bram Stoker et le film de Francis F. Coppola\n",
      "\"Dracula\" : l'oeuvre de Bram Stoker et le film de Francis F. Coppola\n",
      "Cazacu, Matei (1946-....)\n",
      "Cazacu, Matei (1946-....)\n",
      "Valls de Gomis, Estelle (1973-...)\n",
      "Valls de Gomis, Estelle (1973-...)\n",
      "Nosferatu, the wrath of Malachi\n",
      "Nosferatu, the wrath of Malachi\n",
      "Druillet, Philippe (1944-....)\n",
      "Druillet, Philippe (1944-....)\n",
      "Dracula has risen from the grave\n",
      "Dracula has risen from the grave\n",
      "Hughes, William (1964-....)\n",
      "Hughes, William (1964-....)\n",
      "Stoker, Dacre¤Holt, Ian (1964-….)\n",
      "Stoker, Dacre¤Holt, Ian (1964-….)\n",
      "Dufranne, Michel (1970-....)¤Kowalski, Piotr (1973-....)\n",
      "Dufranne, Michel (1970-....)¤Kowalski, Piotr (1973-....)\n",
      "Dracula, dead and loving it\n",
      "Dracula, dead and loving it, Stoker, Bram (1847-1912), Stoker, Bram (1847-1912)\n",
      "Shadow of the vampire\n",
      "Shadow of the vampire\n",
      "Eickhoff, Stefan\n",
      "Eickhoff, Stefan\n",
      "Dracula: pages from a virgin's diary\n",
      "Dracula : pages from a virgin's diary\n",
      "Jeanneteau, Daniel (1963-....)¤Deratte, Laure (19..-....)\n",
      "Jeanneteau, Daniel (1963-....)¤Deratte, Laure (19..-....)\n",
      "Valls de Gomis, Estelle (1973-...)\n",
      "Gallotta, Jean-Claude (1950-....)\n",
      "Dusapin, Pascal (1955-....)\n",
      "Dusapin, Pascal (1955-....)\n",
      "Dusapin, Pascal (1955-....)\n",
      "Dusapin, Pascal (1955-....)\n",
      "Nosferatu\n",
      "Nosferatu\n",
      "Finné, Jacques (1944-….)¤Marigny, Jean (1939-....)\n",
      "Druillet, Philippe (1944-....)\n",
      "Druillet, Philippe (1944-....)\n",
      "[Photographies extraites du film \"Dracula\" de Tod Browning]\n",
      "[Photographies extraites du film « Dracula » de Tod Browning]\n",
      "Dracula\n",
      "Deane, Hamilton (1879-1958)¤Balderston, John L. (1889-1954)\n",
      "Glass, Philip (1937-....)\n",
      "Glass, Philip (1937-....)\n",
      "Dracula\n",
      "Humphries, Tudor (1953-….)\n",
      "Drácula\n",
      "Drácula\n",
      "Godden, Mark\n",
      "Mahler, Gustav (1860-1911)\n",
      "Guy Maddin\n",
      "Guy Maddin\n",
      "Gauriat, Vincent\n",
      "Gauriat, Vincent\n",
      "Stoker, Bram (1847-1912)\n",
      "Les grands classiques du cinéma allemand\n",
      "Les grands classiques du cinéma allemand\n",
      "Dracula\n",
      "\n",
      "Shadow of the vampire\n",
      "Dufranne, Michel (1970-....)¤Kowalski, Piotr (1973-....)\n",
      "Stoker, Bram (1847-1912)\n",
      "Dracula, dead and loving it\n",
      "Dracula\n",
      "Dracula\n",
      "The Mercury theatre on the air\n",
      "Finné, Jacques (1944-….)\n",
      "Finné, Jacques (1944-….)\n",
      "Finné, Jacques (1944-….)¤Marigny, Jean (1939-....)\n"
     ]
    }
   ],
   "source": [
    "for el in oeuvres_expr:\n",
    "    print(el.label)"
   ]
  },
  {
   "cell_type": "code",
   "execution_count": null,
   "metadata": {},
   "outputs": [],
   "source": []
  }
 ],
 "metadata": {
  "kernelspec": {
   "display_name": "Python 3",
   "language": "python",
   "name": "python3"
  },
  "language_info": {
   "codemirror_mode": {
    "name": "ipython",
    "version": 3
   },
   "file_extension": ".py",
   "mimetype": "text/x-python",
   "name": "python",
   "nbconvert_exporter": "python",
   "pygments_lexer": "ipython3",
   "version": "3.8.3"
  }
 },
 "nbformat": 4,
 "nbformat_minor": 4
}
