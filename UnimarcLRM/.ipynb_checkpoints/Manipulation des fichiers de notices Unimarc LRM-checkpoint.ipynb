{
 "cells": [
  {
   "cell_type": "markdown",
   "metadata": {},
   "source": [
    "# Introduction\n",
    "\n",
    "Suite à la publication de 340 notices d'entités LRM par le groupe Systèmes et Données https://zenodo.org/record/7358799 voici un ensemble de scripts pour visualiser un peu leur contenu\n",
    "\n",
    "Les données diffusées en iso2709 ont été converties en MarcXML pour faciliter les traitements.\n",
    "\n",
    "4 fichiers sont fournis :"
   ]
  },
  {
   "cell_type": "code",
   "execution_count": 1,
   "metadata": {},
   "outputs": [],
   "source": [
    "manifs_filename = \"UMB_Manifestations.xml\"\n",
    "oeuvres_expressions_filename = \"UMA_Oeuvres_Expressions.xml\"\n",
    "autres_entites_filename = \"UMA_Autres_Entites_Liees.xml\"\n",
    "items_filename = \"UMH_Items.xml\""
   ]
  },
  {
   "cell_type": "code",
   "execution_count": 4,
   "metadata": {},
   "outputs": [],
   "source": [
    "import SRUextraction as sru # import du fichier https://github.com/Lully/bnf-sru/blob/master/SRUextraction.py\n",
    "from lxml import etree\n",
    "\n",
    "ns = {\"marc\": \"http://www.loc.gov/MARC21/slim\"}"
   ]
  },
  {
   "cell_type": "code",
   "execution_count": 24,
   "metadata": {},
   "outputs": [],
   "source": [
    "manifs_file = etree.parse(manifs_filename)\n",
    "oeuvres_expressions_file = etree.parse(oeuvres_expressions_filename)\n",
    "autres_entites_file = etree.parse(autres_entites_filename)\n",
    "items_file = etree.parse(items_filename)"
   ]
  },
  {
   "cell_type": "code",
   "execution_count": null,
   "metadata": {},
   "outputs": [],
   "source": []
  },
  {
   "cell_type": "markdown",
   "metadata": {},
   "source": [
    "### Fonctions d'extraction"
   ]
  },
  {
   "cell_type": "code",
   "execution_count": 82,
   "metadata": {},
   "outputs": [],
   "source": [
    "class Record:\n",
    "    def __init__(self, xml_record, rectype):\n",
    "        self.xml = xml_record\n",
    "        self.type = rectype\n",
    "        self.id = sru.record2fieldvalue(self.xml, \"001\")\n",
    "        self.label = get_label(self.xml, self.type)\n",
    "    \n",
    "    def __repr__(self):\n",
    "        return etree.tostring(self.xml).decode(\"utf-8\")\n",
    "\n",
    "class Manifestation(Record):\n",
    "    def __init__(self, xml_record, rectype):\n",
    "        pass\n",
    "    \n",
    "def get_label(xml_record, rectype):\n",
    "    label = []\n",
    "    if rectype in \"mipc\":\n",
    "        label.append(sru.record2fieldvalue(xml_record, \"200$a\"))\n",
    "    elif rectype in \"eo\":\n",
    "        for field in xml_record.xpath(\"*[@tag]\"):\n",
    "            tag = field.get(\"tag\")\n",
    "            if tag.startswith(\"2\"):\n",
    "                if sru.field2subfield(field, \"a\"):\n",
    "                    label.append(sru.field2subfield(field, \"a\"))\n",
    "                else:\n",
    "                    label.append(\"*\"*20)\n",
    "                    label.append(\"$a vide\")\n",
    "                    label.append(sru.field2value(field))\n",
    "    return \", \".join(label)"
   ]
  },
  {
   "cell_type": "markdown",
   "metadata": {},
   "source": [
    "# Relations entre entités\n",
    "\n",
    "Liens : 531 $3\n",
    "\n",
    "Point d'accès structuré: zone 511\n",
    "\n",
    "Note (non exploitable informatiquement) 370"
   ]
  },
  {
   "cell_type": "markdown",
   "metadata": {},
   "source": [
    "# Les manifestations\n",
    "\n",
    "Besoins : \n",
    "* pour une manifestation, récupérer les métas principales :\n",
    "  * titre, point d'accès, auteur\n",
    "  * liens aux entités Expressions (et oeuvre ?)\n",
    "* pour une manif, récupérer la liste des expressions et la liste des oeuvres (lien direct)\n",
    "  * créer des attributs à la manifs, en fournissant l'expression source pour chaque oeuvre identifié\n"
   ]
  },
  {
   "cell_type": "code",
   "execution_count": 83,
   "metadata": {},
   "outputs": [],
   "source": [
    "manifs = [Record(manif, \"m\") for manif in manifs_file.xpath(\".//marc:record\", namespaces=ns)]\n",
    "oeuvres_expr = [Record(manif, \"o\") for manif in oeuvres_expressions_file.xpath(\".//marc:record\", namespaces=ns)]  "
   ]
  },
  {
   "cell_type": "markdown",
   "metadata": {},
   "source": [
    "## Liste des ID et titres"
   ]
  },
  {
   "cell_type": "code",
   "execution_count": 84,
   "metadata": {},
   "outputs": [
    {
     "name": "stdout",
     "output_type": "stream",
     "text": [
      "UMLRM0003 Nosferatu\n",
      "UMLRM0006 Dracula\n",
      "UMLRM0009  Nosferatu, fantôme de la nuit\n",
      "UMLRM0012 \"Nosferatu le vampire\"\n",
      "UMLRM0015 Jean-Claude Gallotta, Nosferatu, ballet de l'Opéra\n",
      "UMLRM0018 Dracula\n",
      "UMLRM0021  Dracula\n",
      "UMLRM0024 Dracula\n",
      "UMLRM0027 Dracula\n",
      "UMLRM0030 Dracula\n",
      "UMLRM0033 Dracula\n",
      "UMLRM0036 Dracula\n",
      "UMLRM0039 Dracula\n",
      "UMLRM0042  Dracula\n",
      "UMLRM0045 Dracula\n",
      "UMLRM0048 Dracula\n",
      "UMLRM0051 Dracula\n",
      "UMLRM0054 Dracula\n",
      "UMLRM0057 Dracula\n",
      "UMLRM0060  Dracula\n",
      "UMLRM0063 Dracula\n",
      "UMLRM0066 Drácula\n",
      "UMLRM0069 Dracula‎\n",
      "UMLRM0072 Bram Stoker\n",
      "UMLRM0077 Dracula¤suivi de L'invité de Dracula\n",
      "UMLRM0080 Bram Stoker's Dracula\n",
      "UMLRM0083  \"Dracula\"\n",
      "UMLRM0086 Dracula\n",
      "UMLRM0089 Le vampire au fil des siècles\n",
      "UMLRM0092 Nosferatu\n",
      "UMLRM0095 Nosferatu\n",
      "UMLRM0101 Nosferatu\n",
      "UMLRM0104 Nosferatu\n",
      "UMLRM0107 Dracula has risen from the grave‎\n",
      "UMLRM0110 Dracula\n",
      "UMLRM0113  Bram Stoker’s Dracula\n",
      "UMLRM0116 Dracula l'immortel\n",
      "UMLRM0119 Dracula l'immortel\n",
      "UMLRM0122  Dracula, mort et heureux de l’être\n",
      "UMLRM0128 Bram Stoker’s notes for “Dracula “\n",
      "UMLRM0131 L'ombre du vampire\n",
      "UMLRM0134 Max Schreck\n",
      "UMLRM0137 Dracula\n",
      "UMLRM0140 [Maquette de décor en volume pour \"Nosferatu\"]\n",
      "UMLRM0158 Dracula\n",
      "UMLRM0160 Dracula\n",
      "UMLRM0168 Guy Maddin\n",
      "UMLRM0171 Dracula, pages tirées du journal d’une vierge, un film de Guy Maddin\n",
      "UMLRM0173 Dracula\n",
      "UMLRM0176 Les grands classiques du cinéma allemand\n",
      "UMLRM0177 Dracula\n",
      "UMLRM0178 Dracula\n",
      "UMLRM0179 Dracula\n",
      "UMLRM0182  Dracula et les femmes\n",
      "UMLRM0185 L'ombre du vampire\n",
      "UMLRM0188 Dracula\n",
      "UMLRM0190 Mel Brooks\n",
      "UMLRM0193 Dracula\n",
      "UMLRM0197 Bibliographie de Dracula\n",
      "UMLRM0199 Dictionnaire des littératures vampiriques\n"
     ]
    }
   ],
   "source": [
    "for el in manifs:\n",
    "    print(el.id, el.label)"
   ]
  },
  {
   "cell_type": "markdown",
   "metadata": {},
   "source": [
    "# Oeuvres expressions\n",
    "\n",
    "Liste des titres\n",
    "\n",
    "## Distinguer oeuvres et expressions\n",
    "\n",
    "Label pos.9 permet de distinguer oeuvres et expressions : valeurs h / t (auteur-titre, ou titre seul) \n",
    "\n",
    "Zone 154 $a pos1 : a = oeuvre ; b = expression ; x = ne s'applique pas\n",
    "\n",
    "Point d'accès\n",
    "* 231 pour les oeuvres\n",
    "* 232 pour les expressions"
   ]
  },
  {
   "cell_type": "code",
   "execution_count": 85,
   "metadata": {},
   "outputs": [
    {
     "name": "stdout",
     "output_type": "stream",
     "text": [
      "UMLRM0001 $a vide, $7 ba0yba0y $8 freger $t Nosferatu, eine Symphonie des Grauens $c film\n",
      "UMLRM0002 Nosferatu, eine Symphonie des Grauens\n",
      "UMLRM0004 Stoker, Bram (1847-1912)\n",
      "UMLRM0005 Stoker, Bram (1847-1912)\n",
      "UMLRM0007  Nosferatu, Phantom der Nacht\n",
      "UMLRM0008 Nosferatu, Phantom der Nacht\n",
      "UMLRM0010 Palma, Paola (1971-….)¤Vezyroglou, Dimitri (1970-….)\n",
      "UMLRM0011 Palma, Paola (1971-….)¤Vezyroglou, Dimitri (1970-….)\n",
      "UMLRM0013 Jean-Claude Gallotta, Nosferatu, ballet de l'Opéra\n",
      "UMLRM0014 Jean-Claude Gallotta, Nosferatu, ballet de l'Opéra\n",
      "UMLRM0020 Stoker, Bram (1847-1912)\n",
      "UMLRM0031 Stoker, Bram (1847-1912)\n",
      "UMLRM0032 Stoker, Bram (1847-1912)\n",
      "UMLRM0034 Humphries, Tudor (1953-….)\n",
      "UMLRM0035 Humphries, Tudor (1953-….)\n",
      "UMLRM0037 Stoker, Bram (1847-1912)\n",
      "UMLRM0038 Stoker, Bram (1847-1912)\n",
      "UMLRM0041 Stoker, Bram (1847-1912)\n",
      "UMLRM0047 Stoker, Bram (1847-1912)\n",
      "UMLRM0050 Stoker, Bram (1847-1912)\n",
      "UMLRM0053 Stoker, Bram (1847-1912)\n",
      "UMLRM0056 Stoker, Bram (1847-1912)\n",
      "UMLRM0059 Stoker, Bram (1847-1912)\n",
      "UMLRM0065 Stoker, Bram (1847-1912)\n",
      "UMLRM0068 Stoker, Bram (1847-1912)\n",
      "UMLRM0070 Belford, Barbara\n",
      "UMLRM0071 Belford, Barbara\n",
      "UMLRM0075 Stoker, Bram (1847-1912)\n",
      "UMLRM0076 Stoker, Bram (1847-1912)\n",
      "UMLRM0078 Bram Stoker's Dracula\n",
      "UMLRM0079 Bram Stoker's Dracula\n",
      "UMLRM0081 \"Dracula\" : l'oeuvre de Bram Stoker et le film de Francis F. Coppola\n",
      "UMLRM0082 \"Dracula\" : l'oeuvre de Bram Stoker et le film de Francis F. Coppola\n",
      "UMLRM0084 Cazacu, Matei (1946-....)\n",
      "UMLRM0085 Cazacu, Matei (1946-....)\n",
      "UMLRM0087 Valls de Gomis, Estelle (1973-...)\n",
      "UMLRM0088 Valls de Gomis, Estelle (1973-...)\n",
      "UMLRM0090 Nosferatu, the wrath of Malachi\n",
      "UMLRM0091 Nosferatu, the wrath of Malachi\n",
      "UMLRM0099 Druillet, Philippe (1944-....)\n",
      "UMLRM0100 Druillet, Philippe (1944-....)\n",
      "UMLRM0105 Dracula has risen from the grave\n",
      "UMLRM0106 Dracula has risen from the grave\n",
      "UMLRM0111 Hughes, William (1964-....)\n",
      "UMLRM0112 Hughes, William (1964-....)\n",
      "UMLRM0114 Stoker, Dacre¤Holt, Ian (1964-….)\n",
      "UMLRM0115 Stoker, Dacre¤Holt, Ian (1964-….)\n",
      "UMLRM0117 Dufranne, Michel (1970-....)¤Kowalski, Piotr (1973-....)\n",
      "UMLRM0118 Dufranne, Michel (1970-....)¤Kowalski, Piotr (1973-....)\n",
      "UMLR0120 Dracula, dead and loving it\n",
      "UMLRM0121 ¤UMLRM0126¤UMLRM0127 Dracula, dead and loving it, Stoker, Bram (1847-1912), Stoker, Bram (1847-1912)\n",
      "UMLRM0129 Shadow of the vampire\n",
      "UMLRM0130 Shadow of the vampire\n",
      "UMLRM0132 Eickhoff, Stefan\n",
      "UMLRM0133 Eickhoff, Stefan\n",
      "UMLRM0135 Dracula: pages from a virgin's diary\n",
      "UMLRM0136 Dracula : pages from a virgin's diary\n",
      "UMLRM0138 Jeanneteau, Daniel (1963-....)¤Deratte, Laure (19..-....)\n",
      "UMLRM0139 Jeanneteau, Daniel (1963-....)¤Deratte, Laure (19..-....)\n",
      "UMLRM0141 Valls de Gomis, Estelle (1973-...)\n",
      "UMLRM0142 Gallotta, Jean-Claude (1950-....)\n",
      "UMLRM0143 Dusapin, Pascal (1955-....)\n",
      "UMLRM0144 Dusapin, Pascal (1955-....)\n",
      "UMLRM0145 Dusapin, Pascal (1955-....)\n",
      "UMLRM0146 Dusapin, Pascal (1955-....)\n",
      "UMLRM0147 Nosferatu\n",
      "UMLRM0148 Nosferatu\n",
      "UMLRM0149 Finné, Jacques (1944-….)¤Marigny, Jean (1939-....)\n",
      "UMLRM0150 Druillet, Philippe (1944-....)\n",
      "UMLRM0151 Druillet, Philippe (1944-....)\n",
      "UMLRM0152 [Photographies extraites du film \"Dracula\" de Tod Browning]\n",
      "UMLRM0153 [Photographies extraites du film « Dracula » de Tod Browning]\n",
      "UMLRM0154 Dracula\n",
      "UMLRM0155 Deane, Hamilton (1879-1958)¤Balderston, John L. (1889-1954)\n",
      "UMLRM0156 Glass, Philip (1937-....)\n",
      "UMLRM0157 Glass, Philip (1937-....)\n",
      "UMLRM0159 Dracula\n",
      "UMLRM0161 Humphries, Tudor (1953-….)\n",
      "UMLRM0162 Drácula\n",
      "UMLRM0163 Drácula\n",
      "UMLRM0164 Godden, Mark\n",
      "UMLRM0165 Mahler, Gustav (1860-1911)\n",
      "UMLRM0166 Guy Maddin\n",
      "UMLRM0167 Guy Maddin\n",
      "UMLRM0169 Gauriat, Vincent\n",
      "UMLRM0170 Gauriat, Vincent\n",
      "UMLRM0172 Stoker, Bram (1847-1912)\n",
      "UMLRM0174 Les grands classiques du cinéma allemand\n",
      "UMLRM0175 Les grands classiques du cinéma allemand\n",
      "UMLRM0180 Dracula\n",
      "UMLRM0181 $a vide, \n",
      "UMLRM0184 Shadow of the vampire\n",
      "UMLRM0186 Dufranne, Michel (1970-....)¤Kowalski, Piotr (1973-....)\n",
      "UMLRM0187 Stoker, Bram (1847-1912)\n",
      "UMLRM0189 Dracula, dead and loving it\n",
      "UMLRM0191 Dracula\n",
      "UMLRM0192 Dracula\n",
      "UMLRM0194 The Mercury theatre on the air\n",
      "UMLRM0195 Finné, Jacques (1944-….)\n",
      "UMLRM0196 Finné, Jacques (1944-….)\n",
      "UMLRM0198 Finné, Jacques (1944-….)¤Marigny, Jean (1939-....)\n"
     ]
    }
   ],
   "source": [
    "for el in oeuvres_expr:\n",
    "    print(el.id, el.label)"
   ]
  },
  {
   "cell_type": "code",
   "execution_count": null,
   "metadata": {},
   "outputs": [],
   "source": []
  }
 ],
 "metadata": {
  "kernelspec": {
   "display_name": "Python 3",
   "language": "python",
   "name": "python3"
  },
  "language_info": {
   "codemirror_mode": {
    "name": "ipython",
    "version": 3
   },
   "file_extension": ".py",
   "mimetype": "text/x-python",
   "name": "python",
   "nbconvert_exporter": "python",
   "pygments_lexer": "ipython3",
   "version": "3.8.3"
  }
 },
 "nbformat": 4,
 "nbformat_minor": 4
}
