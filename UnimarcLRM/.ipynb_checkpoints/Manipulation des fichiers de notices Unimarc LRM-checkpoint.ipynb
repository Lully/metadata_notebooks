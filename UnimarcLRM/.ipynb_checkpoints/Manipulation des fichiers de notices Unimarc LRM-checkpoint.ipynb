{
 "cells": [
  {
   "cell_type": "markdown",
   "metadata": {},
   "source": [
    "# Introduction\n",
    "\n",
    "Suite à la publication de 340 notices d'entités LRM par le groupe Systèmes et Données https://zenodo.org/record/7358799 voici un ensemble de scripts pour visualiser un peu leur contenu\n",
    "\n",
    "Les données diffusées en iso2709 ont été converties en MarcXML pour faciliter les traitements.\n",
    "\n",
    "**Plan**\n",
    " * [Objectifs](#Objectifs)\n",
    "\n",
    "\n",
    " * **[A la découverte des données](#A-la-d%C3%A9couverte-des-donn%C3%A9es)**\n",
    "   * [Chargement des données initiales](#Chargement-des-donn%C3%A9es-initiales)\n",
    "     * [Fonctions d'extraction](#Fonctions-d'extraction)\n",
    "       * [Zones de liens entre entités OEMI](#Zones-de-liens-entre-entit%C3%A9s-OEMI)\n",
    "       * [Classes et fonctions](#Classes-et-fonctions)\n",
    "   * [Initialisation des entités](#Initialisation-des-entit%C3%A9s)\n",
    "   * [Les dictionnaires utiles](#Les-dictionnaires-utiles)\n",
    "     * [Dictionnaire ID > entité complète](#Dictionnaire-ID-%3E-entit%C3%A9-compl%C3%A8te)\n",
    "     * [Dictionnaire Manif > Item](#Dictionnaire-Manif-%3E-Items)\n",
    "\n",
    "\n",
    " * **[Les entités](#Les-entit%C3%A9s)**\n",
    "   * [Les manifestations](#Les-manifestations)\n",
    "     * [Liens dans les manifs](#Liens-dans-les-manifestations)\n",
    "     * [Liste des manifs et liens aux expressions](#Liste-des-manifs-et-liens-aux-expressions)\n",
    "   * [Les expressions](#Les-expressions)\n",
    "     * [Liste des expressions et liens aux oeuvres](#Liste-des-expressions-et-liens-aux-oeuvres)\n",
    "\n",
    "\n",
    " * **[Visualisation en graphe](#Visualisation-en-graphe)**\n",
    "   * [Générer un graphe Gephi](#G%C3%A9n%C3%A9rer-un-graphe-Gephi)\n",
    "   * [Avec GraphViz](#Avec-GraphViz)\n",
    "\n",
    "\n",
    " * [Coquilles rencontrées](#Coquilles-rencontrées)"
   ]
  },
  {
   "cell_type": "code",
   "execution_count": 4,
   "metadata": {},
   "outputs": [],
   "source": [
    "# Déclaration des librairies et variables globales\n",
    "\n",
    "import SRUextraction as sru # import du fichier https://github.com/Lully/bnf-sru/blob/master/SRUextraction.py\n",
    "from lxml import etree\n",
    "from string import ascii_lowercase\n",
    "import re\n",
    "from collections import defaultdict\n",
    "\n",
    "ns = {\"marc\": \"http://www.loc.gov/MARC21/slim\"}"
   ]
  },
  {
   "cell_type": "markdown",
   "metadata": {},
   "source": [
    "# Objectifs\n",
    "\n",
    "* **Contrôler les données et faire remonter d'éventuels problèmes dans leur contenu ou leur architecture**\n",
    "\n",
    "\n",
    "* **Fournir des outils pour manipuler les données**, savoir ce qu'elles contiennent. Cela passe par construire un \"objet\" (Python) intermédiaire pour chaque entité, doté de plusieurs attributs, à savoir :\n",
    "  * un point d'accès et/ou un label\n",
    "  * le contenu intégral de la notice\n",
    "  * la liste des liens vers d'autres entités (avec identifiant et point d'accès)\n",
    "\n",
    "\n",
    "* **proposer une visualisation pour une entité donnée** :\n",
    "  * métadonnées simples\n",
    "  * métadonnées enrichies des entités en liens\n",
    "  * graphe de liens vers les entités OEMI et autres\n",
    "  \n",
    "\n",
    "* **proposer une visualisation pour l'ensemble des données** si cela s'avère pertinent\n",
    "  \n",
    "  \n",
    "* **donner à voir les liens autres que les seuls arbres OEMI** : adaptations ou autres\n",
    "\n",
    "\n",
    "* **Proposer une simulation d'un moteur de recherche** qui, pour un terme donné, renvoie une liste de résultats. Cela permet de réfléchir à \n",
    "  * l'affichage des résultats : quelles informations afficher ? (en imaginant un double affichage simple / détaillé)\n",
    "  * l'intégration de méatdonnées des entités en lien dans le résultat affiché (pour qu'une recherche puisse s'effectuer à la fois sur des métadonnées de manifestation et d'oeuvre, par exemple)"
   ]
  },
  {
   "cell_type": "markdown",
   "metadata": {},
   "source": [
    "# A la découverte des données"
   ]
  },
  {
   "cell_type": "markdown",
   "metadata": {},
   "source": [
    "## Chargement des données initiales\n",
    "\n",
    "Nom des 4 fichiers à importer (MarcXML) import des notices en 4 arbres XML"
   ]
  },
  {
   "cell_type": "code",
   "execution_count": 5,
   "metadata": {},
   "outputs": [],
   "source": [
    "manifs_filename = \"UMB_Manifestations.xml\"\n",
    "oeuvres_expressions_filename = \"UMA_Oeuvres_Expressions.xml\"\n",
    "autres_entites_filename = \"UMA_Autres_Entites_Liees.xml\"\n",
    "items_filename = \"UMH_Items.xml\""
   ]
  },
  {
   "cell_type": "markdown",
   "metadata": {},
   "source": [
    "Import des fichiers -> conversion en arbres XML"
   ]
  },
  {
   "cell_type": "code",
   "execution_count": 6,
   "metadata": {},
   "outputs": [],
   "source": [
    "manifs_file = etree.parse(manifs_filename)\n",
    "oeuvres_expressions_file = etree.parse(oeuvres_expressions_filename)\n",
    "autres_entites_file = etree.parse(autres_entites_filename)\n",
    "items_file = etree.parse(items_filename)"
   ]
  },
  {
   "cell_type": "markdown",
   "metadata": {},
   "source": [
    "### Fonctions d'extraction"
   ]
  },
  {
   "cell_type": "markdown",
   "metadata": {},
   "source": [
    "#### Zones de liens entre entités OEMI"
   ]
  },
  {
   "cell_type": "markdown",
   "metadata": {},
   "source": [
    "#### Classes et fonctions\n",
    "\n",
    "Import des classes d'objet Record, Item, Manifestation, Expression et Oeuvres\n",
    "\n",
    "Ce fichier contient aussi le dictionnaire `dic_id2type` : Numéro de notice > Type d'entité"
   ]
  },
  {
   "cell_type": "code",
   "execution_count": 7,
   "metadata": {},
   "outputs": [],
   "source": [
    "from Record import *"
   ]
  },
  {
   "cell_type": "markdown",
   "metadata": {},
   "source": [
    "Import d'un second fichier local avec différents dictionnaires de valeurs\n",
    "1. Codes fonction (correspondance code Unimarc à 3 chiffres > Libellé). [Source : Abes](https://documentation.abes.fr/sudoc/formats/unmb/DonneesCodees/CodesFonctions.htm#TriCode)\n",
    "2. Tags de liens entre entités\n"
   ]
  },
  {
   "cell_type": "code",
   "execution_count": 8,
   "metadata": {},
   "outputs": [],
   "source": [
    "from common_dicts import * "
   ]
  },
  {
   "cell_type": "markdown",
   "metadata": {},
   "source": [
    "Le fichier Record.py définit **une classe d'objet Record** avec 4 (ou +) sous-classes:\n",
    " * Item\n",
    " * Manif\n",
    " * Expression\n",
    " * Oeuvre\n",
    "\n",
    "Les attributs communs sont \n",
    " * l'identifiant : **.id**\n",
    " * le type d'entité : **.type**\n",
    " * la notice en XML et en texte : **.xml** et **.txt**\n",
    " * un \"label\" (pas tout à fait un point d'accès en bonne et due forme) : **.label**\n",
    " * les statistiques des zones et sous-zones (dictionnaire) : **.stats_zones**\n",
    " * les liens aux mentions de responsabilités (dictionnaire) : **.resp**\n",
    "\n",
    "Chaque entité a en plus un attribut listant (dictionnaire) la ou les entités supérieures auxquelles elle est liée : \n",
    " * items : **.toManifs**\n",
    " * manifs : **.toExpressions**\n",
    " * expressions : **.toOeuvres**"
   ]
  },
  {
   "cell_type": "markdown",
   "metadata": {},
   "source": [
    "# Initialisation des entités\n",
    "\n",
    "On transforme les notices présentes dans les fichiers XML en objets de classes Item, Manif, Expression et Oeuvre telles que définies ci-dessus"
   ]
  },
  {
   "cell_type": "code",
   "execution_count": 9,
   "metadata": {},
   "outputs": [],
   "source": [
    "manifs = [Manifestation(manif, \"m\") for manif in manifs_file.xpath(\".//marc:record\", namespaces=ns)]\n",
    "oeuvres_expr = [Record(oe, \"oe\") for oe in oeuvres_expressions_file.xpath(\".//marc:record\", namespaces=ns)] \n",
    "items = [Item(oe, \"i\") for oe in items_file.xpath(\".//marc:record\", namespaces=ns)] \n",
    "\n",
    "oeuvres = []\n",
    "expressions = []\n",
    "oeuvres_or_expressions  =[]\n",
    "for entity in oeuvres_expr:\n",
    "    if entity.type == \"o\":\n",
    "        oeuvre = Oeuvre(entity.xml, entity.init_type)\n",
    "        oeuvres.append(oeuvre)\n",
    "        \n",
    "    elif entity.type == \"e\":\n",
    "        expression = Expression(entity.xml, entity.init_type)\n",
    "        expressions.append(expression)\n",
    "    else:\n",
    "        oeuvres_or_expressions.append(entity)"
   ]
  },
  {
   "cell_type": "markdown",
   "metadata": {},
   "source": [
    "On peut donc désormais appeler manipuler les informations présentes dans ces entités : on dispose de 4 listes (items, manifs, oeuvres, expressions) \n",
    "\n",
    "par exemple, pour la liste des manifestations avec leur identifiant et leur label, écrire :\n",
    "\n",
    "```for manif in manifs:\n",
    "    print(manif.id, manif.label)```"
   ]
  },
  {
   "cell_type": "markdown",
   "metadata": {},
   "source": [
    "Vous pouvez aussi vous demander à quoi ressemble une notice d'item en Unimarc, en affichant un des items de la liste `items`:\n",
    "\n",
    "`print(items[0].txt)`\n",
    "\n",
    "ou le 2e : \n",
    "\n",
    "`print(item[1]).txt`"
   ]
  },
  {
   "cell_type": "markdown",
   "metadata": {},
   "source": [
    "## Les dictionnaires utiles\n",
    "\n",
    "Ensemble de dictionnaires permettant de naviguer dans les entités à partir d'un élément d'information"
   ]
  },
  {
   "cell_type": "markdown",
   "metadata": {},
   "source": [
    "### Dictionnaire ID > entité complète\n",
    "\n",
    "A partir de l'identifiant (numéro de notice) on récupère l'entité de classe Item, Manif, Expression ou Oeuvre (au sens des classes définies dans le code ci-dessus"
   ]
  },
  {
   "cell_type": "code",
   "execution_count": 10,
   "metadata": {},
   "outputs": [],
   "source": [
    "dict_entities = {}\n",
    "for entity in items + manifs + expressions + oeuvres:\n",
    "    dict_entities[entity.id] = entity"
   ]
  },
  {
   "cell_type": "markdown",
   "metadata": {},
   "source": [
    "### Dictionnaire Manif > Items\n",
    "\n",
    "Chaque notice contient des liens vers l'entité \"supérieure\" dans l'arbre FRBR. Mais les liens inverses peuvent être utiles.\n",
    "\n",
    "On en profite pour récupérer les points d'accès des manifs dans les liens Item > Manif (au sein de l'item)"
   ]
  },
  {
   "cell_type": "code",
   "execution_count": 11,
   "metadata": {},
   "outputs": [
    {
     "name": "stdout",
     "output_type": "stream",
     "text": [
      "Manifestation UMLRM0060 mentionnée dans l'item UMLRM1019 mais absente du fichier des manifestations\n",
      "Manifestation UMLRM0098 mentionnée dans l'item UMLRM1031 mais absente du fichier des manifestations\n",
      "Manifestation UMLRM0122 mentionnée dans l'item UMLRM1039 mais absente du fichier des manifestations\n",
      "Manifestation UMLRM0125 mentionnée dans l'item UMLRM1040 mais absente du fichier des manifestations\n"
     ]
    }
   ],
   "source": [
    "dict_manif2item = defaultdict(list)\n",
    "for item in items:\n",
    "    for manif in item.toManifs:\n",
    "        try:\n",
    "            manif_accesspoint = dict_entities[manif].label\n",
    "        except KeyError:\n",
    "            print(\"Manifestation\", manif, f\"mentionnée dans l'item {item.id} mais absente du fichier des manifestations\")\n",
    "        item.toManifs[manif] = manif_accesspoint\n",
    "        dict_manif2item[manif].append(item.id)\n",
    "        "
   ]
  },
  {
   "cell_type": "markdown",
   "metadata": {},
   "source": [
    "# Les entités"
   ]
  },
  {
   "cell_type": "markdown",
   "metadata": {},
   "source": [
    "## Les items"
   ]
  },
  {
   "cell_type": "code",
   "execution_count": 12,
   "metadata": {},
   "outputs": [
    {
     "name": "stdout",
     "output_type": "stream",
     "text": [
      "Nombre d'items :  57\n"
     ]
    }
   ],
   "source": [
    "print(\"Nombre d'items : \", len(items))"
   ]
  },
  {
   "cell_type": "markdown",
   "metadata": {},
   "source": [
    "Liste des numéros de notices d'item"
   ]
  },
  {
   "cell_type": "code",
   "execution_count": 13,
   "metadata": {},
   "outputs": [
    {
     "name": "stdout",
     "output_type": "stream",
     "text": [
      "['UMLRM1000', 'UMLRM1001', 'UMLRM1002', 'UMLRM1003', 'UMLRM1004', 'UMLRM1005', 'UMLRM1006', 'UMLRM1007', 'UMLRM1008', 'UMLRM1009', 'UMLRM1010', 'UMLRM1011', 'UMLRM1012', 'UMLRM1013', 'UMLRM1014', 'UMLRM1015', 'UMLRM1016', 'UMLRM1017', 'UMLRM1018', 'UMLRM1019', 'UMLRM1020', 'UMLRM1021', 'UMLRM1022', 'UMLRM1023', 'UMLRM1024', 'UMLRM1025', 'UMLRM1026', 'UMLRM1027', 'UMLRM1028', 'UMLRM1029', 'UMLRM1030', 'UMLRM1031', 'UMLRM1032', 'UMLRM1033', 'UMLRM1034', 'UMLRM1035', 'UMLRM1036', 'UMLRM1037', 'UMLRM1038', 'UMLRM1039', 'UMLRM1040', 'UMLRM1041', 'UMLRM1042', 'UMLRM1043', 'UMLRM1044', 'UMLRM1045', 'UMLRM1046', 'UMLRM1047', 'UMLRM1048', 'UMLRM1049', 'UMLRM1050', 'UMLRM1051', 'UMLRM1052', 'UMLRM1053', 'UMLRM1054', 'UMLRM1055', 'UMLRM1056']\n"
     ]
    }
   ],
   "source": [
    "print([item.id for item in items])"
   ]
  },
  {
   "cell_type": "markdown",
   "metadata": {},
   "source": [
    "**Visualiser un item par son numéro de notice (liste ci-dessus) :**"
   ]
  },
  {
   "cell_type": "code",
   "execution_count": 14,
   "metadata": {},
   "outputs": [
    {
     "name": "stdout",
     "output_type": "stream",
     "text": [
      "Numéro d'item (exemple UMLRM1050): \n",
      "id : UMLRM1050\n",
      "type initial : i ; type : i\n",
      "label : \n",
      "\n",
      "Notice : \n",
      "000    00328na aa220012110 4500\n",
      "001    UMLRM1050\n",
      "004    UMLRM0173\n",
      "070    $a CEL_0000000051\n",
      "100    $a 20221024frey01      ba0\n",
      "170    $a aa         \n",
      "171    $a fbxxx001\n",
      "252    $a BM_CELESTEVILLE $b JEUNESSE $j COTE_UMLRM1050 $m CV0000000051\n",
      "801 0  $a FR $b Bibliothèque municipale de Célesteville \n",
      "\n",
      "XML : <Element {http://www.loc.gov/MARC21/slim}record at 0x16003524d80>\n",
      "\n",
      "Manif en lien : {'UMLRM0173': 'Dracula, Bram Stoker'}\n"
     ]
    }
   ],
   "source": [
    "itemid = input(\"Numéro d'item (exemple UMLRM1050): \")\n",
    "if itemid == \"\":\n",
    "    itemid = \"UMLRM1050\"\n",
    "print(dict_entities[itemid])"
   ]
  },
  {
   "cell_type": "code",
   "execution_count": null,
   "metadata": {},
   "outputs": [],
   "source": []
  },
  {
   "cell_type": "markdown",
   "metadata": {},
   "source": [
    "Chaque item n'est relié qu'à 1 manifestation"
   ]
  },
  {
   "cell_type": "code",
   "execution_count": 9,
   "metadata": {},
   "outputs": [
    {
     "name": "stdout",
     "output_type": "stream",
     "text": [
      "55 manifestations reliées à 1 items\n",
      "1 manifestations reliées à 2 items\n",
      "UMLRM0137 liée à 2 items\n"
     ]
    }
   ],
   "source": [
    "stats_manifs_items = defaultdict(int)\n",
    "for manif in dict_manif2item:\n",
    "    stats_manifs_items[len(dict_manif2item[manif])] += 1\n",
    "for nb_items in stats_manifs_items:\n",
    "    print(stats_manifs_items[nb_items], \"manifestations reliées à\", nb_items, \"items\")\n",
    "for manif in dict_manif2item:\n",
    "    if len(dict_manif2item[manif]) > 1:\n",
    "        print(manif, \"liée à\", len(dict_manif2item[manif]), \"items\")"
   ]
  },
  {
   "cell_type": "markdown",
   "metadata": {},
   "source": [
    "## Les manifestations\n",
    "\n",
    "Besoins : \n",
    "* pour une manifestation, récupérer les métas principales :\n",
    "  * titre, point d'accès, auteur\n",
    "  * liens aux entités Expressions (et oeuvre ?)\n",
    "* pour une manif, récupérer la liste des expressions et la liste des oeuvres (lien direct)\n",
    "  * créer des attributs à la manifs, en fournissant l'expression source pour chaque oeuvre identifié"
   ]
  },
  {
   "cell_type": "markdown",
   "metadata": {},
   "source": [
    "**Manifestations sans item**"
   ]
  },
  {
   "cell_type": "code",
   "execution_count": 10,
   "metadata": {},
   "outputs": [
    {
     "name": "stdout",
     "output_type": "stream",
     "text": [
      "Manifestation UMLRM0060   : aucun exemplaire lié\n",
      "Manifestation UMLRM0122   : aucun exemplaire lié\n",
      "Manifestation UMLRM0140  : aucun exemplaire lié\n",
      "Manifestation UMLRM0176  : aucun exemplaire lié\n",
      "Manifestation UMLRM0177  : aucun exemplaire lié\n",
      "Manifestation UMLRM0178  : aucun exemplaire lié\n",
      "Manifestation UMLRM0179  : aucun exemplaire lié\n",
      "Manifestation UMLRM0182  : aucun exemplaire lié\n"
     ]
    }
   ],
   "source": [
    "for manif in manifs:\n",
    "    if manif.id not in dict_manif2item:\n",
    "        print(\"Manifestation\", manif.id, \" : aucun exemplaire lié\")"
   ]
  },
  {
   "cell_type": "markdown",
   "metadata": {},
   "source": [
    "## Les expressions\n",
    "\n",
    "Les expressions sont présentes dans le fichier oeuvres_expressions, et distinguables les une des autres par la zone **154$a pos.1**, selon la valeur trouvée : \n",
    "* a : oeuvre\n",
    "* b : expression\n",
    "* x : autres"
   ]
  },
  {
   "cell_type": "code",
   "execution_count": 11,
   "metadata": {},
   "outputs": [
    {
     "name": "stdout",
     "output_type": "stream",
     "text": [
      "Nombre d'expressions :  51\n"
     ]
    }
   ],
   "source": [
    "print(\"Nombre d'expressions : \", len(expressions))"
   ]
  },
  {
   "cell_type": "markdown",
   "metadata": {},
   "source": [
    "### Liens Expressions > mentions de responsabilités"
   ]
  },
  {
   "cell_type": "code",
   "execution_count": 12,
   "metadata": {},
   "outputs": [
    {
     "name": "stdout",
     "output_type": "stream",
     "text": [
      "Nombre d'expressions contenant 12 mentions de responsabilités :  1\n",
      "Nombre d'expressions contenant 33 mentions de responsabilités :  0\n",
      "Nombre d'expressions contenant 4 mentions de responsabilités :  2\n",
      "Nombre d'expressions contenant 1 mentions de responsabilités :  4\n",
      "Nombre d'expressions contenant 1 mentions de responsabilités :  10\n"
     ]
    }
   ],
   "source": [
    "stats_exp_resp = defaultdict(int)\n",
    "\n",
    "for expr in expressions:\n",
    "    stats_exp_resp[len(expr.resp)] += 1\n",
    "\n",
    "for key in stats_exp_resp:\n",
    "    print(\"Nombre d'expressions contenant\", stats_exp_resp[key], \"mentions de responsabilités : \", key)"
   ]
  },
  {
   "cell_type": "markdown",
   "metadata": {},
   "source": [
    "## Les oeuvres\n",
    "\n"
   ]
  },
  {
   "cell_type": "code",
   "execution_count": 13,
   "metadata": {},
   "outputs": [
    {
     "name": "stdout",
     "output_type": "stream",
     "text": [
      "Nombre d'oeuvres :  50\n"
     ]
    }
   ],
   "source": [
    "print(\"Nombre d'oeuvres : \", len(oeuvres))"
   ]
  },
  {
   "cell_type": "markdown",
   "metadata": {},
   "source": [
    "## Les entités du fichier oeuvres-expressions non typées"
   ]
  },
  {
   "cell_type": "code",
   "execution_count": 14,
   "metadata": {},
   "outputs": [
    {
     "name": "stdout",
     "output_type": "stream",
     "text": [
      "0 entités du fichier UMA_Oeuvres_Expressions.xml non typées Oeuvre ou Expression.\n"
     ]
    }
   ],
   "source": [
    "print(len([oe for oe in oeuvres_expr if oe.type == \"x\"]), \n",
    "          f\"entités du fichier {oeuvres_expressions_filename} non typées Oeuvre ou Expression.\")\n"
   ]
  },
  {
   "cell_type": "markdown",
   "metadata": {},
   "source": [
    "# Relations entre entités\n",
    "\n",
    "Note (non exploitable informatiquement) 370\n"
   ]
  },
  {
   "cell_type": "markdown",
   "metadata": {},
   "source": [
    "## Codes fonctions"
   ]
  },
  {
   "cell_type": "code",
   "execution_count": 15,
   "metadata": {},
   "outputs": [
    {
     "name": "stdout",
     "output_type": "stream",
     "text": [
      "Entité e - Adaptateur\n",
      "Entité e - Chef d'orchestre\n",
      "Entité e - Compositeur\n",
      "Entité e - Danseur\n",
      "Entité e - Ensemble de cordes\n",
      "Entité e - Musicien\n",
      "Entité e - Narrateur\n",
      "Entité e - Producteur\n",
      "Entité e - Traducteur\n",
      "Entité e - Voix parlée\n",
      "Entité m - Auteur du commentaire\n",
      "Entité m - Commentateur\n",
      "Entité m - Distributeur\n",
      "Entité m - Illustrateur\n",
      "Entité m - Imprimeur\n",
      "Entité m - Intervieweur\n",
      "Entité m - Metteur en scène ou réalisateur\n",
      "Entité m - Personne interviewée\n",
      "Entité m - Préfacier, etc.\n",
      "Entité m - Éditeur commercial\n",
      "Entité m - Éditeur scientifique\n",
      "Entité o - Acteur\n",
      "Entité o - Adaptateur\n",
      "Entité o - Artiste\n",
      "Entité o - Auteur\n",
      "Entité o - Chorégraphe\n",
      "Entité o - Collaborateur\n",
      "Entité o - Compositeur\n",
      "Entité o - Danseur\n",
      "Entité o - Directeur artistique\n",
      "Entité o - Directeur de la recherche\n",
      "Entité o - Directeur de publication\n",
      "Entité o - Dédicataire\n",
      "Entité o - Illustrateur\n",
      "Entité o - Membre de l'équipe de production\n",
      "Entité o - Metteur en scène ou réalisateur\n",
      "Entité o - Narrateur\n",
      "Entité o - Organisme de soutenance\n",
      "Entité o - Producteur\n",
      "Entité o - Producteur de phonogramme\n",
      "Entité o - Programmeur\n",
      "Entité o - Scénariste\n",
      "Entité o - Technicien graphique\n",
      "Entité o - Éditeur scientifique\n"
     ]
    }
   ],
   "source": [
    "liste_roles = set()\n",
    "for e in manifs + expressions + oeuvres:\n",
    "    for r in e.resp:\n",
    "        for role in e.resp[r]:\n",
    "            liste_roles.add(f\"Entité {e.type} - {role}\")\n",
    "for el in sorted(liste_roles):\n",
    "    print(el)"
   ]
  },
  {
   "cell_type": "markdown",
   "metadata": {},
   "source": [
    "## Liens dans les manifs"
   ]
  },
  {
   "cell_type": "markdown",
   "metadata": {},
   "source": [
    "### Liens manif > expression"
   ]
  },
  {
   "cell_type": "code",
   "execution_count": 16,
   "metadata": {},
   "outputs": [
    {
     "name": "stdout",
     "output_type": "stream",
     "text": [
      "*** Liens aux Expressions ***\n",
      "507 point d'accès autorisé Titre (manifestation pointant vers expression)\n",
      "577 point d'accès autorisé Auteur-Titre (manifestation pointant vers expression)\n"
     ]
    }
   ],
   "source": [
    "print(\"*** Liens aux Expressions ***\")\n",
    "for lien in tags_manif2expressions:\n",
    "    print(lien, tags_manif2expressions[lien])"
   ]
  },
  {
   "cell_type": "markdown",
   "metadata": {},
   "source": [
    "* Chaque manifestation a un attribut **.toExpression** qui est un dictionnaire :\n",
    "  * clé : numéro de notice d'expression\n",
    "  * valeur : point d'accès (sans les dollars)"
   ]
  },
  {
   "cell_type": "markdown",
   "metadata": {},
   "source": [
    "**Liste des manifestations et liens aux expressions**"
   ]
  },
  {
   "cell_type": "code",
   "execution_count": 17,
   "metadata": {},
   "outputs": [
    {
     "name": "stdout",
     "output_type": "stream",
     "text": [
      "\n",
      " UMLRM0003 Nosferatu, Réalisation Friedrich W. Murnau\n",
      "    ∟-----Expr-- ULRM0002 Nosferatu, eine Symphonie des Grauens, film, Version restaurée, 60mn, 1995, Français\n",
      "\n",
      " UMLRM0006 Dracula, Bram Stoker\n",
      "    ∟-----Expr-- UMLRM0005 Stoker, Bram (1847-1912), Dracula, Anglais, Texte noté\n",
      "\n",
      " UMLRM0009  Nosferatu, fantôme de la nuit,  un film de Werner Herzog\n",
      "    ∟-----Expr-- UMLRM0008 Nosferatu, Phantom der Nacht, film, français\n",
      "\n",
      " UMLRM0012 \"Nosferatu le vampire\", Paola Palma, Dimitri Vezyroglou\n",
      "    ∟-----Expr-- UMLRM0011 Palma, Paola (1971-….), Vezyroglou, Dimitri (1970-….), \"Nosferatu le vampire\", Français, Texte noté\n",
      "\n",
      " UMLRM0015 Jean-Claude Gallotta, Nosferatu, ballet de l'Opéra,  Opéra national de Paris\n",
      "    ∟-----Expr--  UMLRM0015 Jean-Claude Gallotta, Nosferatu, ballet de l'Opéra, programme, 2006-05, Texte noté. Image fixe\n",
      "\n",
      " UMLRM0018 Dracula, by Bram Stoker\n",
      "    ∟-----Expr-- UMLRM0005 Stoker, Bram (1847-1912), Dracula, Anglais, Texte noté\n",
      "\n",
      " UMLRM0021  Dracula,  Bram Stoker\n",
      "    ∟-----Expr-- UMLRM0020 Stoker, Bram (1847-1912), Dracula, Français, Molitor, Texte noté\n",
      "\n",
      " UMLRM0024 Dracula, Bram Stoker\n",
      "    ∟-----Expr-- UMLRM0020 Stoker, Bram (1847-1912), Dracula, Français, Molitor, Texte noté\n",
      "\n",
      " UMLRM0027 Dracula, Bram Stoker\n",
      "    ∟-----Expr-- UMLRM0020  Stoker, Bram (1847-1912), Dracula, Français, Molitor, Texte noté\n",
      "\n",
      " UMLRM0030 Dracula, Bram Stoker\n",
      "    ∟-----Expr-- UMLRM0020 Stoker, Bram (1847-1912), Dracula, Français, Molitor, Texte noté\n",
      "\n",
      " UMLRM0033 Dracula, Bram Stoker\n",
      "    ∟-----Expr-- UMLRM0032 Stoker, Bram (1847-1912), Dracula, Choix, Bruneel-Ziane, Français, Molitor, Texte noté\n",
      "\n",
      " UMLRM0036 Dracula, d'après Bram Stoker\n",
      "    ∟-----Expr-- UMLRM0035 Humphries, Tudor (1953-….), Dracula, Français, Texte noté. Image fixe\n",
      "\n",
      " UMLRM0039 Dracula, Bram Stoker\n",
      "    ∟-----Expr-- UMLRM0038 Stoker, Bram (1847-1912), Dracula, Choix, Cassou-Noguès ; Langenhagen, Français, Finné, Texte noté, 2006\n",
      "\n",
      " UMLRM0042  Dracula, Bram Stoker\n",
      "    ∟-----Expr-- UMLRM0041 Stoker, Bram (1847-1912), Dracula, Français, Sirgent, Texte noté\n",
      "\n",
      " UMLRM0045 Dracula, Bram Stoker\n",
      "    ∟-----Expr-- UMLRM0041 Stoker, Bram (1847-1912), Dracula, Français, Sirgent, Texte noté\n",
      "\n",
      " UMLRM0048 Dracula, Bram Stoker\n",
      "    ∟-----Expr-- UMLRM0047 Stoker, Bram (1847-1912), Dracula, Choix, Cassou-Noguès ; Langenhagen, Français, Finné, Texte noté, 2017\n",
      "\n",
      " UMLRM0051 Dracula, Bram Stoker\n",
      "    ∟-----Expr-- UMLRM0050 Stoker, Bram (1847-1912), Dracula, Français, Finné, Texte noté\n",
      "\n",
      " UMLRM0054 Dracula, Bram Stoker\n",
      "    ∟-----Expr-- UMLRM0053 Stoker, Bram (1847-1912), Dracula, Version abrégée, Chichportiche, Français, Texte noté\n",
      "\n",
      " UMLRM0057 Dracula, Brahm Stoker\n",
      "    ∟-----Expr-- UMLRM0056 Stoker, Bram (1847-1912), Dracula, Français, Paul-Margueritte, Texte noté\n",
      "\n",
      " UMLRM0060  Dracula, Brahm Stoker\n",
      "    ∟-----Expr-- UMLRM0059 Stoker, Bram (1847-1912), Dracula, Français, Paul-Margueritte, Version abrégée, Texte noté\n",
      "    ∟-----Expr-- UMLRM0153 [Photographies extraites du film « Dracula » de Tod Browning], Tallandier, 1932, Image fixe\n",
      "\n",
      " UMLRM0063 Dracula, Bram Stoker\n",
      "    ∟-----Expr-- UMLRM0056 Stoker, Bram (1847-1912), Dracula, Français, Paul-Margueritte, Texte noté\n",
      "\n",
      " UMLRM0066 Drácula, Bram Stoker\n",
      "    ∟-----Expr-- UMLRM0065 Stoker, Bram (1847-1912), Dracula, Espagnol, Texte noté\n",
      "\n",
      " UMLRM0069 Dracula‎, Bram Stoker‎\n",
      "    ∟-----Expr-- UMLRM0068 Stoker, Bram (1847-1912), Dracula, Français, Molitor, Version abrégée, Moissard, Texte noté\n",
      "\n",
      " UMLRM0072 Bram Stoker, Barbara Belford\n",
      "    ∟-----Expr-- UMLRM0071 Belford, Barbara, Bram Stoker : a biography of the author of \"Dracula\", Anglais, Texte noté\n",
      "\n",
      " UMLRM0077 Dracula¤suivi de L'invité de Dracula, Bram Stoker\n",
      "    ∟-----Expr-- UMLRM0050 Stoker, Bram (1847-1912), Dracula, Français, Finné, Texte noté\n",
      "    ∟-----Expr-- UMLRM0076 Stoker, Bram (1847-1912), Dracula’s guest, Français, Finné, Texte noté\n",
      "\n",
      " UMLRM0080 Bram Stoker's Dracula, Gary Oldman, Winona Ryder, Anthony Hopkins... [et autres], [acteurs]\n",
      "    ∟-----Expr-- UMLRM0079 Bram Stoker's Dracula, film, Anglais\n",
      "\n",
      " UMLRM0083  \"Dracula\", ouvrage dirigé par Gilles Menegaldo et Dominique Sipière\n",
      "    ∟-----Expr-- UMLRM0082 \"Dracula\" : l'oeuvre de Bram Stoker et le film de Francis F. Coppola, Français-Anglais, Texte noté\n",
      "\n",
      " UMLRM0086 Dracula, Matei Cazacu\n",
      "    ∟-----Expr-- UMLRM0085 Cazacu, Matei (1946-....), Dracula, Français, Texte noté\n",
      "\n",
      " UMLRM0089 Le vampire au fil des siècles, Estelle Valls de Gomis\n",
      "    ∟-----Expr-- UMLRM0088 Valls de Gomis, Estelle (1973-...), Le vampire au fil des siècles : enquête autour d'un mythe, Français, Texte noté\n",
      "\n",
      " UMLRM0092 Nosferatu, Idol FX AB, Pan vision\n",
      "    ∟-----Expr-- UMLRM0091 Nosferatu, the wrath of Malachi, jeu vidéo, PC, Français\n",
      "\n",
      " UMLRM0095 Nosferatu, Idol FX AB, Pan vision\n",
      "    ∟-----Expr-- UMLRM0091 Nosferatu, the wrath of Malachi, jeu vidéo, PC, Français\n",
      "\n",
      " UMLRM0101 Nosferatu, [texte et dessins de] Druillet\n",
      "    ∟-----Expr-- UMLRM100 Druillet, Philippe (1944-….), Nosferatu, Français, Texte noté. Image fixe\n",
      "\n",
      " UMLRM0104 Nosferatu, Druillet\n",
      "    ∟-----Expr-- UMLRM100 Druillet, Philippe (1944-….), Nosferatu, Français, Texte noté. Image fixe\n",
      "\n",
      " UMLRM0107 Dracula has risen from the grave‎, starring Christopher Lee, Rupert Davies\n",
      "    ∟-----Expr-- UMLRM0106 Dracula has risen from the grave, film, Anglais\n",
      "\n",
      " UMLRM0110 Dracula, Bram Stoker\n",
      "    ∟-----Expr-- UMLRM0020 Stoker, Bram (1847-1912), Dracula, Français, Molitor, Texte noté\n",
      "    ∟-----Expr-- UMLRM0151 Druillet, Philippe (1944-....), Illustrations pour \"Dracula\" de Bram Stoker, Image fixe\n",
      "\n",
      " UMLRM0113  Bram Stoker’s Dracula, William Hughes\n",
      "    ∟-----Expr-- UMLRM0112 Hughes, William (1964-....), Bram Stoker’s Dracula : a reader’s guide, Anglais, Texte noté\n",
      "\n",
      " UMLRM0116 Dracula l'immortel, Dacre Stoker et Ian Holt\n",
      "    ∟-----Expr-- UMLRM0115 Stoker, Dacre, Holt, Ian (1964-….), Dracula, the un-dead, Français, Texte noté\n",
      "\n",
      " UMLRM0119 Dracula l'immortel, scénario, Michel Dufranne\n",
      "    ∟-----Expr-- UMLRM0118 Dufranne, Michel (1970-....), Kowalski, Piotr (1973-....), Dracula l’immortel, 2, Français, Texte noté. Image fixe\n",
      "\n",
      " UMLRM0122  Dracula, mort et heureux de l’être, un film de Mel Brooks\n",
      "    ∟-----Expr-- UMLRM0189 Dracula, dead and loving it, film, Anglais ; sous-titrage optionnel en français, 2009\n",
      "    ∟-----Expr-- UMLRM0121 Dracula, dead and loving it, film, Français, 2009\n",
      "\n",
      " UMLRM0128 Bram Stoker’s notes for “Dracula “, Bram Stoker\n",
      "    ∟-----Expr-- UMLRM0127 Stoker, Bram (1847-1912), Manuscrits, Choix, Eighteen-Bisang ; Miller, Anglais, Texte noté\n",
      "\n",
      " UMLRM0131 L'ombre du vampire, E. Elias Merhige, [réalisateur]\n",
      "    ∟-----Expr-- UMLRM0130 Shadow of the vampire, film, Français\n",
      "\n",
      " UMLRM0134 Max Schreck, Stefan Eickhoff\n",
      "    ∟-----Expr-- ULRM00133 Eickhoff, Stefan, Max Schreck : Gespenstertheater, Allemand, Texte noté\n",
      "\n",
      " UMLRM0137 Dracula, un film de Guy Maddin, [réalisateur]\n",
      "    ∟-----Expr-- UMLRM0136 Dracula : pages from a virgin's diary, film, Anglais ; sous-titrage en français\n",
      "\n",
      " UMLRM0140 [Maquette de décor en volume pour \"Nosferatu\"], [Daniel Jeanneteau et Laure Deratte]\n",
      "    ∟-----Expr-- UMLRM0139 Jeanneteau, Daniel (1963-....), Deratte, Laure (19..-....), [Maquette de décor en volume pour \"Nosferatu\"], Image fixe\n",
      "\n",
      " UMLRM0158 Dracula, music by Philip Glass\n",
      "    ∟-----Expr-- UMLRM0157 Glass, Philip (1937-....), Dracula, Musique exécutée, Kronos quartet\n",
      "\n",
      " UMLRM0160 Dracula, Tod Browning, [réalisateur]\n",
      "    ∟-----Expr-- UMLRM0159 Dracula, film, 1931, Version restaurée, Versions multiples (5 langues ; sous-titrage en 5 langues)\n",
      "    ∟-----Expr-- UMLRM0162 Drácula, film, 1931, espagnol, Version restaurée\n",
      "    ∟-----Expr-- UMLRM0157 Glass, Philip (1937-....), Dracula, Musique exécutée, Kronos quartet\n",
      "\n",
      " UMLRM0168 Guy Maddin\n",
      "    ∟-----Expr-- UMLRM0167 Guy Maddin, ED Distribution, Anglais ; sous-titrage en français, Image animée\n",
      "\n",
      " UMLRM0171 Dracula, pages tirées du journal d’une vierge, un film de Guy Maddin, [V. Gauriat]\n",
      "    ∟-----Expr-- UMLRM0170 Gauriat, Vincent, Dracula, pages tirées du journal d’une vierge, un film de Guy Maddin, Image fixe\n",
      "\n",
      " UMLRM0173 Dracula, Bram Stoker\n",
      "    ∟-----Expr-- UMLRM0172 Stoker, Bram (1847-1912), Dracula, Choix, Cassou-Noguès ; Langenhagen, Français, Finné, Texte noté, 2004\n",
      "\n",
      " UMLRM0176 Les grands classiques du cinéma allemand\n",
      "    ∟-----Expr-- UMLRM0175 Les grands classiques du cinéma allemand, RDM vidéo, Anglais, allemand, français ; sous-titrage en français, Image animée\n",
      "\n",
      " UMLRM0177 Dracula, Bram Stoker\n",
      "    ∟-----Expr-- UMLRM0161 Humphries, Tudor (1953-….), Dracula, Anglais, Texte noté. Image fixe\n",
      "\n",
      " UMLRM0178 Dracula, Bram Stoker\n",
      "    ∟-----Expr-- UMLRM0053 Stoker, Bram (1847-1912), Dracula, Version abrégée, Chichportiche, Français, Texte noté\n",
      "\n",
      " UMLRM0179 Dracula, Bram Stoker\n",
      "    ∟-----Expr-- UMLRM0053 Stoker, Bram (1847-1912), Dracula, Version abrégée, Chichportiche, Français, Texte noté\n",
      "\n",
      " UMLRM0182  Dracula et les femmes, avec Christopher Lee, Rupert Davies\n",
      "    ∟-----Expr-- UMLRM0181 Dracula has risen from the grave, film, Français\n",
      "\n",
      " UMLRM0185 L'ombre du vampire, E. Elias Merhige, [réalisateur]\n",
      "    ∟-----Expr-- UMLRM0130 Shadow of the vampire, film, Français\n",
      "    ∟-----Expr-- UMLRM0184 Shadow of the vampire, film, Anglais ; sous titrage en français\n",
      "\n",
      " UMLRM0188 Dracula, Bram Stoker\n",
      "    ∟-----Expr-- UMLRM0187 Stoker, Bram (1847-1912), Dracula, Français, Parole énoncée\n",
      "\n",
      " UMLRM0190 Mel Brooks\n",
      "    ∟-----Expr--  Robin Hood, men in tights, film, Français, 2015\n",
      "    ∟-----Expr-- UMLRM0189 Dracula, dead and loving it, film, Anglais ; sous-titrage optionnel en français, 2009\n",
      "    ∟-----Expr-- UMLRM0121 Dracula, dead and loving it, film, Français, 2009\n",
      "\n",
      " UMLRM0193 Dracula, starring Orson Welles\n",
      "    ∟-----Expr-- UMLRM0192 Dracula, émission radiophonique, 1938, Anglais, Parole énoncée. Musique exécutée=712 02, Radio spirits, Firme\n",
      "\n",
      " UMLRM0197 Bibliographie de Dracula, Jacques Finné\n",
      "    ∟-----Expr-- UMLRM0196 Finné, Jacques (1944-….), Bibliographie de Dracula, Français, Texte noté\n",
      "\n",
      " UMLRM0199 Dictionnaire des littératures vampiriques, Jacques Finné, Jean Marigny\n",
      "    ∟-----Expr-- UMLRM0198 Finné, Jacques (1944-….), Marigny, Jean (1939-....), Dictionnaire des littératures vampiriques, Français, Texte noté\n"
     ]
    }
   ],
   "source": [
    "for el in manifs:\n",
    "    print(\"\\n\", el.id, el.label)\n",
    "    for expression in el.toExpressions:\n",
    "        print(f\"    ∟{'-'*5}Expr{'-'*2}\", expression, el.toExpressions[expression])"
   ]
  },
  {
   "cell_type": "markdown",
   "metadata": {},
   "source": [
    "### Mentions de responsabilités"
   ]
  },
  {
   "cell_type": "code",
   "execution_count": 18,
   "metadata": {},
   "outputs": [
    {
     "name": "stdout",
     "output_type": "stream",
     "text": [
      "*** Liens aux mentions de responsabilités ***\n",
      "702 Lien de manifestation à une mention de responsabilité Personne\n",
      "712 Lien de manifestation à une mention de responsabilité Collectivité\n"
     ]
    }
   ],
   "source": [
    "print(\"*** Liens aux mentions de responsabilités ***\")\n",
    "for lien in tags_resp[\"m\"]:\n",
    "    print(lien, tags_resp[\"m\"][lien])"
   ]
  },
  {
   "cell_type": "markdown",
   "metadata": {},
   "source": [
    "* Chaque manifestation a un attribut **.resp** qui est un dictionnaire:\n",
    "  * clé : label de l'entité en lien\n",
    "  * valeur : liste des fonctions"
   ]
  },
  {
   "cell_type": "markdown",
   "metadata": {},
   "source": [
    "# Les expressions"
   ]
  },
  {
   "cell_type": "markdown",
   "metadata": {},
   "source": [
    "## Liste des expressions et liens aux oeuvres\n",
    "\n",
    "Chaque instance de l'entité Expression a un attribut \".toOeuvres\" qui liste sous forme de dictionnaire les liens aux oeuvres (clé : numéro de notice d'oeuvre ; valeur : point d'accès de l'oeuvre)"
   ]
  },
  {
   "cell_type": "code",
   "execution_count": 19,
   "metadata": {},
   "outputs": [
    {
     "name": "stdout",
     "output_type": "stream",
     "text": [
      "\n",
      " UMLRM0002 Nosferatu, eine Symphonie des Grauens\n",
      "    ∟----- UMLRM0175 Les grands classiques du cinéma allemand, RDM vidéo, Anglais, allemand, français ; sous-titrage en français, Image animée\n",
      "\n",
      " UMLRM0005 Stoker, Bram (1847-1912), Dracula\n",
      "    ∟----- UMLRM0056 (A pour traduction) Stoker, Bram (1847-1912), Dracula, Français, Paul-Margueritte, Texte noté\n",
      "    ∟----- UMLRM0020 (A pour traduction) Stoker, Bram (1847-1912), Dracula, Français, Molitor, Texte noté\n",
      "    ∟----- UMLRM0041 (A pour traduction) Stoker, Bram (1847-1912), Dracula, Français, Sirgent, Texte noté\n",
      "    ∟----- UMLRM0050 (A pour traduction) Stoker, Bram (1847-1912), Dracula, Français, Finné, Texte noté\n",
      "    ∟----- UMLRM0053 (Abrégé en) Stoker, Bram (1847-1912), Dracula, Version abrégée, Chicheportiche, Français, Texte noté\n",
      "\n",
      " UMLRM0008 Nosferatu, Phantom der Nacht\n",
      "\n",
      " UMLRM0011 Palma, Paola (1971-….)¤Vezyroglou, Dimitri (1970-….), \"Nosferatu le vampire\"\n",
      "\n",
      " UMLRM0014 Jean-Claude Gallotta, Nosferatu, ballet de l'Opéra\n",
      "\n",
      " UMLRM0020 Stoker, Bram (1847-1912), Dracula\n",
      "    ∟----- UMLRM0005 (Est une traduction de) Stoker, Bram (1847-1912), Dracula, Anglais, Texte noté\n",
      "    ∟----- UMLRM0068 (Abrégé en) Stoker, Bram (1847-1912), Dracula, Français, Molitor, Version abrégée, Moissard, Texte noté\n",
      "\n",
      " UMLRM0032 Stoker, Bram (1847-1912), Dracula\n",
      "    ∟----- UMLRM0020 (Est une sélection de [expression]) Stoker, Bram (1847-1912), Dracula, Français, Molitor, Texte noté\n",
      "\n",
      " UMLRM0035 Humphries, Tudor (1953-….), Dracula\n",
      "    ∟----- UMLRM0161 (Est une traduction de) Humphries, Tudor (1953-….), Dracula, Anglais, Texte noté. Image fixe\n",
      "\n",
      " UMLRM0038 Stoker, Bram (1847-1912), Dracula\n",
      "    ∟----- UMLRM0050 (Est une sélection de [expression]) Stoker, Bram (1847-1912), Dracula, Français, Finné, Texte noté\n",
      "\n",
      " UMLRM0041 Stoker, Bram (1847-1912), Dracula\n",
      "    ∟----- UMLRM0005 (Est une traduction de) Stoker, Bram (1847-1912), Dracula, Anglais, Texte noté\n",
      "\n",
      " UMLRM0047 Stoker, Bram (1847-1912), Dracula\n",
      "    ∟----- UMLRM0050 (Est une sélection de [expression]) Stoker, Bram (1847-1912), Dracula, Français, Finné, Texte noté\n",
      "\n",
      " UMLRM0050 Stoker, Bram (1847-1912), Dracula\n",
      "    ∟----- UMLRM0005 (Est une traduction de) Stoker, Bram (1847-1912), Dracula, Anglais, Texte noté\n",
      "    ∟----- UMLRM0172 (A pour sélection [expression]) Stoker, Bram (1847-1912), Dracula, Choix, Cassou-Noguès ; Langenhagen, Français, Finné, Texte noté, 2004\n",
      "    ∟----- UMLRM0038 (A pour sélection [expression]) Stoker, Bram (1847-1912), Dracula, Choix, Cassou-Noguès ; Langenhagen, Français, Finné, Texte noté, 2006\n",
      "    ∟----- UMLRM0047 (A pour sélection [expression]) Stoker, Bram (1847-1912), Dracula, Choix, Cassou-Noguès ; Langenhagen, Français, Finné, Texte noté, 2017\n",
      "\n",
      " UMLRM0053 Stoker, Bram (1847-1912), Dracula\n",
      "    ∟----- UMLRM0005 (Est un abrégé de) Stoker, Bram (1847-1912), Dracula, Anglais, Texte noté\n",
      "\n",
      " UMLRM0056 Stoker, Bram (1847-1912), Dracula\n",
      "    ∟----- UMLRM0005 (Est une traduction de) Stoker, Bram (1847-1912), Dracula, Anglais, Texte noté\n",
      "    ∟----- UMLRM0059 (Abrégé en) Stoker, Bram (1847-1912), Dracula, Français, Paul-Margueritte, Version abrégée, Texte noté\n",
      "\n",
      " UMLRM0059 Stoker, Bram (1847-1912), Dracula\n",
      "    ∟----- UMLRM0056 (Est un abrégé de) Stoker, Bram (1847-1912), Dracula, Français, Paul-Margueritte, Texte noté\n",
      "\n",
      " UMLRM0065 Stoker, Bram (1847-1912), Dracula\n",
      "    ∟----- UMLRM0005 (Est une traduction de) Stoker, Bram (1847-1912), Dracula, Anglais, Texte noté\n",
      "\n",
      " UMLRM0068 Stoker, Bram (1847-1912), Dracula\n",
      "    ∟----- UMLRM0020 (Est un abrégé de) Stoker, Bram (1847-1912), Dracula, Français, Molitor, Texte noté\n",
      "\n",
      " UMLRM0071 Belford, Barbara, Bram Stoker : a biography of the author of \"Dracula\"\n",
      "\n",
      " UMLRM0076 Stoker, Bram (1847-1912), Dracula’s guest\n",
      "    ∟-----  (Est une traduction de) Stoker, Bram (1847-1912), Dracula’s guest, Anglais, Texte noté\n",
      "\n",
      " UMLRM0079 Bram Stoker's Dracula\n",
      "\n",
      " UMLRM0082 \"Dracula\" : l'oeuvre de Bram Stoker et le film de Francis F. Coppola\n",
      "\n",
      " UMLRM0085 Cazacu, Matei (1946-....), Dracula\n",
      "\n",
      " UMLRM0091 Nosferatu, the wrath of Malachi\n",
      "\n",
      " UMLRM0100 Druillet, Philippe (1944-....), Nosferatu\n",
      "\n",
      " UMLRM0106 Dracula has risen from the grave\n",
      "\n",
      " UMLRM0112 Hughes, William (1964-....), Bram Stoker’s Dracula : a reader’s guide\n",
      "\n",
      " UMLRM0115 Stoker, Dacre¤Holt, Ian (1964-….), Dracula, the un-dead\n",
      "\n",
      " UMLRM0118 Dufranne, Michel (1970-....)¤Kowalski, Piotr (1973-....), Dracula l’immortel\n",
      "\n",
      " UMLRM0121  Dracula, dead and loving it\n",
      "\n",
      " UMLRM0130 Shadow of the vampire\n",
      "\n",
      " UMLRM0133 Eickhoff, Stefan, Max Schreck : Gespenstertheater\n",
      "\n",
      " UMLRM0136 Dracula : pages from a virgin's diary\n",
      "    ∟----- UMLRM0167 Guy Maddin, ED Distribution, Anglais ; sous-titrage en français, Image animée\n",
      "\n",
      " UMLRM0139 Jeanneteau, Daniel (1963-....)¤Deratte, Laure (19..-....), [Maquette de décor en volume pour \"Nosferatu\"]\n",
      "\n",
      " UMLRM0148 Nosferatu\n",
      "    ∟----- UMLRM0142 (Incorpore [expression/oeuvre]) Gallotta, Jean-Claude (1950-....), Nosferatu\n",
      "\n",
      " UMLRM0151 Druillet, Philippe (1944-....), Illustrations pour \"Dracula\" de Bram Stoker\n",
      "\n",
      " UMLRM0153 [Photographies extraites du film « Dracula » de Tod Browning]\n",
      "\n",
      " UMLRM0157 Glass, Philip (1937-....), Dracula\n",
      "\n",
      " UMLRM0159 Dracula\n",
      "\n",
      " UMLRM0161 Humphries, Tudor (1953-….), Dracula\n",
      "    ∟-----  UMLRM0035 (A pour traduction) Humphries, Tudor (1953-….), Dracula, Français, Texte noté. Image fixe\n",
      "\n",
      " UMLRM0162 Drácula\n",
      "\n",
      " UMLRM0167 Guy Maddin\n",
      "    ∟-----  Careful, film, Anglais ; sous-titrage en français\n",
      "    ∟----- UMLRM0136 Dracula : pages from a virgin's diary, film, Anglais ; sous-titrage en français\n",
      "\n",
      " UMLRM0170 Gauriat, Vincent, Dracula, pages tirées du journal d’une vierge, un film de Guy Maddin\n",
      "\n",
      " UMLRM0172 Stoker, Bram (1847-1912), Dracula\n",
      "    ∟----- UMLRM0050 (Est une sélection de [expression]) Stoker, Bram (1847-1912), Dracula, Français, Finné, Texte noté\n",
      "\n",
      " UMLRM0175 Les grands classiques du cinéma allemand\n",
      "    ∟----- UMLRM0002 Nosferatu, eine Symphonie des Grauens, film, Version restaurée, 1995, 60mn, Français\n",
      "    ∟-----  Faust, eine deutsche Volkssage, film, Version sépia, 2002, Allemand ; sous-titrage en français\n",
      "\n",
      " UMLRM0181 \n",
      "\n",
      " UMLRM0184 Shadow of the vampire\n",
      "\n",
      " UMLRM0187 Stoker, Bram (1847-1912), Dracula\n",
      "\n",
      " UMLRM0189 Dracula, dead and loving it\n",
      "\n",
      " UMLRM0192 Dracula\n",
      "\n",
      " UMLRM0196 Finné, Jacques (1944-….), Bibliographie de Dracula\n",
      "\n",
      " UMLRM0198 Finné, Jacques (1944-….)¤Marigny, Jean (1939-....), Dictionnaire des littératures vampiriques\n"
     ]
    }
   ],
   "source": [
    "for el in expressions:\n",
    "    print(\"\\n\", el.id, el.label)\n",
    "    for oeuvre in el.toOeuvres:\n",
    "        print(f\"    ∟{'-'*5}\", oeuvre, el.toOeuvres[oeuvre])"
   ]
  },
  {
   "cell_type": "code",
   "execution_count": 20,
   "metadata": {},
   "outputs": [
    {
     "name": "stdout",
     "output_type": "stream",
     "text": [
      "e 502 $3 FRBNF14122771 $7 ba0yba0y $8 fre### $o ISNI 0000 0000 0886 412X $a Moravioff $b Galeshka $4 230\n",
      "e 502 $3 FRBNF12626285 $7 ba0yba0y $8 frefre $o ISNI 0000 0000 0891 6874 $a Molitor $b Lucienne $4 730\n",
      "e 502 $3 FRBNF12626285 $7 ba0yba0y $8 frefre $o ISNI 0000 0000 0891 6874 $a Molitor $b Lucienne $4 730\n",
      "e 502 $3 FRBNF13343810 $7 ba0yba0y $8 frefre $o ISNI 0000 0003 8523 9039 $a Jouve $b Michèle $f 19..-.... $c angliciste $4 730\n",
      "e 502 $3 11902797 $7 ba0yba0y $8 frefre $o ISNI 0000 0001 2023 6609 $a Finné $b Jacques $f 1944-.... $4 730\n",
      "e 502 $3 FRBNF15547545 $7 ba0yba0y $8 frefre $o ISNI 0000 0000 0188 825 $a Sirgent $b Jacques $4 730\n",
      "e 502 $3 11902797 $7 ba0yba0y $8 frefre $o ISNI0000 0001 2023 6609 $a Finné $b Jacques $f 1944-.... $4 730\n",
      "e 502 $3 FRBNF11902797 $7 ba0yba0y $8 frefre $o ISNI 0000 0001 2023 6609 $a Finné $b Jacques $f 1944-.... $4 730\n",
      "e 502 $3 FRBNF12052485 $7 ba0yba0y $8 frefre $o ISNI 0000 0000 0880 4872 $a Chicheportiche $b  Josette $f 1957-.... $4 010 $4 730\n",
      "e 502 $3 FRBNF12630239 $7 ba0yba0y $8 frefre $o ISNI 0000 0000 7998 1809 $a Paul-Margueritte $b Ève $4 730\n",
      "e 502 $3 FRBNF12126118 $7 ba0yba0y $8 frefre $o ISNI 0000 0000 7974 3368 $a Paul-Margueritte $b Lucie $4 730\n",
      "e 502 $3 FRBNF12630239 $7 ba0yba0y $8 frefre $o ISNI 0000 0000 7998 1809 $a Paul-Margueritte $b Ève $4 730\n",
      "e 502 $3 FRBNF12126118 $7 ba0yba0y $8 frefre $o ISNI 0000 0000 7974 3368 $a Paul-Margueritte $b Lucie $4 730\n",
      "e 502 $3 FRBNF11916402 $7 ba0yba0y $8 fre### $o ISNI 0000 0001 2122 217X $a Moissard $b Boris $f 1942-.... $4 010\n",
      "e 502 $3 FRBNF12626285 $7 ba0yba0y $8 frefre $o ISNI 0000 0000 0891 6874 $a Molitor $b Lucienne $4 730\n",
      "e 502 $3 FRBNF11902797 $7 ba0yba0y $8 frefre $o ISNI 0000 0001 2023 6609 $a Finné $b  Jacques $4 730\n",
      "e 502 $3 FRBNF12056750 $7 ba0yba0y $8 frefre $o ISNI 0000 0000 7358 5100 $a Chatain $b Jean-Noël $f 1957-.... $4 730\n",
      "e 502 $3 FRBNF15891339 $7 ba0yba0y $8 frespa $o ISNI 0000 0000 7824 6722 $a Martinez $b  José $f 1969-.... $c danseur $4 275\n",
      "e 502 $3 FRBNF13893539 $7 ba0yba0y $8 frefre $o ISNI 0000 0000 6309 2513 $a Kontarsky $b Bernhard $f 1937-.... $4 250\n",
      "e 512 $3 FRBNF11945309 $7 ba0yba0y $8 frefre $o ISNI 0000 0001 2375 3986 $a Opéra national de Paris $b Ballet $4 275\n",
      "e 512 $3 FRBNF13905502 $7 ba0yba0y $8 frefre $o ISNI 0000 0001 2323 6161 $a Opéra national de Paris $b Orchestre $4 545\n",
      "e 512 $3 FRBNF13904490 $7 ba0yba0y $8 freeng $o ISNI 0000 0001 2033 5359 $a The Kronos quartet $4 545 $4 ost\n",
      "e 512 $3 FRBNF13882567 $7 ba0yba0y $8 fre### $o ISNI 0000 0001 1543 9727 $a Nonesuch $4 630\n",
      "e 502 $3 11902797 $7 ba0yba0y $8 frefre $o ISNI0000 0001 2023 6609 $a Finné $b Jacques $f 1944-.... $4 730\n",
      "e 502 $3 FRBNF14223639 $7 ba0yba0y $8 frefre $o ISNI 0000 0000 6023 2891 $a Saint-Père $b Arnaud $4 550 $4 vre\n",
      "e 502 $3 FRBNF14179272 $7 ba0yba0y $8 frefre $a Fuchs $b Arnaud-Didier $4 550 $4 vre\n",
      "e 502 $3 FRBNF13938299 $7 ba0yba0y $8 frefre $a Hérisson $b Philippe $4 550 $4 vre\n",
      "e 502 $3 FRBNF14171340 $7 ba0yba0y $8 frefre $o ISNI 0000 0000 7272 7189 $a Dessaux $b Alexis $f 1961-.... $4 550 $4 vre\n",
      "e 502 $3 FRBNF14179539 $7 ba0yba0y $8 frefre $o ISNI 0000 0000 0112 3548 $a Gaber $b Floriane $f 1962-.... $4 550 $4 vre\n",
      "e 502 $3 FRBNF13939901 $7 ba0yba0y $8 frefre $a Leclerc $b Thierry $4 550 $4 vre\n",
      "e 502 $3 FRBNF14029412 $7 ba0yba0y $8 frefre $o ISNI 0000 0000 0137 1437 $a Pitaressi $b Maria $4 550 $4 vre\n",
      "e 502 $3 FRBNF14173479 $7 ba0yba0y $8 frefre $a Duchiron $b Marie-Laetitia $4 550 $4 vre\n",
      "e 502 $3 FRBNF13938294 $7 ba0yba0y $8 frefre $o ISNI 0000 0000 0146 0261 $a Rey $b Jean Claude $f 19..-.... $c acteur $4 550 $4 vre\n",
      "e 502 $3 FRBNF13930210 $7 ba0yba0y $8 frefre $a Val $b Pierre $4 550 $4 vre\n"
     ]
    }
   ],
   "source": [
    "# Mentions de responsabilités dans les expressions:\n",
    "\n",
    "for exp in expressions:\n",
    "    for field in [str(el) for el in range(500, 599)]:\n",
    "        for field_occ in exp.xml.xpath(f\"*[@tag='{field}']\"):\n",
    "            value = sru.field2value(field_occ)\n",
    "            if \"$4\" in value:\n",
    "                print(exp.type, field, value)"
   ]
  },
  {
   "cell_type": "markdown",
   "metadata": {},
   "source": [
    "# Oeuvres\n",
    "\n",
    "Liste des titres\n",
    "\n",
    "## Distinguer oeuvres et expressions\n",
    "\n",
    "Label pos.9 permet de distinguer oeuvres et expressions : valeurs h / t (auteur-titre, ou titre seul) \n",
    "\n",
    "Zone 154 $a pos1 : a = oeuvre ; b = expression ; x = ne s'applique pas\n",
    "\n",
    "Point d'accès\n",
    "* 231 pour les oeuvres\n",
    "* 232 pour les expressions"
   ]
  },
  {
   "cell_type": "code",
   "execution_count": 21,
   "metadata": {},
   "outputs": [
    {
     "name": "stdout",
     "output_type": "stream",
     "text": [
      "UMLRM0001 Nosferatu, eine Symphonie des Grauens\n",
      "UMLRM0002 Nosferatu, eine Symphonie des Grauens\n",
      "UMLRM0004 Stoker, Bram (1847-1912), Dracula\n",
      "UMLRM0005 Stoker, Bram (1847-1912), Dracula\n",
      "UMLRM0007  Nosferatu, Phantom der Nacht\n",
      "UMLRM0008 Nosferatu, Phantom der Nacht\n",
      "UMLRM0010 Palma, Paola (1971-….)¤Vezyroglou, Dimitri (1970-….), \"Nosferatu le vampire\"\n",
      "UMLRM0011 Palma, Paola (1971-….)¤Vezyroglou, Dimitri (1970-….), \"Nosferatu le vampire\"\n",
      "UMLRM0013 Jean-Claude Gallotta, Nosferatu, ballet de l'Opéra\n",
      "UMLRM0014 Jean-Claude Gallotta, Nosferatu, ballet de l'Opéra\n",
      "UMLRM0020 Stoker, Bram (1847-1912), Dracula\n",
      "UMLRM0031 Stoker, Bram (1847-1912), Dracula\n",
      "UMLRM0032 Stoker, Bram (1847-1912), Dracula\n",
      "UMLRM0034 Humphries, Tudor (1953-….), Dracula\n",
      "UMLRM0035 Humphries, Tudor (1953-….), Dracula\n",
      "UMLRM0037 Stoker, Bram (1847-1912), Dracula\n",
      "UMLRM0038 Stoker, Bram (1847-1912), Dracula\n",
      "UMLRM0041 Stoker, Bram (1847-1912), Dracula\n",
      "UMLRM0047 Stoker, Bram (1847-1912), Dracula\n",
      "UMLRM0050 Stoker, Bram (1847-1912), Dracula\n",
      "UMLRM0053 Stoker, Bram (1847-1912), Dracula\n",
      "UMLRM0056 Stoker, Bram (1847-1912), Dracula\n",
      "UMLRM0059 Stoker, Bram (1847-1912), Dracula\n",
      "UMLRM0065 Stoker, Bram (1847-1912), Dracula\n",
      "UMLRM0068 Stoker, Bram (1847-1912), Dracula\n",
      "UMLRM0070 Belford, Barbara, Bram Stoker : a biography of the author of \"Dracula\n",
      "UMLRM0071 Belford, Barbara, Bram Stoker : a biography of the author of \"Dracula\"\n",
      "UMLRM0075 Stoker, Bram (1847-1912), Dracula's guest\n",
      "UMLRM0076 Stoker, Bram (1847-1912), Dracula’s guest\n",
      "UMLRM0078 Bram Stoker's Dracula\n",
      "UMLRM0079 Bram Stoker's Dracula\n",
      "UMLRM0081 \"Dracula\" : l'oeuvre de Bram Stoker et le film de Francis F. Coppola\n",
      "UMLRM0082 \"Dracula\" : l'oeuvre de Bram Stoker et le film de Francis F. Coppola\n",
      "UMLRM0084 Cazacu, Matei (1946-....), Dracula\n",
      "UMLRM0085 Cazacu, Matei (1946-....), Dracula\n",
      "UMLRM0087 Valls de Gomis, Estelle (1973-...), Le vampire au fil des siècles : enquête autour d'un mythe\n",
      "UMLRM0088 \n",
      "UMLRM0090 Nosferatu, the wrath of Malachi\n",
      "UMLRM0091 Nosferatu, the wrath of Malachi\n",
      "UMLRM0099 Druillet, Philippe (1944-....), Nosferatu\n",
      "UMLRM0100 Druillet, Philippe (1944-....), Nosferatu\n",
      "UMLRM0105 Dracula has risen from the grave\n",
      "UMLRM0106 Dracula has risen from the grave\n",
      "UMLRM0111 Hughes, William (1964-....), Bram Stoker’s Dracula : a reader’s guide\n",
      "UMLRM0112 Hughes, William (1964-....), Bram Stoker’s Dracula : a reader’s guide\n",
      "UMLRM0114 Stoker, Dacre¤Holt, Ian (1964-….), Dracula, the un-dead\n",
      "UMLRM0115 Stoker, Dacre¤Holt, Ian (1964-….), Dracula, the un-dead\n",
      "UMLRM0117 Dufranne, Michel (1970-....)¤Kowalski, Piotr (1973-....), Dracula l’immortel\n",
      "UMLRM0118 Dufranne, Michel (1970-....)¤Kowalski, Piotr (1973-....), Dracula l’immortel\n",
      "UMLR0120 Dracula, dead and loving it\n",
      "UMLRM0121  Dracula, dead and loving it\n",
      "UMLRM0126¤UMLRM0127 Stoker, Bram (1847-1912), Manuscrits, Stoker, Bram (1847-1912), Manuscrits\n",
      "UMLRM0129 Shadow of the vampire\n",
      "UMLRM0130 Shadow of the vampire\n",
      "UMLRM0132 Eickhoff, Stefan, Max Schreck : Gespenstertheater\n",
      "UMLRM0133 Eickhoff, Stefan, Max Schreck : Gespenstertheater\n",
      "UMLRM0135 Dracula: pages from a virgin's diary\n",
      "UMLRM0136 Dracula : pages from a virgin's diary\n",
      "UMLRM0138 Jeanneteau, Daniel (1963-....)¤Deratte, Laure (19..-....), [Maquette de décor en volume pour \"Nosferatu\"]\n",
      "UMLRM0139 Jeanneteau, Daniel (1963-....)¤Deratte, Laure (19..-....), [Maquette de décor en volume pour \"Nosferatu\"]\n",
      "UMLRM0141 Valls de Gomis, Estelle (1973-...), Le vampire au fil des siècles : docimasie d'un mythe\n",
      "UMLRM0142 Gallotta, Jean-Claude (1950-....), Nosferatu\n",
      "UMLRM0143 Dusapin, Pascal (1955-....), Extenso\n",
      "UMLRM0144 Dusapin, Pascal (1955-....), Apex\n",
      "UMLRM0145 Dusapin, Pascal (1955-....), Watt\n",
      "UMLRM0146 Dusapin, Pascal (1955-....), Celo\n",
      "UMLRM0147 Nosferatu\n",
      "UMLRM0148 Nosferatu\n",
      "UMLRM0149 Finné, Jacques (1944-….)¤Marigny, Jean (1939-....), Dictionnaire des littératures vampiriques\n",
      "UMLRM0150 Druillet, Philippe (1944-....), [Illustrations pour \"Dracula\" de Bram Stoker]\n",
      "UMLRM0151 Druillet, Philippe (1944-....), Illustrations pour \"Dracula\" de Bram Stoker\n",
      "UMLRM0152 [Photographies extraites du film \"Dracula\" de Tod Browning]\n",
      "UMLRM0153 [Photographies extraites du film « Dracula » de Tod Browning]\n",
      "UMLRM0154 Dracula\n",
      "UMLRM0155 Deane, Hamilton (1879-1958)¤Balderston, John L. (1889-1954), Dracula\n",
      "UMLRM0156 Glass, Philip (1937-....), Dracula\n",
      "UMLRM0157 Glass, Philip (1937-....), Dracula\n",
      "UMLRM0159 Dracula\n",
      "UMLRM0161 Humphries, Tudor (1953-….), Dracula\n",
      "UMLRM0162 Drácula\n",
      "UMLRM0163 Drácula\n",
      "UMLRM0164 Godden, Mark, Dracula\n",
      "UMLRM0165 Mahler, Gustav (1860-1911), Symphonies\n",
      "UMLRM0166 Guy Maddin\n",
      "UMLRM0167 Guy Maddin\n",
      "UMLRM0169 Gauriat, Vincent, Dracula, pages tirées du journal d’une vierge, un film de Guy Maddin\n",
      "UMLRM0170 Gauriat, Vincent, Dracula, pages tirées du journal d’une vierge, un film de Guy Maddin\n",
      "UMLRM0172 Stoker, Bram (1847-1912), Dracula\n",
      "UMLRM0174 Les grands classiques du cinéma allemand\n",
      "UMLRM0175 Les grands classiques du cinéma allemand\n",
      "UMLRM0180 Dracula\n",
      "UMLRM0181 \n",
      "UMLRM0184 Shadow of the vampire\n",
      "UMLRM0186 Dufranne, Michel (1970-....)¤Kowalski, Piotr (1973-....), Dracula l’immortel\n",
      "UMLRM0187 Stoker, Bram (1847-1912), Dracula\n",
      "UMLRM0189 Dracula, dead and loving it\n",
      "UMLRM0191 Dracula\n",
      "UMLRM0192 Dracula\n",
      "UMLRM0194 The Mercury theatre on the air\n",
      "UMLRM0195 Finné, Jacques (1944-….), Bibliographie de Dracula \n",
      "UMLRM0196 Finné, Jacques (1944-….), Bibliographie de Dracula\n",
      "UMLRM0198 Finné, Jacques (1944-….)¤Marigny, Jean (1939-....), Dictionnaire des littératures vampiriques\n"
     ]
    }
   ],
   "source": [
    "for el in oeuvres_expr:\n",
    "    print(el.id, el.label)"
   ]
  },
  {
   "cell_type": "markdown",
   "metadata": {},
   "source": [
    "# Visualisation en graphe"
   ]
  },
  {
   "cell_type": "markdown",
   "metadata": {},
   "source": [
    "## Générer un graphe Gephi\n",
    "\n",
    "Objectif : générer 2 fichiers TSV (format en colonnes, tabulé) afin d'alimenter Gephi et de calculer un graphe\n",
    "\n",
    "Un fichier listera les noeuds : \n",
    " * identifiant (n° de notice)\n",
    " * label (point d'accès)\n",
    " * type (manifestation/expression/oeuvre) (à voir la pertinence d'y mettre aussi les items)\n",
    "\n",
    "Un second fichier listera les liens entre ces noeuds\n",
    " "
   ]
  },
  {
   "cell_type": "markdown",
   "metadata": {},
   "source": [
    "### Fichier - liste des noeuds"
   ]
  },
  {
   "cell_type": "code",
   "execution_count": 22,
   "metadata": {},
   "outputs": [],
   "source": [
    "liste_noeuds = [[\"Identifiant\", \"Label\", \"Type\"]]\n",
    "\n",
    "def add_in_nodes_list(corpus, liste):\n",
    "    for entity in corpus:\n",
    "        liste.append([entity.id, entity.label, entity.type])\n",
    "\n",
    "add_in_nodes_list(manifs, liste_noeuds)\n",
    "add_in_nodes_list(expressions, liste_noeuds)\n",
    "add_in_nodes_list(oeuvres, liste_noeuds)"
   ]
  },
  {
   "cell_type": "markdown",
   "metadata": {},
   "source": [
    "### Fichier - liste des liens"
   ]
  },
  {
   "cell_type": "code",
   "execution_count": 23,
   "metadata": {},
   "outputs": [],
   "source": [
    "liste_liens = []\n",
    "for manif in manifs:\n",
    "    for expr in manif.toExpressions:\n",
    "        liste_liens.append([manif.id, expr])\n",
    "for expr in expressions:\n",
    "    for oeuvre in expr.toOeuvres:\n",
    "        liste_liens.append([expr.id, oeuvre])"
   ]
  },
  {
   "cell_type": "code",
   "execution_count": 24,
   "metadata": {},
   "outputs": [
    {
     "name": "stdout",
     "output_type": "stream",
     "text": [
      "m ['UMLRM0003', 'ULRM0002']\n",
      "m ['UMLRM0015', ' UMLRM0015']\n",
      "m ['UMLRM0060 ', 'UMLRM0059']\n",
      "m ['UMLRM0060 ', 'UMLRM0153']\n",
      "m ['UMLRM0101', 'UMLRM100']\n",
      "m ['UMLRM0104', 'UMLRM100']\n",
      "m ['UMLRM0122 ', 'UMLRM0189']\n",
      "m ['UMLRM0122 ', 'UMLRM0121']\n",
      "m ['UMLRM0134', 'ULRM00133']\n",
      "m ['UMLRM0190', '']\n",
      "e ['UMLRM0076', '']\n",
      "e ['UMLRM0161', ' UMLRM0035']\n",
      "e ['UMLRM0167', '']\n",
      "e ['UMLRM0175', '']\n"
     ]
    }
   ],
   "source": [
    "for lien in liste_liens:\n",
    "    for recordid in lien:\n",
    "        if re.fullmatch(r\"UMLRM\\d\\d\\d\\d\", recordid) is None:\n",
    "            print(dic_id2type[lien[0]], lien)"
   ]
  },
  {
   "cell_type": "markdown",
   "metadata": {},
   "source": [
    "## Génération des fichiers"
   ]
  },
  {
   "cell_type": "code",
   "execution_count": 25,
   "metadata": {},
   "outputs": [],
   "source": [
    "with open(\"liste_noeuds.txt\", \"w\", encoding=\"utf-8\") as file:\n",
    "    for node in liste_noeuds:\n",
    "        file.write(\"\\t\".join(node) + \"\\n\")\n",
    "with open(\"liste_liens.txt\", \"w\", encoding=\"utf-8\") as file:\n",
    "    for link in liste_liens:\n",
    "        file.write(\"\\t\".join(link) + \"\\n\")"
   ]
  },
  {
   "cell_type": "markdown",
   "metadata": {},
   "source": [
    "## Avec GraphViz\n",
    "\n",
    "Cf. test sur [../graphviz/Test Graphviz.ipynb](graphviz/Test Graphviz.ipynb)"
   ]
  },
  {
   "cell_type": "code",
   "execution_count": null,
   "metadata": {},
   "outputs": [],
   "source": []
  },
  {
   "cell_type": "markdown",
   "metadata": {},
   "source": [
    "### Fonctions de génération du graphe"
   ]
  },
  {
   "cell_type": "code",
   "execution_count": 26,
   "metadata": {},
   "outputs": [],
   "source": [
    "import graphviz\n",
    "\n",
    "def generate_graph(manif):\n",
    "    # A partir d'une manifestation, renvoie un graphe GraphViz\n",
    "    dot = graphviz.Digraph(manif.id, comment=f'Notice {manif.id}')  \n",
    "    # Add nodes and edges to the graph object using its node() and edge() or edges() methods:\n",
    "    dot.node(manif.id, manif.label)\n",
    "    liste_edges = []\n",
    "    for expr in manif.toExpressions:\n",
    "        if expr:\n",
    "            dot.node(expr, dict_entities[expr].label)\n",
    "            dot.edge(manif.id, expr, label=\"manif de\")\n",
    "        for oeuvre in dict_entities[expr].toOeuvres:\n",
    "            if oeuvre:\n",
    "                dot.node(oeuvre, dict_entities[oeuvre].label)\n",
    "                dot.edge(expr, oeuvre, label=\"expression de\")\n",
    "    return dot\n",
    "    # dot.edges(liste_edges)\n",
    "    \n",
    "def id2graph(recordid):\n",
    "    return generate_graph(dict_entities[recordid])"
   ]
  },
  {
   "cell_type": "markdown",
   "metadata": {},
   "source": [
    "[Liste des notices de manifestations ci-dessus](#Liste-des-manifs-et-liens-aux-expressions)"
   ]
  },
  {
   "cell_type": "code",
   "execution_count": 27,
   "metadata": {},
   "outputs": [
    {
     "name": "stdout",
     "output_type": "stream",
     "text": [
      "Numéro de notice de manifestation (exemple : UMLRM0077, avec 2 expressions liées) : \n"
     ]
    }
   ],
   "source": [
    "manifid = input(\"Numéro de notice de manifestation (exemple : UMLRM0077, avec 2 expressions liées) : \")"
   ]
  },
  {
   "cell_type": "code",
   "execution_count": 30,
   "metadata": {},
   "outputs": [],
   "source": [
    "if manifid == \"\":\n",
    "    manifid = \"UMLRM0077\"\n",
    "graphe_manif = id2graph(manifid)"
   ]
  },
  {
   "cell_type": "code",
   "execution_count": 31,
   "metadata": {},
   "outputs": [
    {
     "data": {
      "image/svg+xml": [
       "<?xml version=\"1.0\" encoding=\"UTF-8\" standalone=\"no\"?>\n",
       "<!DOCTYPE svg PUBLIC \"-//W3C//DTD SVG 1.1//EN\"\n",
       " \"http://www.w3.org/Graphics/SVG/1.1/DTD/svg11.dtd\">\n",
       "<!-- Generated by graphviz version 7.0.3 (20221126.0506)\n",
       " -->\n",
       "<!-- Title: UMLRM0077 Pages: 1 -->\n",
       "<svg width=\"1166pt\" height=\"218pt\"\n",
       " viewBox=\"0.00 0.00 1165.58 218.00\" xmlns=\"http://www.w3.org/2000/svg\" xmlns:xlink=\"http://www.w3.org/1999/xlink\">\n",
       "<g id=\"graph0\" class=\"graph\" transform=\"scale(1 1) rotate(0) translate(4 214)\">\n",
       "<title>UMLRM0077</title>\n",
       "<polygon fill=\"white\" stroke=\"none\" points=\"-4,4 -4,-214 1161.58,-214 1161.58,4 -4,4\"/>\n",
       "<!-- UMLRM0077 -->\n",
       "<g id=\"node1\" class=\"node\">\n",
       "<title>UMLRM0077</title>\n",
       "<ellipse fill=\"none\" stroke=\"black\" cx=\"740.79\" cy=\"-192\" rx=\"192.27\" ry=\"18\"/>\n",
       "<text text-anchor=\"middle\" x=\"740.79\" y=\"-188.3\" font-family=\"Times New Roman,serif\" font-size=\"14.00\">Dracula¤suivi de L&#39;invité de Dracula, Bram Stoker</text>\n",
       "</g>\n",
       "<!-- UMLRM0050 -->\n",
       "<g id=\"node2\" class=\"node\">\n",
       "<title>UMLRM0050</title>\n",
       "<ellipse fill=\"none\" stroke=\"black\" cx=\"578.79\" cy=\"-105\" rx=\"137.58\" ry=\"18\"/>\n",
       "<text text-anchor=\"middle\" x=\"578.79\" y=\"-101.3\" font-family=\"Times New Roman,serif\" font-size=\"14.00\">Stoker, Bram (1847&#45;1912), Dracula</text>\n",
       "</g>\n",
       "<!-- UMLRM0077&#45;&gt;UMLRM0050 -->\n",
       "<g id=\"edge1\" class=\"edge\">\n",
       "<title>UMLRM0077&#45;&gt;UMLRM0050</title>\n",
       "<path fill=\"none\" stroke=\"black\" d=\"M708,-173.8C682.92,-160.64 648.13,-142.38 620.97,-128.13\"/>\n",
       "<polygon fill=\"black\" stroke=\"black\" points=\"622.79,-125.14 612.31,-123.59 619.54,-131.33 622.79,-125.14\"/>\n",
       "<text text-anchor=\"middle\" x=\"694.29\" y=\"-144.8\" font-family=\"Times New Roman,serif\" font-size=\"14.00\">manif de</text>\n",
       "</g>\n",
       "<!-- UMLRM0076 -->\n",
       "<g id=\"node7\" class=\"node\">\n",
       "<title>UMLRM0076</title>\n",
       "<ellipse fill=\"none\" stroke=\"black\" cx=\"901.79\" cy=\"-105\" rx=\"167.07\" ry=\"18\"/>\n",
       "<text text-anchor=\"middle\" x=\"901.79\" y=\"-101.3\" font-family=\"Times New Roman,serif\" font-size=\"14.00\">Stoker, Bram (1847&#45;1912), Dracula’s guest</text>\n",
       "</g>\n",
       "<!-- UMLRM0077&#45;&gt;UMLRM0076 -->\n",
       "<g id=\"edge6\" class=\"edge\">\n",
       "<title>UMLRM0077&#45;&gt;UMLRM0076</title>\n",
       "<path fill=\"none\" stroke=\"black\" d=\"M773.37,-173.8C798.22,-160.68 832.65,-142.5 859.6,-128.27\"/>\n",
       "<polygon fill=\"black\" stroke=\"black\" points=\"860.98,-131.5 868.19,-123.74 857.71,-125.31 860.98,-131.5\"/>\n",
       "<text text-anchor=\"middle\" x=\"856.29\" y=\"-144.8\" font-family=\"Times New Roman,serif\" font-size=\"14.00\">manif de</text>\n",
       "</g>\n",
       "<!-- UMLRM0005 -->\n",
       "<g id=\"node3\" class=\"node\">\n",
       "<title>UMLRM0005</title>\n",
       "<ellipse fill=\"none\" stroke=\"black\" cx=\"137.79\" cy=\"-18\" rx=\"137.58\" ry=\"18\"/>\n",
       "<text text-anchor=\"middle\" x=\"137.79\" y=\"-14.3\" font-family=\"Times New Roman,serif\" font-size=\"14.00\">Stoker, Bram (1847&#45;1912), Dracula</text>\n",
       "</g>\n",
       "<!-- UMLRM0050&#45;&gt;UMLRM0005 -->\n",
       "<g id=\"edge2\" class=\"edge\">\n",
       "<title>UMLRM0050&#45;&gt;UMLRM0005</title>\n",
       "<path fill=\"none\" stroke=\"black\" d=\"M503.73,-89.53C426.23,-74.6 305.48,-51.32 224.09,-35.63\"/>\n",
       "<polygon fill=\"black\" stroke=\"black\" points=\"224.84,-32.22 214.36,-33.76 223.52,-39.09 224.84,-32.22\"/>\n",
       "<text text-anchor=\"middle\" x=\"423.79\" y=\"-57.8\" font-family=\"Times New Roman,serif\" font-size=\"14.00\">expression de</text>\n",
       "</g>\n",
       "<!-- UMLRM0172 -->\n",
       "<g id=\"node4\" class=\"node\">\n",
       "<title>UMLRM0172</title>\n",
       "<ellipse fill=\"none\" stroke=\"black\" cx=\"431.79\" cy=\"-18\" rx=\"137.58\" ry=\"18\"/>\n",
       "<text text-anchor=\"middle\" x=\"431.79\" y=\"-14.3\" font-family=\"Times New Roman,serif\" font-size=\"14.00\">Stoker, Bram (1847&#45;1912), Dracula</text>\n",
       "</g>\n",
       "<!-- UMLRM0050&#45;&gt;UMLRM0172 -->\n",
       "<g id=\"edge3\" class=\"edge\">\n",
       "<title>UMLRM0050&#45;&gt;UMLRM0172</title>\n",
       "<path fill=\"none\" stroke=\"black\" d=\"M549.39,-87C526.86,-73.97 495.55,-55.87 470.9,-41.62\"/>\n",
       "<polygon fill=\"black\" stroke=\"black\" points=\"472.85,-38.7 462.44,-36.72 469.35,-44.76 472.85,-38.7\"/>\n",
       "<text text-anchor=\"middle\" x=\"553.79\" y=\"-57.8\" font-family=\"Times New Roman,serif\" font-size=\"14.00\">expression de</text>\n",
       "</g>\n",
       "<!-- UMLRM0038 -->\n",
       "<g id=\"node5\" class=\"node\">\n",
       "<title>UMLRM0038</title>\n",
       "<ellipse fill=\"none\" stroke=\"black\" cx=\"725.79\" cy=\"-18\" rx=\"137.58\" ry=\"18\"/>\n",
       "<text text-anchor=\"middle\" x=\"725.79\" y=\"-14.3\" font-family=\"Times New Roman,serif\" font-size=\"14.00\">Stoker, Bram (1847&#45;1912), Dracula</text>\n",
       "</g>\n",
       "<!-- UMLRM0050&#45;&gt;UMLRM0038 -->\n",
       "<g id=\"edge4\" class=\"edge\">\n",
       "<title>UMLRM0050&#45;&gt;UMLRM0038</title>\n",
       "<path fill=\"none\" stroke=\"black\" d=\"M608.18,-87C630.72,-73.97 662.03,-55.87 686.68,-41.62\"/>\n",
       "<polygon fill=\"black\" stroke=\"black\" points=\"688.23,-44.76 695.13,-36.72 684.73,-38.7 688.23,-44.76\"/>\n",
       "<text text-anchor=\"middle\" x=\"700.79\" y=\"-57.8\" font-family=\"Times New Roman,serif\" font-size=\"14.00\">expression de</text>\n",
       "</g>\n",
       "<!-- UMLRM0047 -->\n",
       "<g id=\"node6\" class=\"node\">\n",
       "<title>UMLRM0047</title>\n",
       "<ellipse fill=\"none\" stroke=\"black\" cx=\"1019.79\" cy=\"-18\" rx=\"137.58\" ry=\"18\"/>\n",
       "<text text-anchor=\"middle\" x=\"1019.79\" y=\"-14.3\" font-family=\"Times New Roman,serif\" font-size=\"14.00\">Stoker, Bram (1847&#45;1912), Dracula</text>\n",
       "</g>\n",
       "<!-- UMLRM0050&#45;&gt;UMLRM0047 -->\n",
       "<g id=\"edge5\" class=\"edge\">\n",
       "<title>UMLRM0050&#45;&gt;UMLRM0047</title>\n",
       "<path fill=\"none\" stroke=\"black\" d=\"M653.85,-89.53C731.34,-74.6 852.1,-51.32 933.49,-35.63\"/>\n",
       "<polygon fill=\"black\" stroke=\"black\" points=\"934.06,-39.09 943.21,-33.76 932.73,-32.22 934.06,-39.09\"/>\n",
       "<text text-anchor=\"middle\" x=\"864.79\" y=\"-57.8\" font-family=\"Times New Roman,serif\" font-size=\"14.00\">expression de</text>\n",
       "</g>\n",
       "</g>\n",
       "</svg>\n"
      ],
      "text/plain": [
       "<graphviz.graphs.Digraph at 0x2a7453d0430>"
      ]
     },
     "execution_count": 31,
     "metadata": {},
     "output_type": "execute_result"
    }
   ],
   "source": [
    "graphe_manif"
   ]
  },
  {
   "cell_type": "markdown",
   "metadata": {},
   "source": [
    "# Coquilles rencontrées\n",
    "\n",
    "https://semestriel.framapad.org/p/bugs_unimarclrm"
   ]
  },
  {
   "cell_type": "code",
   "execution_count": 32,
   "metadata": {},
   "outputs": [],
   "source": [
    "with open(\"stats_zones.txt\", \"w\", encoding=\"utf-8\") as file:\n",
    "    for entity in dict_entities:\n",
    "        for zone in dict_entities[entity].stats_zones:\n",
    "            line = [entity, dict_entities[entity].type, zone, str(dict_entities[entity].stats_zones[zone])]\n",
    "            file.write(\"\\t\".join(line) + \"\\n\")"
   ]
  },
  {
   "cell_type": "code",
   "execution_count": null,
   "metadata": {},
   "outputs": [],
   "source": []
  },
  {
   "cell_type": "code",
   "execution_count": null,
   "metadata": {},
   "outputs": [],
   "source": []
  },
  {
   "cell_type": "code",
   "execution_count": null,
   "metadata": {},
   "outputs": [],
   "source": []
  }
 ],
 "metadata": {
  "kernelspec": {
   "display_name": "Python 3",
   "language": "python",
   "name": "python3"
  },
  "language_info": {
   "codemirror_mode": {
    "name": "ipython",
    "version": 3
   },
   "file_extension": ".py",
   "mimetype": "text/x-python",
   "name": "python",
   "nbconvert_exporter": "python",
   "pygments_lexer": "ipython3",
   "version": "3.8.3"
  }
 },
 "nbformat": 4,
 "nbformat_minor": 4
}
