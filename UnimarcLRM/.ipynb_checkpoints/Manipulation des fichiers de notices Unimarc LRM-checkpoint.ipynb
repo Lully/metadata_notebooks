{
 "cells": [
  {
   "cell_type": "markdown",
   "metadata": {},
   "source": [
    "# Introduction\n",
    "\n",
    "Suite à la publication de 340 notices d'entités LRM par le groupe Systèmes et Données https://zenodo.org/record/7358799 voici un ensemble de scripts pour visualiser un peu leur contenu\n",
    "\n",
    "Les données diffusées en iso2709 ont été converties en MarcXML pour faciliter les traitements.\n",
    "\n",
    "**Plan**\n",
    " * [Objectifs](#Objectifs)\n",
    "\n",
    "\n",
    " * **[A la découverte des données](#A-la-d%C3%A9couverte-des-donn%C3%A9es)**\n",
    "   * [Chargement des données initiales](#Chargement-des-donn%C3%A9es-initiales)\n",
    "     * [Fonctions d'extraction](#Fonctions-d'extraction)\n",
    "       * [Zones de liens entre entités OEMI](#Zones-de-liens-entre-entit%C3%A9s-OEMI)\n",
    "       * [Classes et fonctions](#Classes-et-fonctions)\n",
    "   * [Initialisation des entités](#Initialisation-des-entit%C3%A9s)\n",
    "   * [Les dictionnaires utiles](#Les-dictionnaires-utiles)\n",
    "     * [Dictionnaire ID > entité complète](#Dictionnaire-ID-%3E-entit%C3%A9-compl%C3%A8te)\n",
    "     * [Dictionnaire Manif > Item](#Dictionnaire-Manif-%3E-Items)\n",
    "\n",
    "\n",
    " * **[Les entités](#Les-entit%C3%A9s)**\n",
    "   * [Les manifestations](#Les-manifestations)\n",
    "     * [Liens dans les manifs](#Liens-dans-les-manifestations)\n",
    "     * [Liste des manifs et liens aux expressions](#Liste-des-manifs-et-liens-aux-expressions)\n",
    "   * [Les expressions](#Les-expressions)\n",
    "     * [Liste des expressions et liens aux oeuvres](#Liste-des-expressions-et-liens-aux-oeuvres)\n",
    "\n",
    "\n",
    " * **[Visualisation en graphe](#Visualisation-en-graphe)**\n",
    "   * [Générer un graphe Gephi](#G%C3%A9n%C3%A9rer-un-graphe-Gephi)\n",
    "   * [Avec GraphViz](#Avec-GraphViz)\n",
    "\n",
    "\n",
    " * [Coquilles rencontrées](#Coquilles-rencontrées)"
   ]
  },
  {
   "cell_type": "code",
   "execution_count": 1,
   "metadata": {},
   "outputs": [],
   "source": [
    "# Déclaration des librairies et variables globales\n",
    "\n",
    "import SRUextraction as sru # import du fichier https://github.com/Lully/bnf-sru/blob/master/SRUextraction.py\n",
    "from lxml import etree\n",
    "from string import ascii_lowercase\n",
    "import re\n",
    "from collections import defaultdict\n",
    "\n",
    "ns = {\"marc\": \"http://www.loc.gov/MARC21/slim\"}"
   ]
  },
  {
   "cell_type": "markdown",
   "metadata": {},
   "source": [
    "# Objectifs\n",
    "\n",
    "* **Contrôler les données et faire remonter d'éventuels problèmes dans leur contenu ou leur architecture**\n",
    "\n",
    "\n",
    "* **Fournir des outils pour manipuler les données**, savoir ce qu'elles contiennent. Cela passe par construire un \"objet\" (Python) intermédiaire pour chaque entité, doté de plusieurs attributs, à savoir :\n",
    "  * un point d'accès et/ou un label\n",
    "  * le contenu intégral de la notice\n",
    "  * la liste des liens vers d'autres entités (avec identifiant et point d'accès)\n",
    "\n",
    "\n",
    "* **proposer une visualisation pour une entité donnée** :\n",
    "  * métadonnées simples\n",
    "  * métadonnées enrichies des entités en liens\n",
    "  * graphe de liens vers les entités OEMI et autres\n",
    "  \n",
    "\n",
    "* **proposer une visualisation pour l'ensemble des données** si cela s'avère pertinent\n",
    "  \n",
    "  \n",
    "* **donner à voir les liens autres que les seuls arbres OEMI** : adaptations ou autres\n",
    "\n",
    "\n",
    "* **Proposer une simulation d'un moteur de recherche** qui, pour un terme donné, renvoie une liste de résultats. Cela permet de réfléchir à \n",
    "  * l'affichage des résultats : quelles informations afficher ? (en imaginant un double affichage simple / détaillé)\n",
    "  * l'intégration de méatdonnées des entités en lien dans le résultat affiché (pour qu'une recherche puisse s'effectuer à la fois sur des métadonnées de manifestation et d'oeuvre, par exemple)"
   ]
  },
  {
   "cell_type": "markdown",
   "metadata": {},
   "source": [
    "# A la découverte des données"
   ]
  },
  {
   "cell_type": "markdown",
   "metadata": {},
   "source": [
    "## Chargement des données initiales\n",
    "\n",
    "Nom des 4 fichiers à importer (MarcXML) import des notices en 4 arbres XML"
   ]
  },
  {
   "cell_type": "code",
   "execution_count": 2,
   "metadata": {},
   "outputs": [],
   "source": [
    "manifs_filename = \"UMB_Manifestations.xml\"\n",
    "oeuvres_expressions_filename = \"UMA_Oeuvres_Expressions.xml\"\n",
    "autres_entites_filename = \"UMA_Autres_Entites_Liees.xml\"\n",
    "items_filename = \"UMH_Items.xml\""
   ]
  },
  {
   "cell_type": "code",
   "execution_count": 3,
   "metadata": {},
   "outputs": [],
   "source": [
    "manifs_filename = r\"D:\\BNF0017855\\Documents\\MET\\Transition bibliographique\\données unimarcLRM interne\\UM-LRM\\notices_xml\\UMB_Manifestations.xml\"\n",
    "oeuvres_expressions_filename = r\"D:\\BNF0017855\\Documents\\MET\\Transition bibliographique\\données unimarcLRM interne\\UM-LRM\\notices_xml\\UMA_Oeuvres_Expressions.xml\"\n",
    "autres_entites_filename = r\"D:\\BNF0017855\\Documents\\MET\\Transition bibliographique\\données unimarcLRM interne\\UM-LRM\\notices_xml\\UMA_Autres_Entites_Liees.xml\"\n",
    "items_filename = r\"D:\\BNF0017855\\Documents\\MET\\Transition bibliographique\\données unimarcLRM interne\\UM-LRM\\notices_xml\\UMH_Items.xml\""
   ]
  },
  {
   "cell_type": "markdown",
   "metadata": {},
   "source": [
    "Import des fichiers -> conversion en arbres XML"
   ]
  },
  {
   "cell_type": "code",
   "execution_count": 4,
   "metadata": {},
   "outputs": [],
   "source": [
    "manifs_file = etree.parse(manifs_filename)\n",
    "oeuvres_expressions_file = etree.parse(oeuvres_expressions_filename)\n",
    "autres_entites_file = etree.parse(autres_entites_filename)\n",
    "items_file = etree.parse(items_filename)"
   ]
  },
  {
   "cell_type": "markdown",
   "metadata": {},
   "source": [
    "### Fonctions d'extraction"
   ]
  },
  {
   "cell_type": "markdown",
   "metadata": {},
   "source": [
    "#### Zones de liens entre entités OEMI"
   ]
  },
  {
   "cell_type": "markdown",
   "metadata": {},
   "source": [
    "#### Classes et fonctions\n",
    "\n",
    "Import des classes d'objet Record, Item, Manifestation, Expression et Oeuvres\n",
    "\n",
    "Ce fichier contient aussi le dictionnaire `dic_id2type` : Numéro de notice > Type d'entité"
   ]
  },
  {
   "cell_type": "code",
   "execution_count": 5,
   "metadata": {},
   "outputs": [],
   "source": [
    "from Record import *"
   ]
  },
  {
   "cell_type": "markdown",
   "metadata": {},
   "source": [
    "Import d'un second fichier local avec différents dictionnaires de valeurs\n",
    "1. Codes fonction (correspondance code Unimarc à 3 chiffres > Libellé). [Source : Abes](https://documentation.abes.fr/sudoc/formats/unmb/DonneesCodees/CodesFonctions.htm#TriCode)\n",
    "2. Tags de liens entre entités\n"
   ]
  },
  {
   "cell_type": "code",
   "execution_count": 48,
   "metadata": {},
   "outputs": [],
   "source": [
    "from common_dicts import * "
   ]
  },
  {
   "cell_type": "markdown",
   "metadata": {},
   "source": [
    "Le fichier Record.py définit **une classe d'objet Record** avec 4 (ou +) sous-classes:\n",
    " * Item\n",
    " * Manif\n",
    " * Expression\n",
    " * Oeuvre\n",
    "\n",
    "Les attributs communs sont \n",
    " * l'identifiant : **.id**\n",
    " * le type d'entité : **.type**\n",
    " * la notice en XML et en texte : **.xml** et **.txt**\n",
    " * un \"label\" (pas tout à fait un point d'accès en bonne et due forme) : **.label**\n",
    " * les statistiques des zones et sous-zones (dictionnaire) : **.stats_zones**\n",
    " * les liens aux mentions de responsabilités (dictionnaire) : **.resp**\n",
    "\n",
    "Chaque entité a en plus un attribut listant (dictionnaire) la ou les entités supérieures auxquelles elle est liée : \n",
    " * items : **.toManifs**\n",
    " * manifs : **.toExpressions**\n",
    " * expressions : **.toOeuvres**"
   ]
  },
  {
   "cell_type": "markdown",
   "metadata": {},
   "source": [
    "# Initialisation des entités\n",
    "\n",
    "On transforme les notices présentes dans les fichiers XML en objets de classes Item, Manif, Expression et Oeuvre telles que définies ci-dessus"
   ]
  },
  {
   "cell_type": "code",
   "execution_count": 49,
   "metadata": {},
   "outputs": [],
   "source": [
    "manifs = [Manifestation(manif, \"m\") for manif in manifs_file.xpath(\".//marc:record\", namespaces=ns)]\n",
    "oeuvres_expr = [Record(oe, \"oe\") for oe in oeuvres_expressions_file.xpath(\".//marc:record\", namespaces=ns)] \n",
    "items = [Item(oe, \"i\") for oe in items_file.xpath(\".//marc:record\", namespaces=ns)] \n",
    "\n",
    "oeuvres = []\n",
    "expressions = []\n",
    "oeuvres_or_expressions  =[]\n",
    "for entity in oeuvres_expr:\n",
    "    if entity.type == \"o\":\n",
    "        oeuvre = Oeuvre(entity.xml, entity.init_type)\n",
    "        oeuvres.append(oeuvre)\n",
    "        \n",
    "    elif entity.type == \"e\":\n",
    "        expression = Expression(entity.xml, entity.init_type)\n",
    "        expressions.append(expression)\n",
    "    else:\n",
    "        oeuvres_or_expressions.append(entity)"
   ]
  },
  {
   "cell_type": "markdown",
   "metadata": {},
   "source": [
    "On peut donc désormais appeler manipuler les informations présentes dans ces entités : on dispose de 4 listes (items, manifs, oeuvres, expressions) \n",
    "\n",
    "par exemple, pour la liste des manifestations avec leur identifiant et leur label, écrire :\n",
    "\n",
    "```for manif in manifs:\n",
    "    print(manif.id, manif.label)```"
   ]
  },
  {
   "cell_type": "markdown",
   "metadata": {},
   "source": [
    "Vous pouvez aussi vous demander à quoi ressemble une notice d'item en Unimarc, en affichant un des items de la liste `items`:\n",
    "\n",
    "`print(items[0].txt)`\n",
    "\n",
    "ou le 2e : \n",
    "\n",
    "`print(item[1]).txt`"
   ]
  },
  {
   "cell_type": "markdown",
   "metadata": {},
   "source": [
    "## Les dictionnaires utiles\n",
    "\n",
    "Ensemble de dictionnaires permettant de naviguer dans les entités à partir d'un élément d'information"
   ]
  },
  {
   "cell_type": "markdown",
   "metadata": {},
   "source": [
    "### Dictionnaire ID > entité complète\n",
    "\n",
    "A partir de l'identifiant (numéro de notice) on récupère l'entité de classe Item, Manif, Expression ou Oeuvre (au sens des classes définies dans le code ci-dessus"
   ]
  },
  {
   "cell_type": "code",
   "execution_count": 50,
   "metadata": {},
   "outputs": [],
   "source": [
    "dict_entities = {}\n",
    "for entity in items + manifs + expressions + oeuvres:\n",
    "    dict_entities[entity.id] = entity"
   ]
  },
  {
   "cell_type": "markdown",
   "metadata": {},
   "source": [
    "### Dictionnaire Manif > Items\n",
    "\n",
    "Chaque notice contient des liens vers l'entité \"supérieure\" dans l'arbre FRBR. Mais les liens inverses peuvent être utiles.\n",
    "\n",
    "On en profite pour récupérer les points d'accès des manifs dans les liens Item > Manif (au sein de l'item)"
   ]
  },
  {
   "cell_type": "code",
   "execution_count": 51,
   "metadata": {},
   "outputs": [],
   "source": [
    "dict_manif2item = defaultdict(list)\n",
    "for item in items:\n",
    "    for manif in item.toManifs:\n",
    "        try:\n",
    "            manif_accesspoint = dict_entities[manif].label\n",
    "        except KeyError:\n",
    "            print(\"Manifestation\", manif, f\"mentionnée dans l'item {item.id} mais absente du fichier des manifestations\")\n",
    "        item.toManifs[manif] = manif_accesspoint\n",
    "        dict_manif2item[manif].append(item.id)\n",
    "        "
   ]
  },
  {
   "cell_type": "markdown",
   "metadata": {},
   "source": [
    "# Les entités"
   ]
  },
  {
   "cell_type": "markdown",
   "metadata": {},
   "source": [
    "## Les items"
   ]
  },
  {
   "cell_type": "code",
   "execution_count": 52,
   "metadata": {},
   "outputs": [
    {
     "name": "stdout",
     "output_type": "stream",
     "text": [
      "Nombre d'items :  55\n"
     ]
    }
   ],
   "source": [
    "print(\"Nombre d'items : \", len(items))"
   ]
  },
  {
   "cell_type": "markdown",
   "metadata": {},
   "source": [
    "Liste des numéros de notices d'item"
   ]
  },
  {
   "cell_type": "code",
   "execution_count": 53,
   "metadata": {},
   "outputs": [
    {
     "name": "stdout",
     "output_type": "stream",
     "text": [
      "['UMLRM1000', 'UMLRM1001', 'UMLRM1002', 'UMLRM1003', 'UMLRM1004', 'UMLRM1005', 'UMLRM1006', 'UMLRM1007', 'UMLRM1008', 'UMLRM1009', 'UMLRM1010', 'UMLRM1011', 'UMLRM1012', 'UMLRM1013', 'UMLRM1014', 'UMLRM1015', 'UMLRM1016', 'UMLRM1017', 'UMLRM1018', 'UMLRM1019', 'UMLRM1020', 'UMLRM1021', 'UMLRM1022', 'UMLRM1023', 'UMLRM1024', 'UMLRM1025', 'UMLRM1026', 'UMLRM1027', 'UMLRM1028', 'UMLRM1029', 'UMLRM1030', 'UMLRM1032', 'UMLRM1033', 'UMLRM1034', 'UMLRM1035', 'UMLRM1036', 'UMLRM1037', 'UMLRM1038', 'UMLRM1039', 'UMLRM1041', 'UMLRM1042', 'UMLRM1043', 'UMLRM1044', 'UMLRM1045', 'UMLRM1046', 'UMLRM1047', 'UMLRM1048', 'UMLRM1049', 'UMLRM1050', 'UMLRM1051', 'UMLRM1052', 'UMLRM1053', 'UMLRM1054', 'UMLRM1055', 'UMLRM1056']\n"
     ]
    }
   ],
   "source": [
    "print([item.id for item in items])"
   ]
  },
  {
   "cell_type": "markdown",
   "metadata": {},
   "source": [
    "**Visualiser un item par son numéro de notice (liste ci-dessus) :**"
   ]
  },
  {
   "cell_type": "code",
   "execution_count": 54,
   "metadata": {},
   "outputs": [
    {
     "name": "stdout",
     "output_type": "stream",
     "text": [
      "Numéro d'item (exemple UMLRM1050): \n",
      "id : UMLRM1050\n",
      "type initial : i ; type : i\n",
      "label : \n",
      "\n",
      "Notice : \n",
      "000    00328na aa220012110 4500\n",
      "001    UMLRM1050\n",
      "004    UMLRM0173\n",
      "070    $a CEL_0000000051\n",
      "100    $a 20221024frey01      ba0\n",
      "170    $a aa         \n",
      "171    $a fbxxx001\n",
      "252    $a BM_CELESTEVILLE $b JEUNESSE $j COTE_UMLRM1050 $m CV0000000051\n",
      "801 0  $a FR $b Bibliothèque municipale de Célesteville \n",
      "\n",
      "XML : <Element {http://www.loc.gov/MARC21/slim}record at 0x164cf129488>\n",
      "\n",
      "Manif en lien : {'UMLRM0173': 'Dracula, Bram Stoker'}\n"
     ]
    }
   ],
   "source": [
    "itemid = input(\"Numéro d'item (exemple UMLRM1050): \")\n",
    "if itemid == \"\":\n",
    "    itemid = \"UMLRM1050\"\n",
    "print(dict_entities[itemid])"
   ]
  },
  {
   "cell_type": "code",
   "execution_count": null,
   "metadata": {},
   "outputs": [],
   "source": []
  },
  {
   "cell_type": "markdown",
   "metadata": {},
   "source": [
    "Chaque item n'est relié qu'à 1 manifestation"
   ]
  },
  {
   "cell_type": "code",
   "execution_count": 55,
   "metadata": {},
   "outputs": [
    {
     "name": "stdout",
     "output_type": "stream",
     "text": [
      "53 manifestations reliées à 1 items\n",
      "1 manifestations reliées à 2 items\n",
      "UMLRM0137 liée à 2 items\n"
     ]
    }
   ],
   "source": [
    "stats_manifs_items = defaultdict(int)\n",
    "for manif in dict_manif2item:\n",
    "    stats_manifs_items[len(dict_manif2item[manif])] += 1\n",
    "for nb_items in stats_manifs_items:\n",
    "    print(stats_manifs_items[nb_items], \"manifestations reliées à\", nb_items, \"items\")\n",
    "for manif in dict_manif2item:\n",
    "    if len(dict_manif2item[manif]) > 1:\n",
    "        print(manif, \"liée à\", len(dict_manif2item[manif]), \"items\")"
   ]
  },
  {
   "cell_type": "markdown",
   "metadata": {},
   "source": [
    "## Les manifestations\n",
    "\n",
    "Besoins : \n",
    "* pour une manifestation, récupérer les métas principales :\n",
    "  * titre, point d'accès, auteur\n",
    "  * liens aux entités Expressions (et oeuvre ?)\n",
    "* pour une manif, récupérer la liste des expressions et la liste des oeuvres (lien direct)\n",
    "  * créer des attributs à la manifs, en fournissant l'expression source pour chaque oeuvre identifié"
   ]
  },
  {
   "cell_type": "markdown",
   "metadata": {},
   "source": [
    "**Manifestations sans item**"
   ]
  },
  {
   "cell_type": "code",
   "execution_count": 56,
   "metadata": {},
   "outputs": [
    {
     "name": "stdout",
     "output_type": "stream",
     "text": [
      "Manifestation UMLRM0140  : aucun exemplaire lié\n",
      "Manifestation UMLRM0176  : aucun exemplaire lié\n",
      "Manifestation UMLRM0177  : aucun exemplaire lié\n",
      "Manifestation UMLRM0178  : aucun exemplaire lié\n",
      "Manifestation UMLRM0179  : aucun exemplaire lié\n",
      "Manifestation UMLRM0182  : aucun exemplaire lié\n"
     ]
    }
   ],
   "source": [
    "for manif in manifs:\n",
    "    if manif.id not in dict_manif2item:\n",
    "        print(\"Manifestation\", manif.id, \" : aucun exemplaire lié\")"
   ]
  },
  {
   "cell_type": "markdown",
   "metadata": {},
   "source": [
    "## Les expressions\n",
    "\n",
    "Les expressions sont présentes dans le fichier oeuvres_expressions, et distinguables les une des autres par la zone **154$a pos.1**, selon la valeur trouvée : \n",
    "* a : oeuvre\n",
    "* b : expression\n",
    "* x : autres"
   ]
  },
  {
   "cell_type": "code",
   "execution_count": 57,
   "metadata": {},
   "outputs": [
    {
     "name": "stdout",
     "output_type": "stream",
     "text": [
      "Nombre d'expressions :  52\n"
     ]
    }
   ],
   "source": [
    "print(\"Nombre d'expressions : \", len(expressions))"
   ]
  },
  {
   "cell_type": "markdown",
   "metadata": {},
   "source": [
    "### Liens Expressions > mentions de responsabilités"
   ]
  },
  {
   "cell_type": "code",
   "execution_count": 58,
   "metadata": {},
   "outputs": [
    {
     "name": "stdout",
     "output_type": "stream",
     "text": [
      "Nombre d'expressions contenant 1 mentions de responsabilités :  12\n",
      "Nombre d'expressions contenant 0 mentions de responsabilités :  33\n",
      "Nombre d'expressions contenant 2 mentions de responsabilités :  5\n",
      "Nombre d'expressions contenant 4 mentions de responsabilités :  1\n",
      "Nombre d'expressions contenant 10 mentions de responsabilités :  1\n"
     ]
    }
   ],
   "source": [
    "stats_exp_resp = defaultdict(int)\n",
    "\n",
    "for expr in expressions:\n",
    "    stats_exp_resp[len(expr.resp)] += 1\n",
    "\n",
    "for key in stats_exp_resp:\n",
    "    print(\"Nombre d'expressions contenant\", key, \"mentions de responsabilités : \", stats_exp_resp[key])"
   ]
  },
  {
   "cell_type": "markdown",
   "metadata": {},
   "source": [
    "## Les oeuvres\n",
    "\n"
   ]
  },
  {
   "cell_type": "code",
   "execution_count": 59,
   "metadata": {},
   "outputs": [
    {
     "name": "stdout",
     "output_type": "stream",
     "text": [
      "Nombre d'oeuvres :  50\n"
     ]
    }
   ],
   "source": [
    "print(\"Nombre d'oeuvres : \", len(oeuvres))"
   ]
  },
  {
   "cell_type": "markdown",
   "metadata": {},
   "source": [
    "## Les entités du fichier oeuvres-expressions non typées"
   ]
  },
  {
   "cell_type": "code",
   "execution_count": 60,
   "metadata": {},
   "outputs": [
    {
     "name": "stdout",
     "output_type": "stream",
     "text": [
      "0 entités du fichier D:\\BNF0017855\\Documents\\MET\\Transition bibliographique\\données unimarcLRM interne\\UM-LRM\\notices_xml\\UMA_Oeuvres_Expressions.xml non typées Oeuvre ou Expression.\n"
     ]
    }
   ],
   "source": [
    "print(len([oe for oe in oeuvres_expr if oe.type == \"x\"]), \n",
    "          f\"entités du fichier {oeuvres_expressions_filename} non typées Oeuvre ou Expression.\")\n"
   ]
  },
  {
   "cell_type": "markdown",
   "metadata": {},
   "source": [
    "# Relations entre entités\n",
    "\n",
    "Note (non exploitable informatiquement) 370\n"
   ]
  },
  {
   "cell_type": "markdown",
   "metadata": {},
   "source": [
    "## Codes fonctions"
   ]
  },
  {
   "cell_type": "code",
   "execution_count": 61,
   "metadata": {},
   "outputs": [
    {
     "name": "stdout",
     "output_type": "stream",
     "text": [
      "Entité e - Adaptateur\n",
      "Entité e - Chef d'orchestre\n",
      "Entité e - Compositeur\n",
      "Entité e - Danseur\n",
      "Entité e - Ensemble de cordes\n",
      "Entité e - Musicien\n",
      "Entité e - Narrateur\n",
      "Entité e - Producteur\n",
      "Entité e - Traducteur\n",
      "Entité e - Voix parlée\n",
      "Entité e - Éditeur scientifique\n",
      "Entité m - Auteur du commentaire\n",
      "Entité m - Commentateur\n",
      "Entité m - Distributeur\n",
      "Entité m - Illustrateur\n",
      "Entité m - Imprimeur\n",
      "Entité m - Intervieweur\n",
      "Entité m - Metteur en scène ou réalisateur\n",
      "Entité m - Personne interviewée\n",
      "Entité m - Préfacier, etc.\n",
      "Entité m - Éditeur commercial\n",
      "Entité m - Éditeur scientifique\n",
      "Entité o - Acteur\n",
      "Entité o - Adaptateur\n",
      "Entité o - Artiste\n",
      "Entité o - Auteur\n",
      "Entité o - Chorégraphe\n",
      "Entité o - Collaborateur\n",
      "Entité o - Compositeur\n",
      "Entité o - Danseur\n",
      "Entité o - Directeur artistique\n",
      "Entité o - Directeur de la recherche\n",
      "Entité o - Directeur de publication\n",
      "Entité o - Dédicataire\n",
      "Entité o - Illustrateur\n",
      "Entité o - Membre de l'équipe de production\n",
      "Entité o - Metteur en scène ou réalisateur\n",
      "Entité o - Narrateur\n",
      "Entité o - Organisme de soutenance\n",
      "Entité o - Producteur\n",
      "Entité o - Producteur de phonogramme\n",
      "Entité o - Programmeur\n",
      "Entité o - Scénariste\n",
      "Entité o - Technicien graphique\n",
      "Entité o - Éditeur scientifique\n"
     ]
    }
   ],
   "source": [
    "liste_roles = set()\n",
    "for e in manifs + expressions + oeuvres:\n",
    "    for r in e.resp:\n",
    "        for role in e.resp[r]:\n",
    "            liste_roles.add(f\"Entité {e.type} - {role}\")\n",
    "for el in sorted(liste_roles):\n",
    "    print(el)"
   ]
  },
  {
   "cell_type": "markdown",
   "metadata": {},
   "source": [
    "## Liens dans les manifs"
   ]
  },
  {
   "cell_type": "markdown",
   "metadata": {},
   "source": [
    "### Liens manif > expression"
   ]
  },
  {
   "cell_type": "code",
   "execution_count": 62,
   "metadata": {},
   "outputs": [
    {
     "name": "stdout",
     "output_type": "stream",
     "text": [
      "*** Liens aux Expressions ***\n",
      "507 point d'accès autorisé Titre (manifestation pointant vers expression)\n",
      "577 point d'accès autorisé Auteur-Titre (manifestation pointant vers expression)\n"
     ]
    }
   ],
   "source": [
    "print(\"*** Liens aux Expressions ***\")\n",
    "for lien in tags_manif2expressions:\n",
    "    print(lien, tags_manif2expressions[lien])"
   ]
  },
  {
   "cell_type": "markdown",
   "metadata": {},
   "source": [
    "* Chaque manifestation a un attribut **.toExpression** qui est un dictionnaire :\n",
    "  * clé : numéro de notice d'expression\n",
    "  * valeur : point d'accès (sans les dollars)"
   ]
  },
  {
   "cell_type": "markdown",
   "metadata": {},
   "source": [
    "**Liste des manifestations et liens aux expressions**"
   ]
  },
  {
   "cell_type": "code",
   "execution_count": 63,
   "metadata": {},
   "outputs": [
    {
     "name": "stdout",
     "output_type": "stream",
     "text": [
      "\n",
      " UMLRM0003 Nosferatu, Réalisation Friedrich W. Murnau\n",
      "    ∟-----Expr-- UMLRM0002 Nosferatu, eine Symphonie des Grauens, film, Version restaurée, 60mn, 1995, Français\n",
      "\n",
      " UMLRM0006 Dracula, Bram Stoker\n",
      "    ∟-----Expr-- UMLRM0005 Stoker, Bram (1847-1912), Dracula, Anglais, Texte noté\n",
      "\n",
      " UMLRM0009 Nosferatu, fantôme de la nuit, un film de Werner Herzog\n",
      "    ∟-----Expr-- UMLRM0008 Nosferatu, Phantom der Nacht, film, français\n",
      "\n",
      " UMLRM0012 \"Nosferatu le vampire, Paola Palma, Dimitri Vezyroglou\n",
      "    ∟-----Expr-- UMLRM0011 Palma, Paola (1971-….), Vezyroglou, Dimitri (1970-….), \"Nosferatu le vampire\", Français, Texte noté\n",
      "\n",
      " UMLRM0015 Jean-Claude Gallotta, Nosferatu, ballet de l'Opéra,  Opéra national de Paris\n",
      "    ∟-----Expr-- UMLRM0015 Jean-Claude Gallotta, Nosferatu, ballet de l'Opéra, programme, 2006-05, Texte noté. Image fixe\n",
      "\n",
      " UMLRM0018 Dracula, by Bram Stoker\n",
      "    ∟-----Expr-- UMLRM0005 Stoker, Bram (1847-1912), Dracula, Anglais, Texte noté\n",
      "\n",
      " UMLRM0021 Dracula, Bram Stoker\n",
      "    ∟-----Expr-- UMLRM0020 Stoker, Bram (1847-1912), Dracula, Français, Molitor, Texte noté\n",
      "\n",
      " UMLRM0024 Dracula, Bram Stoker\n",
      "    ∟-----Expr-- UMLRM0020 Stoker, Bram (1847-1912), Dracula, Français, Molitor, Texte noté\n",
      "\n",
      " UMLRM0027 Dracula, Bram Stoker\n",
      "    ∟-----Expr-- UMLRM0020  Stoker, Bram (1847-1912), Dracula, Français, Molitor, Texte noté\n",
      "\n",
      " UMLRM0030 Dracula, Bram Stoker\n",
      "    ∟-----Expr-- UMLRM0020 Stoker, Bram (1847-1912), Dracula, Français, Molitor, Texte noté\n",
      "\n",
      " UMLRM0033 Dracula, Bram Stoker\n",
      "    ∟-----Expr-- UMLRM0032 Stoker, Bram (1847-1912), Dracula, Choix, Bruneel-Ziane, Français, Molitor, Texte noté\n",
      "\n",
      " UMLRM0036 Dracula, d'après Bram Stoker\n",
      "    ∟-----Expr-- UMLRM0035 Humphries, Tudor (1953-….), Dracula, Français, Texte noté. Image fixe\n",
      "\n",
      " UMLRM0039 Dracula, Bram Stoker\n",
      "    ∟-----Expr-- UMLRM0038 Stoker, Bram (1847-1912), Dracula, Choix, Cassou-Noguès ; Langenhagen, Français, Finné, Texte noté, 2006\n",
      "\n",
      " UMLRM0042 Dracula, Bram Stoker\n",
      "    ∟-----Expr-- UMLRM0041 Stoker, Bram (1847-1912), Dracula, Français, Sirgent, Texte noté\n",
      "\n",
      " UMLRM0045 Dracula, Bram Stoker\n",
      "    ∟-----Expr-- UMLRM0041 Stoker, Bram (1847-1912), Dracula, Français, Sirgent, Texte noté\n",
      "\n",
      " UMLRM0048 Dracula, Bram Stoker\n",
      "    ∟-----Expr-- UMLRM0047 Stoker, Bram (1847-1912), Dracula, Choix, Cassou-Noguès ; Langenhagen, Français, Finné, Texte noté, 2017\n",
      "\n",
      " UMLRM0051 Dracula, Bram Stoker\n",
      "    ∟-----Expr-- UMLRM0050 Stoker, Bram (1847-1912), Dracula, Français, Finné, Texte noté\n",
      "\n",
      " UMLRM0054 Dracula, Bram Stoker\n",
      "    ∟-----Expr-- UMLRM0053 Stoker, Bram (1847-1912), Dracula, Version abrégée, Chichportiche, Français, Texte noté\n",
      "\n",
      " UMLRM0057 Dracula, Brahm Stoker\n",
      "    ∟-----Expr-- UMLRM0056 Stoker, Bram (1847-1912), Dracula, Français, Paul-Margueritte, Texte noté\n",
      "\n",
      " UMLRM0060 Dracula, Brahm Stoker\n",
      "    ∟-----Expr-- UMLRM0059 Stoker, Bram (1847-1912), Dracula, Français, Paul-Margueritte, Version abrégée, Texte noté\n",
      "    ∟-----Expr-- UMLRM0153 [Photographies extraites du film « Dracula » de Tod Browning], Tallandier, 1932, Image fixe\n",
      "\n",
      " UMLRM0063 Dracula, Bram Stoker\n",
      "    ∟-----Expr-- UMLRM0056 Stoker, Bram (1847-1912), Dracula, Français, Paul-Margueritte, Texte noté\n",
      "\n",
      " UMLRM0066 Drácula, Bram Stoker\n",
      "    ∟-----Expr-- UMLRM0065 Stoker, Bram (1847-1912), Dracula, Espagnol, Texte noté\n",
      "\n",
      " UMLRM0069 Dracula‎, Bram Stoker‎\n",
      "    ∟-----Expr-- UMLRM0068 Stoker, Bram (1847-1912), Dracula, Français, Molitor, Version abrégée, Moissard, Texte noté\n",
      "\n",
      " UMLRM0072 Bram Stoker, Barbara Belford\n",
      "    ∟-----Expr-- UMLRM0071 Belford, Barbara, Bram Stoker : a biography of the author of \"Dracula\", Anglais, Texte noté\n",
      "\n",
      " UMLRM0077 Dracula¤suivi de L'invité de Dracula, Bram Stoker\n",
      "    ∟-----Expr-- UMLRM0050 Stoker, Bram (1847-1912), Dracula, Français, Finné, Texte noté\n",
      "    ∟-----Expr-- UMLRM0076 Stoker, Bram (1847-1912), Dracula’s guest, Français, Finné, Texte noté\n",
      "\n",
      " UMLRM0080 Bram Stoker's Dracula, Gary Oldman, Winona Ryder, Anthony Hopkins... [et autres], [acteurs]\n",
      "    ∟-----Expr-- UMLRM0079 Bram Stoker's Dracula, film, Anglais\n",
      "\n",
      " UMLRM0083 \"Dracula\", ouvrage dirigé par Gilles Menegaldo et Dominique Sipière\n",
      "    ∟-----Expr-- UMLRM0082 \"Dracula\" : l'oeuvre de Bram Stoker et le film de Francis F. Coppola, Français-Anglais, Texte noté\n",
      "\n",
      " UMLRM0086 Dracula, Matei Cazacu\n",
      "    ∟-----Expr-- UMLRM0085 Cazacu, Matei (1946-....), Dracula, Français, Texte noté\n",
      "\n",
      " UMLRM0089 Le vampire au fil des siècles, Estelle Valls de Gomis\n",
      "    ∟-----Expr-- UMLRM0088 Valls de Gomis, Estelle (1973-...), Le vampire au fil des siècles : enquête autour d'un mythe, Français, Texte noté\n",
      "\n",
      " UMLRM0092 Nosferatu, Idol FX AB, Pan vision\n",
      "    ∟-----Expr-- UMLRM0091 Nosferatu, the wrath of Malachi, jeu vidéo, PC, Français\n",
      "\n",
      " UMLRM0095 Nosferatu, Idol FX AB, Pan vision\n",
      "    ∟-----Expr-- UMLRM0091 Nosferatu, the wrath of Malachi, jeu vidéo, PC, Français\n",
      "\n",
      " UMLRM0101 Nosferatu, [texte et dessins de] Druillet\n",
      "    ∟-----Expr-- UMLRM0100 Druillet, Philippe (1944-….), Nosferatu, Français, Texte noté. Image fixe\n",
      "\n",
      " UMLRM0104 Nosferatu, Druillet\n",
      "    ∟-----Expr-- UMLRM0100 Druillet, Philippe (1944-….), Nosferatu, Français, Texte noté. Image fixe\n",
      "\n",
      " UMLRM0107 Dracula has risen from the grave‎, starring Christopher Lee, Rupert Davies\n",
      "    ∟-----Expr-- UMLRM0106 Dracula has risen from the grave, film, Anglais\n",
      "\n",
      " UMLRM0110 Dracula, Bram Stoker\n",
      "    ∟-----Expr-- UMLRM0020 Stoker, Bram (1847-1912), Dracula, Français, Molitor, Texte noté\n",
      "    ∟-----Expr-- UMLRM0151 Druillet, Philippe (1944-....), Illustrations pour \"Dracula\" de Bram Stoker, Image fixe\n",
      "\n",
      " UMLRM0113  Bram Stoker’s Dracula, William Hughes\n",
      "    ∟-----Expr-- UMLRM0112 Hughes, William (1964-....), Bram Stoker’s Dracula : a reader’s guide, Anglais, Texte noté\n",
      "\n",
      " UMLRM0116 Dracula l'immortel, Dacre Stoker et Ian Holt\n",
      "    ∟-----Expr-- UMLRM0115 Stoker, Dacre, Holt, Ian (1964-….), Dracula, the un-dead, Français, Texte noté\n",
      "\n",
      " UMLRM0119 Dracula l'immortel, scénario, Michel Dufranne\n",
      "    ∟-----Expr-- UMLRM0118 Dufranne, Michel (1970-....), Kowalski, Piotr (1973-....), Dracula l’immortel, 2, Français, Texte noté. Image fixe\n",
      "\n",
      " UMLRM0122 Dracula, mort et heureux de l’être, un film de Mel Brooks\n",
      "    ∟-----Expr-- UMLRM0189 Dracula, dead and loving it, film, Anglais ; sous-titrage optionnel en français, 2009\n",
      "    ∟-----Expr-- UMLRM0121 Dracula, dead and loving it, film, Français, 2009\n",
      "\n",
      " UMLRM0128 Bram Stoker’s notes for “Dracula “, Bram Stoker\n",
      "    ∟-----Expr-- UMLRM0127 Stoker, Bram (1847-1912), Manuscrits, Choix, Eighteen-Bisang ; Miller, Anglais, Texte noté\n",
      "\n",
      " UMLRM0131 L'ombre du vampire, E. Elias Merhige, [réalisateur]\n",
      "    ∟-----Expr-- UMLRM0130 Shadow of the vampire, film, Français\n",
      "\n",
      " UMLRM0134 Max Schreck, Stefan Eickhoff\n",
      "    ∟-----Expr-- UMLRM0133 Eickhoff, Stefan, Max Schreck : Gespenstertheater, Allemand, Texte noté\n",
      "\n",
      " UMLRM0137 Dracula, un film de Guy Maddin, [réalisateur]\n",
      "    ∟-----Expr-- UMLRM0136 Dracula : pages from a virgin's diary, film, Anglais ; sous-titrage en français\n",
      "\n",
      " UMLRM0140 [Maquette de décor en volume pour \"Nosferatu\"], [Daniel Jeanneteau et Laure Deratte]\n",
      "    ∟-----Expr-- UMLRM0139 Jeanneteau, Daniel (1963-....), Deratte, Laure (19..-....), [Maquette de décor en volume pour \"Nosferatu\"], Image fixe\n",
      "\n",
      " UMLRM0158 Dracula, music by Philip Glass\n",
      "    ∟-----Expr-- UMLRM0157 Glass, Philip (1937-....), Dracula, Musique exécutée, Kronos quartet\n",
      "\n",
      " UMLRM0160 Dracula, Tod Browning, [réalisateur]\n",
      "    ∟-----Expr-- UMLRM0159 Dracula, film, 1931, Version restaurée, Versions multiples (5 langues ; sous-titrage en 5 langues)\n",
      "    ∟-----Expr-- UMLRM0162 Drácula, film, 1931, espagnol, Version restaurée\n",
      "    ∟-----Expr-- UMLRM0157 Glass, Philip (1937-....), Dracula, Musique exécutée, Kronos quartet\n",
      "\n",
      " UMLRM0168 Guy Maddin\n",
      "    ∟-----Expr-- UMLRM0167 Guy Maddin, ED Distribution, Anglais ; sous-titrage en français, Image animée\n",
      "\n",
      " UMLRM0171 Dracula, pages tirées du journal d’une vierge, un film de Guy Maddin, [V. Gauriat]\n",
      "    ∟-----Expr-- UMLRM0170 Gauriat, Vincent, Dracula, pages tirées du journal d’une vierge, un film de Guy Maddin, Image fixe\n",
      "\n",
      " UMLRM0173 Dracula, Bram Stoker\n",
      "    ∟-----Expr-- UMLRM0172 Stoker, Bram (1847-1912), Dracula, Choix, Cassou-Noguès ; Langenhagen, Français, Finné, Texte noté, 2004\n",
      "\n",
      " UMLRM0176 Les grands classiques du cinéma allemand\n",
      "    ∟-----Expr-- UMLRM0175 Les grands classiques du cinéma allemand, RDM vidéo, Anglais, allemand, français ; sous-titrage en français, Image animée\n",
      "\n",
      " UMLRM0177 Dracula, Bram Stoker\n",
      "    ∟-----Expr-- UMLRM0161 Humphries, Tudor (1953-….), Dracula, Anglais, Texte noté. Image fixe\n",
      "\n",
      " UMLRM0178 Dracula, Bram Stoker\n",
      "    ∟-----Expr-- UMLRM0053 Stoker, Bram (1847-1912), Dracula, Version abrégée, Chichportiche, Français, Texte noté\n",
      "\n",
      " UMLRM0179 Dracula, Bram Stoker\n",
      "    ∟-----Expr-- UMLRM0053 Stoker, Bram (1847-1912), Dracula, Version abrégée, Chichportiche, Français, Texte noté\n",
      "\n",
      " UMLRM0182 Dracula et les femmes, avec Christopher Lee, Rupert Davies\n",
      "    ∟-----Expr-- UMLRM0181 Dracula has risen from the grave, film, Français\n",
      "\n",
      " UMLRM0185 L'ombre du vampire, E. Elias Merhige, [réalisateur]\n",
      "    ∟-----Expr-- UMLRM0130 Shadow of the vampire, film, Français\n",
      "    ∟-----Expr-- UMLRM0184 Shadow of the vampire, film, Anglais ; sous titrage en français\n",
      "\n",
      " UMLRM0188 Dracula, Bram Stoker\n",
      "    ∟-----Expr-- UMLRM0187 Stoker, Bram (1847-1912), Dracula, Français, Parole énoncée\n",
      "\n",
      " UMLRM0190 Mel Brooks\n",
      "    ∟-----Expr--  Robin Hood, men in tights, film, Français, 2015\n",
      "    ∟-----Expr-- UMLRM0189 Dracula, dead and loving it, film, Anglais ; sous-titrage optionnel en français, 2009\n",
      "    ∟-----Expr-- UMLRM0121 Dracula, dead and loving it, film, Français, 2009\n",
      "\n",
      " UMLRM0193 Dracula, starring Orson Welles\n",
      "    ∟-----Expr-- UMLRM0192 Dracula, émission radiophonique, 1938, Anglais, Parole énoncée. Musique exécutée=712 02, Radio spirits, Firme\n",
      "\n",
      " UMLRM0197 Bibliographie de Dracula, Jacques Finné\n",
      "    ∟-----Expr-- UMLRM0196 Finné, Jacques (1944-….), Bibliographie de Dracula, Français, Texte noté\n",
      "\n",
      " UMLRM0199 Dictionnaire des littératures vampiriques, Jacques Finné, Jean Marigny\n",
      "    ∟-----Expr-- UMLRM0198 Finné, Jacques (1944-….), Marigny, Jean (1939-....), Dictionnaire des littératures vampiriques, Français, Texte noté\n"
     ]
    }
   ],
   "source": [
    "for el in manifs:\n",
    "    print(\"\\n\", el.id, el.label)\n",
    "    for expression in el.toExpressions:\n",
    "        print(f\"    ∟{'-'*5}Expr{'-'*2}\", expression, el.toExpressions[expression])"
   ]
  },
  {
   "cell_type": "markdown",
   "metadata": {},
   "source": [
    "### Mentions de responsabilités"
   ]
  },
  {
   "cell_type": "code",
   "execution_count": 64,
   "metadata": {},
   "outputs": [
    {
     "name": "stdout",
     "output_type": "stream",
     "text": [
      "*** Liens aux mentions de responsabilités ***\n",
      "702 Lien de manifestation à une mention de responsabilité Personne\n",
      "712 Lien de manifestation à une mention de responsabilité Collectivité\n"
     ]
    }
   ],
   "source": [
    "print(\"*** Liens aux mentions de responsabilités ***\")\n",
    "for lien in tags_resp[\"m\"]:\n",
    "    print(lien, tags_resp[\"m\"][lien])"
   ]
  },
  {
   "cell_type": "markdown",
   "metadata": {},
   "source": [
    "* Chaque manifestation a un attribut **.resp** qui est un dictionnaire:\n",
    "  * clé : label de l'entité en lien\n",
    "  * valeur : liste des fonctions"
   ]
  },
  {
   "cell_type": "markdown",
   "metadata": {},
   "source": [
    "# Les expressions"
   ]
  },
  {
   "cell_type": "markdown",
   "metadata": {},
   "source": [
    "## Liste des expressions et liens aux oeuvres\n",
    "\n",
    "Chaque instance de l'entité Expression a un attribut \".toOeuvres\" qui liste sous forme de dictionnaire les liens aux oeuvres (clé : numéro de notice d'oeuvre ; valeur : point d'accès de l'oeuvre)"
   ]
  },
  {
   "cell_type": "code",
   "execution_count": 65,
   "metadata": {},
   "outputs": [
    {
     "name": "stdout",
     "output_type": "stream",
     "text": [
      "\n",
      " UMLRM0002 Nosferatu, eine Symphonie des Grauens\n",
      "    ∟----- UMLRM0175 Les grands classiques du cinéma allemand, RDM vidéo, Anglais, allemand, français ; sous-titrage en français, Image animée\n",
      "\n",
      " UMLRM0005 Stoker, Bram (1847-1912), Dracula\n",
      "    ∟----- UMLRM0056 (A pour traduction) Stoker, Bram (1847-1912), Dracula, Français, Paul-Margueritte, Texte noté\n",
      "    ∟----- UMLRM0020 (A pour traduction) Stoker, Bram (1847-1912), Dracula, Français, Molitor, Texte noté\n",
      "    ∟----- UMLRM0041 (A pour traduction) Stoker, Bram (1847-1912), Dracula, Français, Sirgent, Texte noté\n",
      "    ∟----- UMLRM0050 (A pour traduction) Stoker, Bram (1847-1912), Dracula, Français, Finné, Texte noté\n",
      "    ∟----- UMLRM0053 (Abrégé en) Stoker, Bram (1847-1912), Dracula, Version abrégée, Chicheportiche, Français, Texte noté\n",
      "\n",
      " UMLRM0008 Nosferatu, Phantom der Nacht\n",
      "\n",
      " UMLRM0011 Palma, Paola (1971-….)¤Vezyroglou, Dimitri (1970-….), \"Nosferatu le vampire\"\n",
      "\n",
      " UMLRM0014 Jean-Claude Gallotta, Nosferatu, ballet de l'Opéra\n",
      "\n",
      " UMLRM0020 Stoker, Bram (1847-1912), Dracula\n",
      "    ∟----- UMLRM0005 (Est une traduction de) Stoker, Bram (1847-1912), Dracula, Anglais, Texte noté\n",
      "    ∟----- UMLRM0068 (Abrégé en) Stoker, Bram (1847-1912), Dracula, Français, Molitor, Version abrégée, Moissard, Texte noté\n",
      "\n",
      " UMLRM0032 Stoker, Bram (1847-1912), Dracula\n",
      "    ∟----- UMLRM0020 (Est une sélection de [expression]) Stoker, Bram (1847-1912), Dracula, Français, Molitor, Texte noté\n",
      "\n",
      " UMLRM0035 Humphries, Tudor (1953-….), Dracula\n",
      "    ∟----- UMLRM0161 (Est une traduction de) Humphries, Tudor (1953-….), Dracula, Anglais, Texte noté. Image fixe\n",
      "\n",
      " UMLRM0038 Stoker, Bram (1847-1912), Dracula\n",
      "    ∟----- UMLRM0050 (Est une sélection de [expression]) Stoker, Bram (1847-1912), Dracula, Français, Finné, Texte noté\n",
      "\n",
      " UMLRM0041 Stoker, Bram (1847-1912), Dracula\n",
      "    ∟----- UMLRM0005 (Est une traduction de) Stoker, Bram (1847-1912), Dracula, Anglais, Texte noté\n",
      "\n",
      " UMLRM0047 Stoker, Bram (1847-1912), Dracula\n",
      "    ∟----- UMLRM0050 (Est une sélection de [expression]) Stoker, Bram (1847-1912), Dracula, Français, Finné, Texte noté\n",
      "\n",
      " UMLRM0050 Stoker, Bram (1847-1912), Dracula\n",
      "    ∟----- UMLRM0005 (Est une traduction de) Stoker, Bram (1847-1912), Dracula, Anglais, Texte noté\n",
      "    ∟----- UMLRM0172 (A pour sélection [expression]) Stoker, Bram (1847-1912), Dracula, Choix, Cassou-Noguès ; Langenhagen, Français, Finné, Texte noté, 2004\n",
      "    ∟----- UMLRM0038 (A pour sélection [expression]) Stoker, Bram (1847-1912), Dracula, Choix, Cassou-Noguès ; Langenhagen, Français, Finné, Texte noté, 2006\n",
      "    ∟----- UMLRM0047 (A pour sélection [expression]) Stoker, Bram (1847-1912), Dracula, Choix, Cassou-Noguès ; Langenhagen, Français, Finné, Texte noté, 2017\n",
      "\n",
      " UMLRM0053 Stoker, Bram (1847-1912), Dracula\n",
      "    ∟----- UMLRM0005 (Est un abrégé de) Stoker, Bram (1847-1912), Dracula, Anglais, Texte noté\n",
      "\n",
      " UMLRM0056 Stoker, Bram (1847-1912), Dracula\n",
      "    ∟----- UMLRM0005 (Est une traduction de) Stoker, Bram (1847-1912), Dracula, Anglais, Texte noté\n",
      "    ∟----- UMLRM0059 (Abrégé en) Stoker, Bram (1847-1912), Dracula, Français, Paul-Margueritte, Version abrégée, Texte noté\n",
      "\n",
      " UMLRM0059 Stoker, Bram (1847-1912), Dracula\n",
      "    ∟----- UMLRM0056 (Est un abrégé de) Stoker, Bram (1847-1912), Dracula, Français, Paul-Margueritte, Texte noté\n",
      "\n",
      " UMLRM0065 Stoker, Bram (1847-1912), Dracula\n",
      "    ∟----- UMLRM0005 (Est une traduction de) Stoker, Bram (1847-1912), Dracula, Anglais, Texte noté\n",
      "\n",
      " UMLRM0068 Stoker, Bram (1847-1912), Dracula\n",
      "    ∟----- UMLRM0020 (Est un abrégé de) Stoker, Bram (1847-1912), Dracula, Français, Molitor, Texte noté\n",
      "\n",
      " UMLRM0071 Belford, Barbara, Bram Stoker : a biography of the author of \"Dracula\"\n",
      "\n",
      " UMLRM0076 Stoker, Bram (1847-1912), Dracula’s guest\n",
      "    ∟-----  (Est une traduction de) Stoker, Bram (1847-1912), Dracula’s guest, Anglais, Texte noté\n",
      "\n",
      " UMLRM0079 Bram Stoker's Dracula\n",
      "\n",
      " UMLRM0082 \"Dracula\" : l'oeuvre de Bram Stoker et le film de Francis F. Coppola\n",
      "\n",
      " UMLRM0085 Cazacu, Matei (1946-....), Dracula\n",
      "\n",
      " UMLRM0091 Nosferatu, the wrath of Malachi\n",
      "\n",
      " UMLRM0100 Druillet, Philippe (1944-....), Nosferatu\n",
      "\n",
      " UMLRM0106 Dracula has risen from the grave\n",
      "\n",
      " UMLRM0112 Hughes, William (1964-....), Bram Stoker’s Dracula : a reader’s guide\n",
      "\n",
      " UMLRM0115 Stoker, Dacre¤Holt, Ian (1964-….), Dracula, the un-dead\n",
      "\n",
      " UMLRM0118 Dufranne, Michel (1970-....)¤Kowalski, Piotr (1973-....), Dracula l’immortel\n",
      "\n",
      " UMLRM0121 Dracula, dead and loving it\n",
      "\n",
      " UMLRM0127 Stoker, Bram (1847-1912), Manuscrits\n",
      "\n",
      " UMLRM0130 Shadow of the vampire\n",
      "\n",
      " UMLRM0133 Eickhoff, Stefan, Max Schreck : Gespenstertheater\n",
      "\n",
      " UMLRM0136 Dracula : pages from a virgin's diary\n",
      "    ∟----- UMLRM0167 Guy Maddin, ED Distribution, Anglais ; sous-titrage en français, Image animée\n",
      "\n",
      " UMLRM0139 Jeanneteau, Daniel (1963-....)¤Deratte, Laure (19..-....), [Maquette de décor en volume pour \"Nosferatu\"]\n",
      "\n",
      " UMLRM0148 Nosferatu\n",
      "    ∟----- UMLRM0142 (Incorpore [expression/oeuvre]) Gallotta, Jean-Claude (1950-....), Nosferatu\n",
      "\n",
      " UMLRM0151 Druillet, Philippe (1944-....), Illustrations pour \"Dracula\" de Bram Stoker\n",
      "\n",
      " UMLRM0153 [Photographies extraites du film « Dracula » de Tod Browning]\n",
      "\n",
      " UMLRM0157 Glass, Philip (1937-....), Dracula\n",
      "\n",
      " UMLRM0159 Dracula\n",
      "\n",
      " UMLRM0161 Humphries, Tudor (1953-….), Dracula\n",
      "    ∟----- UMLRM0035 (A pour traduction) Humphries, Tudor (1953-….), Dracula, Français, Texte noté. Image fixe\n",
      "\n",
      " UMLRM0162 Drácula\n",
      "\n",
      " UMLRM0167 Guy Maddin\n",
      "    ∟-----  Careful, film, Anglais ; sous-titrage en français\n",
      "    ∟----- UMLRM0136 Dracula : pages from a virgin's diary, film, Anglais ; sous-titrage en français\n",
      "\n",
      " UMLRM0170 Gauriat, Vincent, Dracula, pages tirées du journal d’une vierge, un film de Guy Maddin\n",
      "\n",
      " UMLRM0172 Stoker, Bram (1847-1912), Dracula\n",
      "    ∟----- UMLRM0050 (Est une sélection de [expression]) Stoker, Bram (1847-1912), Dracula, Français, Finné, Texte noté\n",
      "\n",
      " UMLRM0175 Les grands classiques du cinéma allemand\n",
      "    ∟----- UMLRM0002 Nosferatu, eine Symphonie des Grauens, film, Version restaurée, 1995, 60mn, Français\n",
      "    ∟-----  Faust, eine deutsche Volkssage, film, Version sépia, 2002, Allemand ; sous-titrage en français\n",
      "\n",
      " UMLRM0181 Dracula has risen from the grave\n",
      "\n",
      " UMLRM0184 Shadow of the vampire\n",
      "\n",
      " UMLRM0187 Stoker, Bram (1847-1912), Dracula\n",
      "\n",
      " UMLRM0189 Dracula, dead and loving it\n",
      "\n",
      " UMLRM0192 Dracula\n",
      "\n",
      " UMLRM0196 Finné, Jacques (1944-….), Bibliographie de Dracula\n",
      "\n",
      " UMLRM0198 Finné, Jacques (1944-….)¤Marigny, Jean (1939-....), Dictionnaire des littératures vampiriques\n"
     ]
    }
   ],
   "source": [
    "for el in expressions:\n",
    "    print(\"\\n\", el.id, el.label)\n",
    "    for oeuvre in el.toOeuvres:\n",
    "        print(f\"    ∟{'-'*5}\", oeuvre, el.toOeuvres[oeuvre])"
   ]
  },
  {
   "cell_type": "code",
   "execution_count": 66,
   "metadata": {},
   "outputs": [
    {
     "name": "stdout",
     "output_type": "stream",
     "text": [
      "e 502 $3 FRBNF14122771 $7 ba0yba0y $8 fre### $o ISNI 0000 0000 0886 412X $a Moravioff $b Galeshka $4 230\n",
      "e 502 $3 FRBNF12626285 $7 ba0yba0y $8 frefre $o ISNI 0000 0000 0891 6874 $a Molitor $b Lucienne $4 730\n",
      "e 502 $3 FRBNF12626285 $7 ba0yba0y $8 frefre $o ISNI 0000 0000 0891 6874 $a Molitor $b Lucienne $4 730\n",
      "e 502 $3 FRBNF13343810 $7 ba0yba0y $8 frefre $o ISNI 0000 0003 8523 9039 $a Jouve $b Michèle $f 19..-.... $c angliciste $4 730\n",
      "e 502 $3 FRBNF11902797 $7 ba0yba0y $8 frefre $o ISNI 0000 0001 2023 6609 $a Finné $b Jacques $f 1944-.... $4 730\n",
      "e 502 $3 FRBNF15547545 $7 ba0yba0y $8 frefre $o ISNI 0000 0000 0188 825 $a Sirgent $b Jacques $4 730\n",
      "e 502 $3 FRBNF11902797 $7 ba0yba0y $8 frefre $o ISNI0000 0001 2023 6609 $a Finné $b Jacques $f 1944-.... $4 730\n",
      "e 502 $3 FRBNF11902797 $7 ba0yba0y $8 frefre $o ISNI 0000 0001 2023 6609 $a Finné $b Jacques $f 1944-.... $4 730\n",
      "e 502 $3 FRBNF12052485 $7 ba0yba0y $8 frefre $o ISNI 0000 0000 0880 4872 $a Chicheportiche $b  Josette $f 1957-.... $4 010 $4 730\n",
      "e 502 $3 FRBNF12630239 $7 ba0yba0y $8 frefre $o ISNI 0000 0000 7998 1809 $a Paul-Margueritte $b Ève $4 730\n",
      "e 502 $3 FRBNF12126118 $7 ba0yba0y $8 frefre $o ISNI 0000 0000 7974 3368 $a Paul-Margueritte $b Lucie $4 730\n",
      "e 502 $3 FRBNF12630239 $7 ba0yba0y $8 frefre $o ISNI 0000 0000 7998 1809 $a Paul-Margueritte $b Ève $4 730\n",
      "e 502 $3 FRBNF12126118 $7 ba0yba0y $8 frefre $o ISNI 0000 0000 7974 3368 $a Paul-Margueritte $b Lucie $4 730\n",
      "e 502 $3 FRBNF11916402 $7 ba0yba0y $8 fre### $o ISNI 0000 0001 2122 217X $a Moissard $b Boris $f 1942-.... $4 010\n",
      "e 502 $3 FRBNF12626285 $7 ba0yba0y $8 frefre $o ISNI 0000 0000 0891 6874 $a Molitor $b Lucienne $4 730\n",
      "e 502 $3 FRBNF11902797 $7 ba0yba0y $8 frefre $o ISNI 0000 0001 2023 6609 $a Finné $b  Jacques $4 730\n",
      "e 502 $3 FRBNF12056750 $7 ba0yba0y $8 frefre $o ISNI 0000 0000 7358 5100 $a Chatain $b Jean-Noël $f 1957-.... $4 730\n",
      "e 502 $3 FRBNF16259396 $7 ba0yba0y $8 freeng $o ISNI 0000 0001 0976 8225 $a Eighteen-Bisang $b Robert $4 340\n",
      "e 502 $3 FRBNF12679015 $7 ba0yba0y $8 freeng $o ISNI 0000 0000 8170 1706 $a Miller $b Elizabeth Russel $f 1939-.... $4 340\n",
      "e 502 $3 FRBNF15891339 $7 ba0yba0y $8 frespa $o ISNI 0000 0000 7824 6722 $a Martinez $b  José $f 1969-.... $c danseur $4 275\n",
      "e 502 $3 FRBNF13893539 $7 ba0yba0y $8 frefre $o ISNI 0000 0000 6309 2513 $a Kontarsky $b Bernhard $f 1937-.... $4 250\n",
      "e 512 $3 FRBNF11945309 $7 ba0yba0y $8 frefre $o ISNI 0000 0001 2375 3986 $a Opéra national de Paris $b Ballet $4 275\n",
      "e 512 $3 FRBNF13905502 $7 ba0yba0y $8 frefre $o ISNI 0000 0001 2323 6161 $a Opéra national de Paris $b Orchestre $4 545\n",
      "e 512 $3 FRBNF13904490 $7 ba0yba0y $8 freeng $o ISNI 0000 0001 2033 5359 $a The Kronos quartet $4 545 $4 ost\n",
      "e 512 $3 FRBNF13882567 $7 ba0yba0y $8 fre### $o ISNI 0000 0001 1543 9727 $a Nonesuch $4 630\n",
      "e 502 $3 FRBNF11902797 $7 ba0yba0y $8 frefre $o ISNI0000 0001 2023 6609 $a Finné $b Jacques $f 1944-.... $4 730\n",
      "e 502 $3 FRBNF14223639 $7 ba0yba0y $8 frefre $o ISNI 0000 0000 6023 2891 $a Saint-Père $b Arnaud $4 550 $4 vre\n",
      "e 502 $3 FRBNF14179272 $7 ba0yba0y $8 frefre $a Fuchs $b Arnaud-Didier $4 550 $4 vre\n",
      "e 502 $3 FRBNF13938299 $7 ba0yba0y $8 frefre $a Hérisson $b Philippe $4 550 $4 vre\n",
      "e 502 $3 FRBNF14171340 $7 ba0yba0y $8 frefre $o ISNI 0000 0000 7272 7189 $a Dessaux $b Alexis $f 1961-.... $4 550 $4 vre\n",
      "e 502 $3 FRBNF14179539 $7 ba0yba0y $8 frefre $o ISNI 0000 0000 0112 3548 $a Gaber $b Floriane $f 1962-.... $4 550 $4 vre\n",
      "e 502 $3 FRBNF13939901 $7 ba0yba0y $8 frefre $a Leclerc $b Thierry $4 550 $4 vre\n",
      "e 502 $3 FRBNF14029412 $7 ba0yba0y $8 frefre $o ISNI 0000 0000 0137 1437 $a Pitaressi $b Maria $4 550 $4 vre\n",
      "e 502 $3 FRBNF14173479 $7 ba0yba0y $8 frefre $a Duchiron $b Marie-Laetitia $4 550 $4 vre\n",
      "e 502 $3 FRBNF13938294 $7 ba0yba0y $8 frefre $o ISNI 0000 0000 0146 0261 $a Rey $b Jean Claude $f 19..-.... $c acteur $4 550 $4 vre\n",
      "e 502 $3 FRBNF13930210 $7 ba0yba0y $8 frefre $a Val $b Pierre $4 550 $4 vre\n"
     ]
    }
   ],
   "source": [
    "# Mentions de responsabilités dans les expressions:\n",
    "\n",
    "for exp in expressions:\n",
    "    for field in [str(el) for el in range(500, 599)]:\n",
    "        for field_occ in exp.xml.xpath(f\"*[@tag='{field}']\"):\n",
    "            value = sru.field2value(field_occ)\n",
    "            if \"$4\" in value:\n",
    "                print(exp.type, field, value)"
   ]
  },
  {
   "cell_type": "markdown",
   "metadata": {},
   "source": [
    "# Oeuvres\n",
    "\n",
    "Liste des titres\n",
    "\n",
    "## Distinguer oeuvres et expressions\n",
    "\n",
    "Label pos.9 permet de distinguer oeuvres et expressions : valeurs h / t (auteur-titre, ou titre seul) \n",
    "\n",
    "Zone 154 $a pos1 : a = oeuvre ; b = expression ; x = ne s'applique pas\n",
    "\n",
    "Point d'accès\n",
    "* 231 pour les oeuvres\n",
    "* 232 pour les expressions"
   ]
  },
  {
   "cell_type": "code",
   "execution_count": 67,
   "metadata": {},
   "outputs": [
    {
     "name": "stdout",
     "output_type": "stream",
     "text": [
      "UMLRM0001 Nosferatu, eine Symphonie des Grauens\n",
      "UMLRM0002 Nosferatu, eine Symphonie des Grauens\n",
      "UMLRM0004 Stoker, Bram (1847-1912), Dracula\n",
      "UMLRM0005 Stoker, Bram (1847-1912), Dracula\n",
      "UMLRM0007  Nosferatu, Phantom der Nacht\n",
      "UMLRM0008 Nosferatu, Phantom der Nacht\n",
      "UMLRM0010 Palma, Paola (1971-….)¤Vezyroglou, Dimitri (1970-….), \"Nosferatu le vampire\"\n",
      "UMLRM0011 Palma, Paola (1971-….)¤Vezyroglou, Dimitri (1970-….), \"Nosferatu le vampire\"\n",
      "UMLRM0013 Jean-Claude Gallotta, Nosferatu, ballet de l'Opéra\n",
      "UMLRM0014 Jean-Claude Gallotta, Nosferatu, ballet de l'Opéra\n",
      "UMLRM0020 Stoker, Bram (1847-1912), Dracula\n",
      "UMLRM0031 Stoker, Bram (1847-1912), Dracula\n",
      "UMLRM0032 Stoker, Bram (1847-1912), Dracula\n",
      "UMLRM0034 Humphries, Tudor (1953-….), Dracula\n",
      "UMLRM0035 Humphries, Tudor (1953-….), Dracula\n",
      "UMLRM0037 Stoker, Bram (1847-1912), Dracula\n",
      "UMLRM0038 Stoker, Bram (1847-1912), Dracula\n",
      "UMLRM0041 Stoker, Bram (1847-1912), Dracula\n",
      "UMLRM0047 Stoker, Bram (1847-1912), Dracula\n",
      "UMLRM0050 Stoker, Bram (1847-1912), Dracula\n",
      "UMLRM0053 Stoker, Bram (1847-1912), Dracula\n",
      "UMLRM0056 Stoker, Bram (1847-1912), Dracula\n",
      "UMLRM0059 Stoker, Bram (1847-1912), Dracula\n",
      "UMLRM0065 Stoker, Bram (1847-1912), Dracula\n",
      "UMLRM0068 Stoker, Bram (1847-1912), Dracula\n",
      "UMLRM0070 Belford, Barbara, Bram Stoker : a biography of the author of \"Dracula\n",
      "UMLRM0071 Belford, Barbara, Bram Stoker : a biography of the author of \"Dracula\"\n",
      "UMLRM0075 Stoker, Bram (1847-1912), Dracula's guest\n",
      "UMLRM0076 Stoker, Bram (1847-1912), Dracula’s guest\n",
      "UMLRM0078 Bram Stoker's Dracula\n",
      "UMLRM0079 Bram Stoker's Dracula\n",
      "UMLRM0081 \"Dracula\" : l'oeuvre de Bram Stoker et le film de Francis F. Coppola\n",
      "UMLRM0082 \"Dracula\" : l'oeuvre de Bram Stoker et le film de Francis F. Coppola\n",
      "UMLRM0084 Cazacu, Matei (1946-....), Dracula\n",
      "UMLRM0085 Cazacu, Matei (1946-....), Dracula\n",
      "UMLRM0087 Valls de Gomis, Estelle (1973-...), Le vampire au fil des siècles : enquête autour d'un mythe\n",
      "UMLRM0088 \n",
      "UMLRM0090 Nosferatu, the wrath of Malachi\n",
      "UMLRM0091 Nosferatu, the wrath of Malachi\n",
      "UMLRM0099 Druillet, Philippe (1944-....), Nosferatu\n",
      "UMLRM0100 Druillet, Philippe (1944-....), Nosferatu\n",
      "UMLRM0105 Dracula has risen from the grave\n",
      "UMLRM0106 Dracula has risen from the grave\n",
      "UMLRM0111 Hughes, William (1964-....), Bram Stoker’s Dracula : a reader’s guide\n",
      "UMLRM0112 Hughes, William (1964-....), Bram Stoker’s Dracula : a reader’s guide\n",
      "UMLRM0114 Stoker, Dacre¤Holt, Ian (1964-….), Dracula, the un-dead\n",
      "UMLRM0115 Stoker, Dacre¤Holt, Ian (1964-….), Dracula, the un-dead\n",
      "UMLRM0117 Dufranne, Michel (1970-....)¤Kowalski, Piotr (1973-....), Dracula l’immortel\n",
      "UMLRM0118 Dufranne, Michel (1970-....)¤Kowalski, Piotr (1973-....), Dracula l’immortel\n",
      "UMLRM0120 Dracula, dead and loving it\n",
      "UMLRM0121 Dracula, dead and loving it\n",
      "UMLRM0126 Stoker, Bram (1847-1912), Manuscrits\n",
      "UMLRM0127 Stoker, Bram (1847-1912), Manuscrits\n",
      "UMLRM0129 Shadow of the vampire\n",
      "UMLRM0130 Shadow of the vampire\n",
      "UMLRM0132 Eickhoff, Stefan, Max Schreck : Gespenstertheater\n",
      "UMLRM0133 Eickhoff, Stefan, Max Schreck : Gespenstertheater\n",
      "UMLRM0135 Dracula: pages from a virgin's diary\n",
      "UMLRM0136 Dracula : pages from a virgin's diary\n",
      "UMLRM0138 Jeanneteau, Daniel (1963-....)¤Deratte, Laure (19..-....), [Maquette de décor en volume pour \"Nosferatu\"]\n",
      "UMLRM0139 Jeanneteau, Daniel (1963-....)¤Deratte, Laure (19..-....), [Maquette de décor en volume pour \"Nosferatu\"]\n",
      "UMLRM0141 Valls de Gomis, Estelle (1973-...), Le vampire au fil des siècles : docimasie d'un mythe\n",
      "UMLRM0142 Gallotta, Jean-Claude (1950-....), Nosferatu\n",
      "UMLRM0143 Dusapin, Pascal (1955-....), Extenso\n",
      "UMLRM0144 Dusapin, Pascal (1955-....), Apex\n",
      "UMLRM0145 Dusapin, Pascal (1955-....), Watt\n",
      "UMLRM0146 Dusapin, Pascal (1955-....), Celo\n",
      "UMLRM0147 Nosferatu\n",
      "UMLRM0148 Nosferatu\n",
      "UMLRM0149 Finné, Jacques (1944-….)¤Marigny, Jean (1939-....), Dictionnaire des littératures vampiriques\n",
      "UMLRM0150 Druillet, Philippe (1944-....), [Illustrations pour \"Dracula\" de Bram Stoker]\n",
      "UMLRM0151 Druillet, Philippe (1944-....), Illustrations pour \"Dracula\" de Bram Stoker\n",
      "UMLRM0152 [Photographies extraites du film \"Dracula\" de Tod Browning]\n",
      "UMLRM0153 [Photographies extraites du film « Dracula » de Tod Browning]\n",
      "UMLRM0154 Dracula\n",
      "UMLRM0155 Deane, Hamilton (1879-1958)¤Balderston, John L. (1889-1954), Dracula\n",
      "UMLRM0156 Glass, Philip (1937-....), Dracula\n",
      "UMLRM0157 Glass, Philip (1937-....), Dracula\n",
      "UMLRM0159 Dracula\n",
      "UMLRM0161 Humphries, Tudor (1953-….), Dracula\n",
      "UMLRM0162 Drácula\n",
      "UMLRM0163 Drácula\n",
      "UMLRM0164 Godden, Mark, Dracula\n",
      "UMLRM0165 Mahler, Gustav (1860-1911), Symphonies\n",
      "UMLRM0166 Guy Maddin\n",
      "UMLRM0167 Guy Maddin\n",
      "UMLRM0169 Gauriat, Vincent, Dracula, pages tirées du journal d’une vierge, un film de Guy Maddin\n",
      "UMLRM0170 Gauriat, Vincent, Dracula, pages tirées du journal d’une vierge, un film de Guy Maddin\n",
      "UMLRM0172 Stoker, Bram (1847-1912), Dracula\n",
      "UMLRM0174 Les grands classiques du cinéma allemand\n",
      "UMLRM0175 Les grands classiques du cinéma allemand\n",
      "UMLRM0180 Dracula\n",
      "UMLRM0181 Dracula has risen from the grave\n",
      "UMLRM0184 Shadow of the vampire\n",
      "UMLRM0186 Dufranne, Michel (1970-....)¤Kowalski, Piotr (1973-....), Dracula l’immortel\n",
      "UMLRM0187 Stoker, Bram (1847-1912), Dracula\n",
      "UMLRM0189 Dracula, dead and loving it\n",
      "UMLRM0191 Dracula\n",
      "UMLRM0192 Dracula\n",
      "UMLRM0194 The Mercury theatre on the air\n",
      "UMLRM0195 Finné, Jacques (1944-….), Bibliographie de Dracula \n",
      "UMLRM0196 Finné, Jacques (1944-….), Bibliographie de Dracula\n",
      "UMLRM0198 Finné, Jacques (1944-….)¤Marigny, Jean (1939-....), Dictionnaire des littératures vampiriques\n"
     ]
    }
   ],
   "source": [
    "for el in oeuvres_expr:\n",
    "    print(el.id, el.label)"
   ]
  },
  {
   "cell_type": "markdown",
   "metadata": {},
   "source": [
    "# Visualisation en graphe"
   ]
  },
  {
   "cell_type": "markdown",
   "metadata": {},
   "source": [
    "## Générer un graphe Gephi\n",
    "\n",
    "Objectif : générer 2 fichiers TSV (format en colonnes, tabulé) afin d'alimenter Gephi et de calculer un graphe\n",
    "\n",
    "Un fichier listera les noeuds : \n",
    " * identifiant (n° de notice)\n",
    " * label (point d'accès)\n",
    " * type (manifestation/expression/oeuvre) (à voir la pertinence d'y mettre aussi les items)\n",
    "\n",
    "Un second fichier listera les liens entre ces noeuds\n",
    " "
   ]
  },
  {
   "cell_type": "markdown",
   "metadata": {},
   "source": [
    "### Fichier - liste des noeuds"
   ]
  },
  {
   "cell_type": "code",
   "execution_count": 68,
   "metadata": {},
   "outputs": [],
   "source": [
    "liste_noeuds = [[\"Identifiant\", \"Label\", \"Type\"]]\n",
    "\n",
    "def add_in_nodes_list(corpus, liste):\n",
    "    for entity in corpus:\n",
    "        liste.append([entity.id, entity.label, entity.type])\n",
    "\n",
    "add_in_nodes_list(manifs, liste_noeuds)\n",
    "add_in_nodes_list(expressions, liste_noeuds)\n",
    "add_in_nodes_list(oeuvres, liste_noeuds)"
   ]
  },
  {
   "cell_type": "markdown",
   "metadata": {},
   "source": [
    "### Fichier - liste des liens"
   ]
  },
  {
   "cell_type": "code",
   "execution_count": 69,
   "metadata": {},
   "outputs": [],
   "source": [
    "liste_liens = []\n",
    "for manif in manifs:\n",
    "    for expr in manif.toExpressions:\n",
    "        liste_liens.append([manif.id, expr])\n",
    "for expr in expressions:\n",
    "    for oeuvre in expr.toOeuvres:\n",
    "        liste_liens.append([expr.id, oeuvre])"
   ]
  },
  {
   "cell_type": "code",
   "execution_count": 70,
   "metadata": {},
   "outputs": [
    {
     "name": "stdout",
     "output_type": "stream",
     "text": [
      "Exemple de relations exprimées par des points d'accès seul : \n",
      "m ['UMLRM0190', '']\n",
      "e ['UMLRM0076', '']\n",
      "e ['UMLRM0167', '']\n",
      "e ['UMLRM0175', '']\n"
     ]
    }
   ],
   "source": [
    "print(\"Exemple de relations exprimées par des points d'accès seul : \")\n",
    "for lien in liste_liens:\n",
    "    for recordid in lien:\n",
    "        if re.fullmatch(r\"UMLRM\\d\\d\\d\\d\", recordid) is None:\n",
    "            print(dic_id2type[lien[0]], lien)"
   ]
  },
  {
   "cell_type": "markdown",
   "metadata": {},
   "source": [
    "## Génération des fichiers"
   ]
  },
  {
   "cell_type": "code",
   "execution_count": 71,
   "metadata": {},
   "outputs": [],
   "source": [
    "with open(\"liste_noeuds.txt\", \"w\", encoding=\"utf-8\") as file:\n",
    "    for node in liste_noeuds:\n",
    "        file.write(\"\\t\".join(node) + \"\\n\")\n",
    "with open(\"liste_liens.txt\", \"w\", encoding=\"utf-8\") as file:\n",
    "    for link in liste_liens:\n",
    "        file.write(\"\\t\".join(link) + \"\\n\")"
   ]
  },
  {
   "cell_type": "markdown",
   "metadata": {},
   "source": [
    "## Avec GraphViz\n",
    "\n",
    "Cf. test sur [../graphviz/Test Graphviz.ipynb](graphviz/Test Graphviz.ipynb)"
   ]
  },
  {
   "cell_type": "code",
   "execution_count": null,
   "metadata": {},
   "outputs": [],
   "source": []
  },
  {
   "cell_type": "markdown",
   "metadata": {},
   "source": [
    "### Fonctions de génération du graphe"
   ]
  },
  {
   "cell_type": "code",
   "execution_count": 72,
   "metadata": {},
   "outputs": [],
   "source": [
    "import graphviz\n",
    "\n",
    "def generate_graph(manif):\n",
    "    # A partir d'une manifestation, renvoie un graphe GraphViz\n",
    "    dot = graphviz.Digraph(manif.id, comment=f'Notice {manif.id}')  \n",
    "    # Add nodes and edges to the graph object using its node() and edge() or edges() methods:\n",
    "    dot.node(manif.id, manif.label)\n",
    "    liste_edges = []\n",
    "    for expr in manif.toExpressions:\n",
    "        if expr:\n",
    "            dot.node(expr, dict_entities[expr].label)\n",
    "            dot.edge(manif.id, expr, label=\"manif de\")\n",
    "        for oeuvre in dict_entities[expr].toOeuvres:\n",
    "            if oeuvre:\n",
    "                dot.node(oeuvre, dict_entities[oeuvre].label)\n",
    "                dot.edge(expr, oeuvre, label=\"expression de\")\n",
    "    return dot\n",
    "    # dot.edges(liste_edges)\n",
    "    \n",
    "def id2graph(recordid):\n",
    "    return generate_graph(dict_entities[recordid])"
   ]
  },
  {
   "cell_type": "markdown",
   "metadata": {},
   "source": [
    "[Liste des notices de manifestations ci-dessus](#Liste-des-manifs-et-liens-aux-expressions)"
   ]
  },
  {
   "cell_type": "code",
   "execution_count": 73,
   "metadata": {},
   "outputs": [
    {
     "name": "stdout",
     "output_type": "stream",
     "text": [
      "Numéro de notice de manifestation (exemple : UMLRM0077, avec 2 expressions liées) : UMLRM0080\n"
     ]
    }
   ],
   "source": [
    "manifid = input(\"Numéro de notice de manifestation (exemple : UMLRM0077, avec 2 expressions liées) : \")"
   ]
  },
  {
   "cell_type": "code",
   "execution_count": 74,
   "metadata": {},
   "outputs": [],
   "source": [
    "if manifid == \"\":\n",
    "    manifid = \"UMLRM0077\"\n",
    "graphe_manif = id2graph(manifid)"
   ]
  },
  {
   "cell_type": "code",
   "execution_count": 75,
   "metadata": {},
   "outputs": [
    {
     "data": {
      "image/svg+xml": [
       "<?xml version=\"1.0\" encoding=\"UTF-8\" standalone=\"no\"?>\n",
       "<!DOCTYPE svg PUBLIC \"-//W3C//DTD SVG 1.1//EN\"\n",
       " \"http://www.w3.org/Graphics/SVG/1.1/DTD/svg11.dtd\">\n",
       "<!-- Generated by graphviz version 7.0.3 (20221126.0506)\n",
       " -->\n",
       "<!-- Title: UMLRM0080 Pages: 1 -->\n",
       "<svg width=\"720pt\" height=\"131pt\"\n",
       " viewBox=\"0.00 0.00 720.34 131.00\" xmlns=\"http://www.w3.org/2000/svg\" xmlns:xlink=\"http://www.w3.org/1999/xlink\">\n",
       "<g id=\"graph0\" class=\"graph\" transform=\"scale(1 1) rotate(0) translate(4 127)\">\n",
       "<title>UMLRM0080</title>\n",
       "<polygon fill=\"white\" stroke=\"none\" points=\"-4,4 -4,-127 716.34,-127 716.34,4 -4,4\"/>\n",
       "<!-- UMLRM0080 -->\n",
       "<g id=\"node1\" class=\"node\">\n",
       "<title>UMLRM0080</title>\n",
       "<ellipse fill=\"none\" stroke=\"black\" cx=\"356.17\" cy=\"-105\" rx=\"356.34\" ry=\"18\"/>\n",
       "<text text-anchor=\"middle\" x=\"356.17\" y=\"-101.3\" font-family=\"Times New Roman,serif\" font-size=\"14.00\">Bram Stoker&#39;s Dracula, Gary Oldman, Winona Ryder, Anthony Hopkins... [et autres], [acteurs]</text>\n",
       "</g>\n",
       "<!-- UMLRM0079 -->\n",
       "<g id=\"node2\" class=\"node\">\n",
       "<title>UMLRM0079</title>\n",
       "<ellipse fill=\"none\" stroke=\"black\" cx=\"356.17\" cy=\"-18\" rx=\"92.88\" ry=\"18\"/>\n",
       "<text text-anchor=\"middle\" x=\"356.17\" y=\"-14.3\" font-family=\"Times New Roman,serif\" font-size=\"14.00\">Bram Stoker&#39;s Dracula</text>\n",
       "</g>\n",
       "<!-- UMLRM0080&#45;&gt;UMLRM0079 -->\n",
       "<g id=\"edge1\" class=\"edge\">\n",
       "<title>UMLRM0080&#45;&gt;UMLRM0079</title>\n",
       "<path fill=\"none\" stroke=\"black\" d=\"M356.17,-86.8C356.17,-75.58 356.17,-60.67 356.17,-47.69\"/>\n",
       "<polygon fill=\"black\" stroke=\"black\" points=\"359.67,-47.98 356.17,-37.98 352.67,-47.98 359.67,-47.98\"/>\n",
       "<text text-anchor=\"middle\" x=\"380.67\" y=\"-57.8\" font-family=\"Times New Roman,serif\" font-size=\"14.00\">manif de</text>\n",
       "</g>\n",
       "</g>\n",
       "</svg>\n"
      ],
      "text/plain": [
       "<graphviz.graphs.Digraph at 0x164cf1821c8>"
      ]
     },
     "execution_count": 75,
     "metadata": {},
     "output_type": "execute_result"
    }
   ],
   "source": [
    "graphe_manif"
   ]
  },
  {
   "cell_type": "markdown",
   "metadata": {},
   "source": [
    "# Coquilles rencontrées\n",
    "\n",
    "https://semestriel.framapad.org/p/bugs_unimarclrm"
   ]
  },
  {
   "cell_type": "code",
   "execution_count": 76,
   "metadata": {},
   "outputs": [],
   "source": [
    "with open(\"stats_zones.txt\", \"w\", encoding=\"utf-8\") as file:\n",
    "    for entity in dict_entities:\n",
    "        for zone in dict_entities[entity].stats_zones:\n",
    "            line = [entity, dict_entities[entity].type, zone, str(dict_entities[entity].stats_zones[zone])]\n",
    "            file.write(\"\\t\".join(line) + \"\\n\")"
   ]
  },
  {
   "cell_type": "markdown",
   "metadata": {},
   "source": [
    "Expressions sans oeuvre"
   ]
  },
  {
   "cell_type": "code",
   "execution_count": 77,
   "metadata": {},
   "outputs": [
    {
     "name": "stdout",
     "output_type": "stream",
     "text": [
      "UMLRM0008\n",
      "UMLRM0011\n",
      "UMLRM0014\n",
      "UMLRM0071\n",
      "UMLRM0079\n",
      "UMLRM0082\n",
      "UMLRM0085\n",
      "UMLRM0091\n",
      "UMLRM0100\n",
      "UMLRM0106\n",
      "UMLRM0112\n",
      "UMLRM0115\n",
      "UMLRM0118\n",
      "UMLRM0121\n",
      "UMLRM0127\n",
      "UMLRM0130\n",
      "UMLRM0133\n",
      "UMLRM0139\n",
      "UMLRM0151\n",
      "UMLRM0153\n",
      "UMLRM0157\n",
      "UMLRM0159\n",
      "UMLRM0162\n",
      "UMLRM0170\n",
      "UMLRM0181\n",
      "UMLRM0184\n",
      "UMLRM0187\n",
      "UMLRM0189\n",
      "UMLRM0192\n",
      "UMLRM0196\n",
      "UMLRM0198\n"
     ]
    }
   ],
   "source": [
    "for expr in expressions:\n",
    "    if len(expr.toOeuvres) == 0:\n",
    "        print(expr.id)#"
   ]
  },
  {
   "cell_type": "code",
   "execution_count": 85,
   "metadata": {},
   "outputs": [
    {
     "name": "stdout",
     "output_type": "stream",
     "text": [
      "i¤UMLRM1000¤00329na aa220012110 4500\n",
      "i¤UMLRM1001¤00326na aa220012110 4500\n",
      "i¤UMLRM1002¤00328na aa220012110 4500\n",
      "i¤UMLRM1003¤00330na aa220012110 4500\n",
      "i¤UMLRM1004¤00329na aa220012110 4500\n",
      "i¤UMLRM1005¤00328na aa220012110 4500\n",
      "i¤UMLRM1006¤00328na aa220012110 4500\n",
      "i¤UMLRM1007¤00330na aa220012110 4500\n",
      "i¤UMLRM1008¤00329na aa220012110 4500\n",
      "i¤UMLRM1009¤00329na aa220012110 4500\n",
      "i¤UMLRM1010¤00330na aa220012110 4500\n",
      "i¤UMLRM1011¤00329na aa220012110 4500\n",
      "i¤UMLRM1012¤00329na aa220012110 4500\n",
      "i¤UMLRM1013¤00328na aa220012110 4500\n",
      "i¤UMLRM1014¤00328na aa220012110 4500\n",
      "i¤UMLRM1015¤00329na aa220012110 4500\n",
      "i¤UMLRM1016¤00330na aa220012110 4500\n",
      "i¤UMLRM1017¤00330na aa220012110 4500\n",
      "i¤UMLRM1018¤00328na aa220012110 4500\n",
      "i¤UMLRM1019¤00330na aa220012110 4500\n",
      "i¤UMLRM1020¤00328na aa220012110 4500\n",
      "i¤UMLRM1021¤00328na aa220012110 4500\n",
      "i¤UMLRM1022¤00329na aa220012110 4500\n",
      "i¤UMLRM1023¤00328na aa220012110 4500\n",
      "i¤UMLRM1024¤00329na aa220012110 4500\n",
      "i¤UMLRM1025¤00328na aa220012110 4500\n",
      "i¤UMLRM1026¤00330na aa220012110 4500\n",
      "i¤UMLRM1027¤00329na aa220012110 4500\n",
      "i¤UMLRM1028¤00328na aa220012110 4500\n",
      "i¤UMLRM1029¤00332na aa220012110 4500\n",
      "i¤UMLRM1030¤00330na aa220012110 4500\n",
      "i¤UMLRM1032¤00329na aa220012110 4500\n",
      "i¤UMLRM1033¤00329na aa220012110 4500\n",
      "i¤UMLRM1034¤00330na aa220012110 4500\n",
      "i¤UMLRM1035¤00328na aa220012110 4500\n",
      "i¤UMLRM1036¤00328na aa220012110 4500\n",
      "i¤UMLRM1037¤00327na aa220012110 4500\n",
      "i¤UMLRM1038¤00328na aa220012110 4500\n",
      "i¤UMLRM1039¤00329na aa220012110 4500\n",
      "i¤UMLRM1041¤00327na aa220012110 4500\n",
      "i¤UMLRM1042¤00328na aa220012110 4500\n",
      "i¤UMLRM1043¤00329na aa220012110 4500\n",
      "i¤UMLRM1044¤00330na aa220012110 4500\n",
      "i¤UMLRM1045¤00330na aa220012110 4500\n",
      "i¤UMLRM1046¤00330na aa220012110 4500\n",
      "i¤UMLRM1047¤00330na aa220012110 4500\n",
      "i¤UMLRM1048¤00331na aa220012110 4500\n",
      "i¤UMLRM1049¤00329na aa220012110 4500\n",
      "i¤UMLRM1050¤00328na aa220012110 4500\n",
      "i¤UMLRM1051¤00327na aa220012110 4500\n",
      "i¤UMLRM1052¤00327na aa220012110 4500\n",
      "i¤UMLRM1053¤00327na aa220012110 4500\n",
      "i¤UMLRM1054¤00328na aa220012110 4500\n",
      "i¤UMLRM1055¤00327na aa220012110 4500\n",
      "i¤UMLRM1056¤00328na aa220012110 4500\n",
      "m¤UMLRM0003¤01281ngm a2200277 i 4500\n",
      "m¤UMLRM0006¤00691cam a2200193 i 4500\n",
      "m¤UMLRM0009¤01925ngm a2200349 i 4500\n",
      "m¤UMLRM0012¤00767cam a2200205 i 4500\n",
      "m¤UMLRM0015¤00825cam a2200193 i 4500\n",
      "m¤UMLRM0018¤00539nam a2200169 i 4500\n",
      "m¤UMLRM0021¤01000cam a2200253 i 4500\n",
      "m¤UMLRM0024¤00884cam a2200229 i 4500\n",
      "m¤UMLRM0027¤01067cam a2200241 i 4500\n",
      "m¤UMLRM0030¤01120cam a2200253 i 4500\n",
      "m¤UMLRM0033¤00969cam a2200229 i 4500\n",
      "m¤UMLRM0036¤00927nam a2200205 i 4500\n",
      "m¤UMLRM0039¤01089cam a2200241 i 4500\n",
      "m¤UMLRM0042¤00940nam a2200241 i 4500\n",
      "m¤UMLRM0045¤00890cam a2200241 i 4500\n",
      "m¤UMLRM0048¤01072cam a2200241 i 4500\n",
      "m¤UMLRM0051¤00665cam a2200181 i 4500\n",
      "m¤UMLRM0054¤00773nam a2200205 i 4500\n",
      "m¤UMLRM0057¤00974cam a2200217 i 4500\n",
      "m¤UMLRM0060¤01067cam a2200205 i 4500\n",
      "m¤UMLRM0063¤00725nam a2200181 i 4500\n",
      "m¤UMLRM0066¤00653cam a2200193 i 4500\n",
      "m¤UMLRM0069¤01821nam a2200229 i 4500\n",
      "m¤UMLRM0072¤00659nam a2200169 i 4500\n",
      "m¤UMLRM0077¤01272cam a2200277 i 4500\n",
      "m¤UMLRM0080¤01003ngm a2200253 i 4500\n",
      "m¤UMLRM0083¤00772cam a2200181 i 4500\n",
      "m¤UMLRM0086¤00994cam a2200217 i 4500\n",
      "m¤UMLRM0089¤00911cam a2200217 i 4500\n",
      "m¤UMLRM0092¤01434nlm a2200313 i 4500\n",
      "m¤UMLRM0095¤01399nlm a2200301 i 4500\n",
      "m¤UMLRM0101¤00690cam0a 200193   4500\n",
      "m¤UMLRM0104¤00682cam0a 200193   4500\n",
      "m¤UMLRM0107¤01090ngm a2200241 i 4500\n",
      "m¤UMLRM0110¤01098nam a2200241 i 4500\n",
      "m¤UMLRM0113¤00774cam a2200217 i 4500\n",
      "m¤UMLRM0116¤00883cam a2200205 i 4500\n",
      "m¤UMLRM0119¤01369cam0a 200229   4500\n",
      "m¤UMLRM0122¤01864ngm a2200337 i 4500\n",
      "m¤UMLRM0128¤01156cam a2200229 i 4500\n",
      "m¤UMLRM0131¤01131ngm a2200277 i 4500\n",
      "m¤UMLRM0134¤00740nam a2200217 i 4500\n",
      "m¤UMLRM0137¤01733ngm a2200337 i 4500\n",
      "m¤UMLRM0140¤00600nkm a2200157 i 4500\n",
      "m¤UMLRM0158¤00986nim a2200253 i 4500\n",
      "m¤UMLRM0160¤01657ngm a2200277 i 4500\n",
      "m¤UMLRM0168¤01647ngm a2200301 i 4500\n",
      "m¤UMLRM0171¤00777nkm a2200181 i 4500\n",
      "m¤UMLRM0173¤01063cam a2200229 i 4500\n",
      "m¤UMLRM0176¤02387ngm a2200325 i 4500\n",
      "m¤UMLRM0177¤00706nam a2200193 i 4500\n",
      "m¤UMLRM0178¤01432nam a2200253 i 4500\n",
      "m¤UMLRM0179¤01172nam a2200265 i 4500\n",
      "m¤UMLRM0182¤01109ngm a2200241 i 4500\n",
      "m¤UMLRM0185¤01544ngm a2200325 i 4500\n",
      "m¤UMLRM0188¤01023ngm a2200241 i 4500\n",
      "m¤UMLRM0190¤02143ngm a2200337 i 4500\n",
      "m¤UMLRM0193¤01103nim a2200241 i 4500\n",
      "m¤UMLRM0197¤00695nam a2200205 i 4500\n",
      "m¤UMLRM0199¤00887nam a2200205 i 4500\n",
      "e¤UMLRM0002¤01357nx  a2200253   4500\n",
      "e¤UMLRM0005¤01331cx  a2200253   4500\n",
      "e¤UMLRM0008¤00857cx  a2200217   4500\n",
      "e¤UMLRM0011¤00692cx  a2200193   4500\n",
      "e¤UMLRM0014¤01036cx  a2200229   4500\n",
      "e¤UMLRM0020¤01299cx  a2200253   4500\n",
      "e¤UMLRM0032¤01077nx  a2200229   4500\n",
      "e¤UMLRM0035¤01062nx  a2200229   4500\n",
      "e¤UMLRM0038¤01128nx  a2200241   4500\n",
      "e¤UMLRM0041¤01110nx  a2200217   4500\n",
      "e¤UMLRM0047¤01150nx  a2200241   4500\n",
      "e¤UMLRM0050¤01514cx  a2200253   4500\n",
      "e¤UMLRM0053¤01137cx  a2200253   4500\n",
      "e¤UMLRM0056¤01593nx  a2200265   4500\n",
      "e¤UMLRM0059¤01500nx  a2200253   4500\n",
      "e¤UMLRM0065¤00825cx  a2200217   4500\n",
      "e¤UMLRM0068¤01270nx  a2200241   4500\n",
      "e¤UMLRM0071¤00748cx  a2200217   4500\n",
      "e¤UMLRM0076¤01231cx  a2200241   4500\n",
      "e¤UMLRM0079¤00947cx  a2200241   4500\n",
      "e¤UMLRM0082¤00759cx  a2200193   4500\n",
      "e¤UMLRM0085¤00633cx  a2200205   4500\n",
      "e¤UMLRM0091¤01372nx  a2200265   4500\n",
      "e¤UMLRM0100¤00701cx  a2200217   4500\n",
      "e¤UMLRM0106¤01039nx  a2200217   4500\n",
      "e¤UMLRM0112¤00747cx  a2200205   4500\n",
      "e¤UMLRM0115¤00847cx  a2200205   4500\n",
      "e¤UMLRM0118¤00950cx  a2200229   4500\n",
      "e¤UMLRM0121¤04852cx  a2200793   4500\n",
      "e¤UMLRM0127¤01026cx  a2200218   4500\n",
      "e¤UMLRM0130¤01255nx  a2200241   4500\n",
      "e¤UMLRM0133¤00753cx  a2200241   4500\n",
      "e¤UMLRM0136¤01315nx  a2200241   4500\n",
      "e¤UMLRM0139¤00682nx  a2200181   4500\n",
      "e¤UMLRM0148¤01395cx  a2200241   4500\n",
      "e¤UMLRM0151¤00672nx  a2200181   4500\n",
      "e¤UMLRM0153¤00763nx  a2200193   4500\n",
      "e¤UMLRM0157¤01249nx  a2200265   4500\n",
      "e¤UMLRM0159¤01638nx  a2200241   4500\n",
      "e¤UMLRM0161¤01206nx  a2200241   4500\n",
      "e¤UMLRM0162¤01354nx  a2200241   4500\n",
      "e¤UMLRM0167¤01170nx  a2200265   4500\n",
      "e¤UMLRM0170¤00757nx  a2200193   4500\n",
      "e¤UMLRM0172¤01068nx  a2200229   4500\n",
      "e¤UMLRM0175¤01561nx  a2200301   4500\n",
      "e¤UMLRM0181¤01031nx  a2200217   4500\n",
      "e¤UMLRM0184¤01439nx  a2200241   4500\n",
      "e¤UMLRM0187¤01597cx  a2200301   4500\n",
      "e¤UMLRM0189¤01306cx  a2200229   4500\n",
      "e¤UMLRM0192¤00977nx  a2200205   4500\n",
      "e¤UMLRM0196¤00596nx  a2200181   4500\n",
      "e¤UMLRM0198¤00731nx  a2200181   4500\n",
      "o¤UMLRM0001¤04287nx  a2200565   4500\n",
      "o¤UMLRM0004¤05455cx  a2200637   4500\n",
      "o¤UMLRM0007¤04782cx  a2200517   4500\n",
      "o¤UMLRM0010¤01239cx  a2200277   4500\n",
      "o¤UMLRM0013¤01411cx  a2200301   4500\n",
      "o¤UMLRM0031¤02040nx  a2200337   4500\n",
      "o¤UMLRM0034¤02567nx  a2200373   4500\n",
      "o¤UMLRM0037¤01935nx  a2200349   4500\n",
      "o¤UMLRM0070¤01202cx  a2200301   4500\n",
      "o¤UMLRM0075¤02257cx  a2200373   4500\n",
      "o¤UMLRM0078¤04652cx  a2200541   4500\n",
      "o¤UMLRM0081¤01635cx  a2200289   4500\n",
      "o¤UMLRM0084¤01200cx  a2200301   4500\n",
      "o¤UMLRM0087¤01710cx  a2200337   4500\n",
      "o¤UMLRM0090¤01989cx  a2200373   4500\n",
      "o¤UMLRM0099¤02122cx  a2200337   4500\n",
      "o¤UMLRM0105¤03232nx  a2200529   4500\n",
      "o¤UMLRM0111¤01034nx  a2200253   4500\n",
      "o¤UMLRM0114¤01812cx  a2200313   4500\n",
      "o¤UMLRM0117¤01686cx  a2200313   4500\n",
      "o¤UMLRM0120¤04340cx  a2200589   4500\n",
      "o¤UMLRM0126¤02432nx  h2200361   4500\n",
      "o¤UMLRM0129¤04596nx  a2200553   4500\n",
      "o¤UMLRM0132¤01259cx  a2200349   4500\n",
      "o¤UMLRM0135¤04340nx  a2200517   4500\n",
      "o¤UMLRM0138¤01546nx  a2200265   4500\n",
      "o¤UMLRM0141¤03510cx  a2200349   4500\n",
      "o¤UMLRM0142¤01613cx  a2200289   4500\n",
      "o¤UMLRM0143¤01859cx  a2200337   4500\n",
      "o¤UMLRM0144¤01828cx  a2200337   4500\n",
      "o¤UMLRM0145¤01763cx  a2200313   4500\n",
      "o¤UMLRM0146¤01865cx  a2200313   4500\n",
      "o¤UMLRM0147¤02168cx  a2200349   4500\n",
      "o¤UMLRM0149¤01314nx  a2200277   4500\n",
      "o¤UMLRM0150¤01098nx  a2200253   4500\n",
      "o¤UMLRM0152¤01264nx  a2200253   4500\n",
      "o¤UMLRM0154¤03422cx  a2200541   4500\n",
      "o¤UMLRM0155¤02157cx  a2200337   4500\n",
      "o¤UMLRM0156¤01661cx  a2200289   4500\n",
      "o¤UMLRM0163¤01695nx  a2200349   4500\n",
      "o¤UMLRM0164¤01782nx  a2200277   4500\n",
      "o¤UMLRM0165¤01615nx  a2200289   4500\n",
      "o¤UMLRM0166¤01079nx  a2200265   4500\n",
      "o¤UMLRM0169¤01337nx  a2200265   4500\n",
      "o¤UMLRM0174¤01510nx  a2200313   4500\n",
      "o¤UMLRM0180¤01519nx  a2200349   4500\n",
      "o¤UMLRM0186¤02174cx  a2200349   4500\n",
      "o¤UMLRM0191¤02272nx  a2200361   4500\n",
      "o¤UMLRM0194¤01860nx  a2200289   4500\n",
      "o¤UMLRM0195¤01187nx  a2200289   4500\n"
     ]
    }
   ],
   "source": [
    "# Longueur des guides.\n",
    "\n",
    "for el in dict_entities:\n",
    "    guide = sru.record2fieldvalue(dict_entities[el].xml, \"000\")\n",
    "    print(f\"{dict_entities[el].type}¤{el}¤{guide}\")"
   ]
  },
  {
   "cell_type": "code",
   "execution_count": 88,
   "metadata": {},
   "outputs": [
    {
     "name": "stdout",
     "output_type": "stream",
     "text": [
      "UMLRM0009 Maillet, Dominique, cinéaste\n",
      "UMLRM0009 Colladant, Dominique\n",
      "UMLRM0009 Kruk-Nishioka, Reiko\n",
      "UMLRM0009 Lenne, Gérard\n",
      "UMLRM0024 Faivre, Tony\n",
      "UMLRM0027 Sadoul, Barbara\n",
      "UMLRM0030 Lullien, Jean-Claude\n",
      "UMLRM0057 Falké, Pierre\n",
      "UMLRM0077 Aziza, Claude\n",
      "UMLRM0110 Faivre, Tony\n",
      "UMLRM0122 Brooks, Mel\n",
      "UMLRM0122 Gaumont vidéo\n",
      "UMLRM0128 Eighteen-Bisang, Robert\n",
      "UMLRM0128 Miller, Elizabeth Russel\n",
      "UMLRM0128 Barsanti, Michael J.\n",
      "UMLRM0131 Studio Canal plus\n",
      "UMLRM0131 Universal pictures vidéo France SA\n",
      "UMLRM0137 Maddin, Guy\n",
      "UMLRM0137 Recio, Lorenzo\n",
      "UMLRM0137 Montmayeur, Yves\n",
      "UMLRM0137 ED Distribution\n",
      "UMLRM0158 WEA Europe\n",
      "UMLRM0158 Warner music France\n",
      "UMLRM0168 ED Distribution\n",
      "UMLRM0171 Imprimerie A. Karcher\n",
      "UMLRM0176 RDM vidéo\n",
      "UMLRM0179 Deschamps, Fanny\n",
      "UMLRM0182 Warner home video France\n",
      "UMLRM0185 Studio Canal plus\n",
      "UMLRM0185 Universal pictures vidéo France SA\n",
      "UMLRM0185 Lions gate productions\n",
      "UMLRM0188 Livraphone\n",
      "UMLRM0190 Gaumont vidéo\n",
      "UMLRM0199 Pozzuoli, Alain\n",
      "UMLRM0002 Moravioff, Galeshka\n",
      "UMLRM0020 Molitor, Lucienne\n",
      "UMLRM0032 Molitor, Lucienne\n",
      "UMLRM0035 Jouve, Michèle, angliciste\n",
      "UMLRM0038 Finné, Jacques\n",
      "UMLRM0041 Sirgent, Jacques\n",
      "UMLRM0047 Finné, Jacques\n",
      "UMLRM0050 Finné, Jacques\n",
      "UMLRM0053 Chicheportiche,  Josette\n",
      "UMLRM0056 Paul-Margueritte, Ève\n",
      "UMLRM0056 Paul-Margueritte, Lucie\n",
      "UMLRM0059 Paul-Margueritte, Ève\n",
      "UMLRM0059 Paul-Margueritte, Lucie\n",
      "UMLRM0068 Moissard, Boris\n",
      "UMLRM0068 Molitor, Lucienne\n",
      "UMLRM0076 Finné,  Jacques\n",
      "UMLRM0115 Chatain, Jean-Noël\n",
      "UMLRM0127 Eighteen-Bisang, Robert\n",
      "UMLRM0127 Miller, Elizabeth Russel\n",
      "UMLRM0148 Martinez,  José, danseur\n",
      "UMLRM0148 Kontarsky, Bernhard\n",
      "UMLRM0148 Opéra national de Paris, Ballet\n",
      "UMLRM0148 Opéra national de Paris, Orchestre\n",
      "UMLRM0157 The Kronos quartet\n",
      "UMLRM0157 Nonesuch\n",
      "UMLRM0172 Finné, Jacques\n",
      "UMLRM0187 Saint-Père, Arnaud\n",
      "UMLRM0187 Fuchs, Arnaud-Didier\n",
      "UMLRM0187 Hérisson, Philippe\n",
      "UMLRM0187 Dessaux, Alexis\n",
      "UMLRM0187 Gaber, Floriane\n",
      "UMLRM0187 Leclerc, Thierry\n",
      "UMLRM0187 Pitaressi, Maria\n",
      "UMLRM0187 Duchiron, Marie-Laetitia\n",
      "UMLRM0187 Rey, Jean Claude, acteur\n",
      "UMLRM0187 Val, Pierre\n",
      "UMLRM0001 Murnau, Friedrich Wilhelm\n",
      "UMLRM0001 Galeen, Henrik\n",
      "UMLRM0001 Schreck, Max\n",
      "UMLRM0001 Wangenheim, Gustav von\n",
      "UMLRM0001 Schröder, Greta\n",
      "UMLRM0001 Erdmann, Hans\n",
      "UMLRM0001 Prana Film\n",
      "UMLRM0004 Stoker, Bram\n",
      "UMLRM0007 Herzog, Werner\n",
      "UMLRM0007 Fricke, Florian\n",
      "UMLRM0007 Ganz,  Bruno\n",
      "UMLRM0007  Kinski, Klaus\n",
      "UMLRM0007 Adjani, Isabelle\n",
      "UMLRM0007 Popol Vuh\n",
      "UMLRM0010 Palma, Paola\n",
      "UMLRM0010 Vezyroglou, Dimitri\n",
      "UMLRM0013 Opéra national de Paris\n",
      "UMLRM0031 Stoker, Bram\n",
      "UMLRM0031 Ziane-Bruneel, Nadia\n",
      "UMLRM0031 Sendre-Haïdar, Michèle\n",
      "UMLRM0034 Humphries, Tudor\n",
      "UMLRM0037 Stoker, Bram\n",
      "UMLRM0037 Cassou-Noguès, Anne\n",
      "UMLRM0037 Langenhagen, Marie-Aude de\n",
      "UMLRM0070 Belford, Barbara\n",
      "UMLRM0075 Stoker, Bram\n",
      "UMLRM0078 Coppola, Francis Ford\n",
      "UMLRM0078 Hart,  James V.\n",
      "UMLRM0078 Kilar, Wojciech\n",
      "UMLRM0078  Oldman\n",
      "UMLRM0078 Ryder\n",
      "UMLRM0078 Hopkins\n",
      "UMLRM0078 American Zoetrope, Firme\n",
      "UMLRM0078 Osiris Films, Firme\n",
      "UMLRM0078 Columbia pictures\n",
      "UMLRM0081 Ménégaldo, Gilles\n",
      "UMLRM0081 Sipière, Dominique\n",
      "UMLRM0084 Cazacu, Matei\n",
      "UMLRM0087 Valls de Gomis, Estelle\n",
      "UMLRM0090 Idol FX AB\n",
      "UMLRM0090 Pan vision corporate games\n",
      "UMLRM0099 Druillet, Philippe\n",
      "UMLRM0105 Francis, Freddie (1917-2007)‎\n",
      "UMLRM0105 Elder, John\n",
      "UMLRM0105 Bernard, James\n",
      "UMLRM0105 Lee, Christopher\n",
      "UMLRM0105 Davies, Rupert\n",
      "UMLRM0105 Carlson, Veronica\n",
      "UMLRM0105 Hammer Film Productions‎\n",
      "UMLRM0111 Hughes, William\n",
      "UMLRM0114 Stoker, Dacre\n",
      "UMLRM0114 Holt, Ian\n",
      "UMLRM0117 Dufranne, Michel\n",
      "UMLRM0117 Kowalski, Piotr\n",
      "UMLRM0117 Svart\n",
      "UMLRM0120 Brooks, Mel\n",
      "UMLRM0120 De Luca, Rudy\n",
      "UMLRM0120 Haberman, Steve\n",
      "UMLRM0120 Nielsen, Leslie\n",
      "UMLRM0120 MacNicol, Peter\n",
      "UMLRM0120 Weber, Steven\n",
      "UMLRM0120 Mann, Hummie\n",
      "UMLRM0120 Brooksfilms, Firme\n",
      "UMLRM0120 Gaumont\n",
      "UMLRM0120 Castle Rock Entertainment\n",
      "UMLRM0126 Stoker, Bram\n",
      "UMLRM0126 Eighteen-Bisang, Robert\n",
      "UMLRM0126 Miller, Elizabeth Russel\n",
      "UMLRM0129 Merhige, E. Elias\n",
      "UMLRM0129 Katz, Stephen\n",
      "UMLRM0129 Malkovich, John\n",
      "UMLRM0129 Dafoe, Willem\n",
      "UMLRM0129 Elwes, Cary\n",
      "UMLRM0129 BBC Films\n",
      "UMLRM0129 Saturn Films\n",
      "UMLRM0129 Pilgrim Films and Television\n",
      "UMLRM0129 Film Fund Luxembourg\n",
      "UMLRM0132 Eickhoff, Stefan\n",
      "UMLRM0135 Maddin, Guy\n",
      "UMLRM0135 Zhang, Wei Qiang\n",
      "UMLRM0135 Birtwhistle, Tara\n",
      "UMLRM0135 Moroni, David Lee\n",
      "UMLRM0135 Société Radio-Canada\n",
      "UMLRM0135 Dracula productions\n",
      "UMLRM0135 Royal Winnipeg Ballet\n",
      "UMLRM0138 Jeanneteau, Daniel\n",
      "UMLRM0138 Deratte, Laure\n",
      "UMLRM0141 Valls de Gomis, Estelle\n",
      "UMLRM0141 Lanone, Catherine\n",
      "UMLRM0141 Université Toulouse-Jean Jaurès\n",
      "UMLRM0142 Gallotta, Jean-Claude\n",
      "UMLRM0143 Dusapin, Pascal\n",
      "UMLRM0144 Dusapin, Pascal\n",
      "UMLRM0145 Dusapin, Pascal\n",
      "UMLRM0145 Trudel, Alain\n",
      "UMLRM0146 Dusapin, Pascal\n",
      "UMLRM0146 Wieder-Atherton, Sonia\n",
      "UMLRM0147 Gallotta, Jean-Claude\n",
      "UMLRM0147 Dusapin, Pascal\n",
      "UMLRM0147 Jeanneteau, Daniel\n",
      "UMLRM0147 Deratte, Laure\n",
      "UMLRM0147 Bériot, Olivier\n",
      "UMLRM0147 Bruguière, Dominique\n",
      "UMLRM0147 Opéra national de Paris\n",
      "UMLRM0149 Finné\n",
      "UMLRM0149 Marigny, Jean\n",
      "UMLRM0150 Druillet, Philippe\n",
      "UMLRM0154 Browning, Tod\n",
      "UMLRM0154 Deane, Hamilton\n",
      "UMLRM0154 Fort, Garrett\n",
      "UMLRM0154 Lugosi, Bela\n",
      "UMLRM0154 Manners, David\n",
      "UMLRM0154 Chandler, Helen\n",
      "UMLRM0155 Deane, Hamilton\n",
      "UMLRM0155 Balderston,  John L.\n",
      "UMLRM0156 Glass, Philip\n",
      "UMLRM0163 Melford, George\n",
      "UMLRM0163 Fernández Cué, Baltasar\n",
      "UMLRM0163 Villarías, Carlos\n",
      "UMLRM0163 ‏Tovar‏, Lupita\n",
      "UMLRM0163 Norton, Barry\n",
      "UMLRM0164 Godden, Mark\n",
      "UMLRM0165 Mahler, Gustav\n",
      "UMLRM0165 Godden, Mark\n",
      "UMLRM0166 Maddin, Guy\n",
      "UMLRM0166 ED Distribution\n",
      "UMLRM0169 Gauriat, Vincent\n",
      "UMLRM0174 Murnau, Friedrich Wilhelm\n",
      "UMLRM0174 Lang, Fritz\n",
      "UMLRM0174 Wegener, Paul\n",
      "UMLRM0174 Wiene, Robert\n",
      "UMLRM0174 RDM Vidéo\n",
      "UMLRM0180 Hammer Film Productions‎\n",
      "UMLRM0186 Dufranne, Michel\n",
      "UMLRM0186 Kowalski, Piotr\n",
      "UMLRM0186 Svart\n",
      "UMLRM0191 Houseman, John\n",
      "UMLRM0191 Welles, Orson\n",
      "UMLRM0191 Coulouris, George\n",
      "UMLRM0191 Gabel, Martin\n",
      "UMLRM0191 Herrmann, Bernard\n",
      "UMLRM0191 Columbia broadcasting system\n",
      "UMLRM0194 Welles, Orson\n",
      "UMLRM0194 Herrmann, Bernard\n",
      "UMLRM0194 Mercury Acting Company, New York (New York, États-Unis)\n",
      "UMLRM0194 Columbia broadcasting system\n",
      "UMLRM0195 Finné\n"
     ]
    }
   ],
   "source": [
    "for rec in dict_entities:\n",
    "    for resp in dict_entities[rec].respids:\n",
    "        if resp not in dict_entities:\n",
    "            print(rec, resp)"
   ]
  },
  {
   "cell_type": "code",
   "execution_count": 89,
   "metadata": {},
   "outputs": [
    {
     "name": "stdout",
     "output_type": "stream",
     "text": [
      "{}\n",
      "{}\n",
      "{}\n",
      "{}\n",
      "{}\n",
      "{}\n",
      "{}\n",
      "{}\n",
      "{}\n",
      "{}\n",
      "{}\n",
      "{}\n",
      "{}\n",
      "{}\n",
      "{}\n",
      "{}\n",
      "{}\n",
      "{}\n",
      "{}\n",
      "{}\n",
      "{}\n",
      "{}\n",
      "{}\n",
      "{}\n",
      "{}\n",
      "{}\n",
      "{}\n",
      "{}\n",
      "{}\n",
      "{}\n",
      "{}\n",
      "{}\n",
      "{}\n",
      "{}\n",
      "{}\n",
      "{}\n",
      "{}\n",
      "{}\n",
      "{}\n",
      "{}\n",
      "{}\n",
      "{}\n",
      "{}\n",
      "{}\n",
      "{}\n",
      "{}\n",
      "{}\n",
      "{}\n",
      "{}\n",
      "{}\n",
      "{}\n",
      "{}\n",
      "{}\n",
      "{}\n",
      "{}\n",
      "{}\n",
      "{}\n",
      "{'Maillet, Dominique, cinéaste': ['Metteur en scène ou réalisateur'], 'Colladant, Dominique': ['Metteur en scène ou réalisateur'], 'Kruk-Nishioka, Reiko': ['Metteur en scène ou réalisateur'], 'Lenne, Gérard': ['Metteur en scène ou réalisateur']}\n",
      "{}\n",
      "{}\n",
      "{}\n",
      "{}\n",
      "{'Faivre, Tony': ['Préfacier, etc.']}\n",
      "{'Sadoul, Barbara': ['Éditeur scientifique']}\n",
      "{'Lullien, Jean-Claude': ['Auteur du commentaire']}\n",
      "{}\n",
      "{}\n",
      "{}\n",
      "{}\n",
      "{}\n",
      "{}\n",
      "{}\n",
      "{}\n",
      "{'Falké, Pierre': ['Illustrateur']}\n",
      "{}\n",
      "{}\n",
      "{}\n",
      "{}\n",
      "{}\n",
      "{'Aziza, Claude': ['Éditeur scientifique']}\n",
      "{}\n",
      "{}\n",
      "{}\n",
      "{}\n",
      "{}\n",
      "{}\n",
      "{}\n",
      "{}\n",
      "{}\n",
      "{'Faivre, Tony': ['Préfacier, etc.']}\n",
      "{}\n",
      "{}\n",
      "{}\n",
      "{'Brooks, Mel': ['Commentateur'], 'Gaumont vidéo': ['Éditeur commercial']}\n",
      "{'Eighteen-Bisang, Robert': ['Auteur du commentaire'], 'Miller, Elizabeth Russel': ['Auteur du commentaire'], 'Barsanti, Michael J.': ['Préfacier, etc.']}\n",
      "{'Studio Canal plus': ['Éditeur commercial'], 'Universal pictures vidéo France SA': ['Distributeur']}\n",
      "{}\n",
      "{'Maddin, Guy': ['Commentateur', 'Personne interviewée'], 'Recio, Lorenzo': ['Intervieweur'], 'Montmayeur, Yves': ['Intervieweur'], 'ED Distribution': ['Éditeur commercial', 'Distributeur']}\n",
      "{}\n",
      "{'WEA Europe': ['Éditeur commercial'], 'Warner music France': ['Distributeur']}\n",
      "{}\n",
      "{'ED Distribution': ['Éditeur commercial', 'Distributeur']}\n",
      "{'Imprimerie A. Karcher': ['Imprimeur']}\n",
      "{}\n",
      "{'RDM vidéo': ['Éditeur commercial', 'Distributeur']}\n",
      "{}\n",
      "{}\n",
      "{'Deschamps, Fanny': ['Éditeur scientifique']}\n",
      "{'Warner home video France': ['Distributeur', 'Éditeur commercial']}\n",
      "{'Studio Canal plus': ['Éditeur commercial'], 'Universal pictures vidéo France SA': ['Distributeur'], 'Lions gate productions': ['Distributeur']}\n",
      "{'Livraphone': ['Éditeur commercial']}\n",
      "{'Gaumont vidéo': ['Éditeur commercial']}\n",
      "{}\n",
      "{}\n",
      "{'Pozzuoli, Alain': ['Préfacier, etc.']}\n",
      "{'Moravioff, Galeshka': ['Compositeur']}\n",
      "{}\n",
      "{}\n",
      "{}\n",
      "{}\n",
      "{'Molitor, Lucienne': ['Traducteur']}\n",
      "{'Molitor, Lucienne': ['Traducteur']}\n",
      "{'Jouve, Michèle, angliciste': ['Traducteur']}\n",
      "{'Finné, Jacques': ['Traducteur']}\n",
      "{'Sirgent, Jacques': ['Traducteur']}\n",
      "{'Finné, Jacques': ['Traducteur']}\n",
      "{'Finné, Jacques': ['Traducteur']}\n",
      "{'Chicheportiche,  Josette': ['Adaptateur', 'Traducteur']}\n",
      "{'Paul-Margueritte, Ève': ['Traducteur'], 'Paul-Margueritte, Lucie': ['Traducteur']}\n",
      "{'Paul-Margueritte, Ève': ['Traducteur'], 'Paul-Margueritte, Lucie': ['Traducteur']}\n",
      "{}\n",
      "{'Moissard, Boris': ['Adaptateur'], 'Molitor, Lucienne': ['Traducteur']}\n",
      "{}\n",
      "{'Finné,  Jacques': ['Traducteur']}\n",
      "{}\n",
      "{}\n",
      "{}\n",
      "{}\n",
      "{}\n",
      "{}\n",
      "{}\n",
      "{'Chatain, Jean-Noël': ['Traducteur']}\n",
      "{}\n",
      "{}\n",
      "{'Eighteen-Bisang, Robert': ['Éditeur scientifique'], 'Miller, Elizabeth Russel': ['Éditeur scientifique']}\n",
      "{}\n",
      "{}\n",
      "{}\n",
      "{}\n",
      "{'Martinez,  José, danseur': ['Danseur'], 'Kontarsky, Bernhard': [\"Chef d'orchestre\"], 'Opéra national de Paris, Ballet': ['Danseur'], 'Opéra national de Paris, Orchestre': ['Musicien']}\n",
      "{}\n",
      "{}\n",
      "{'The Kronos quartet': ['Musicien', 'Ensemble de cordes'], 'Nonesuch': ['Producteur']}\n",
      "{}\n",
      "{}\n",
      "{}\n",
      "{}\n",
      "{}\n",
      "{'Finné, Jacques': ['Traducteur']}\n",
      "{}\n",
      "{}\n",
      "{}\n",
      "{'Saint-Père, Arnaud': ['Narrateur', 'Voix parlée'], 'Fuchs, Arnaud-Didier': ['Narrateur', 'Voix parlée'], 'Hérisson, Philippe': ['Narrateur', 'Voix parlée'], 'Dessaux, Alexis': ['Narrateur', 'Voix parlée'], 'Gaber, Floriane': ['Narrateur', 'Voix parlée'], 'Leclerc, Thierry': ['Narrateur', 'Voix parlée'], 'Pitaressi, Maria': ['Narrateur', 'Voix parlée'], 'Duchiron, Marie-Laetitia': ['Narrateur', 'Voix parlée'], 'Rey, Jean Claude, acteur': ['Narrateur', 'Voix parlée'], 'Val, Pierre': ['Narrateur', 'Voix parlée']}\n",
      "{}\n",
      "{}\n",
      "{}\n",
      "{}\n",
      "{'Murnau, Friedrich Wilhelm': ['Metteur en scène ou réalisateur'], 'Galeen, Henrik': ['Adaptateur', 'Scénariste'], 'Schreck, Max': ['Acteur'], 'Wangenheim, Gustav von': ['Acteur'], 'Schröder, Greta': ['Acteur'], 'Erdmann, Hans': ['Compositeur'], 'Prana Film': ['Producteur']}\n",
      "{'Stoker, Bram': ['Auteur']}\n",
      "{'Herzog, Werner': ['Metteur en scène ou réalisateur', 'Scénariste'], 'Fricke, Florian': ['Compositeur'], 'Ganz,  Bruno': ['Acteur'], ' Kinski, Klaus': ['Acteur'], 'Adjani, Isabelle': ['Acteur'], 'Popol Vuh': ['Compositeur']}\n",
      "{'Palma, Paola': ['Auteur'], 'Vezyroglou, Dimitri': ['Auteur']}\n",
      "{'Opéra national de Paris': ['Directeur de publication']}\n",
      "{'Stoker, Bram': ['Auteur'], 'Ziane-Bruneel, Nadia': ['Éditeur scientifique'], 'Sendre-Haïdar, Michèle': ['Collaborateur']}\n",
      "{'Humphries, Tudor': ['Illustrateur']}\n",
      "{'Stoker, Bram': ['Auteur'], 'Cassou-Noguès, Anne': ['Éditeur scientifique'], 'Langenhagen, Marie-Aude de': ['Éditeur scientifique']}\n",
      "{'Belford, Barbara': ['Auteur']}\n",
      "{'Stoker, Bram': ['Auteur']}\n",
      "{'Coppola, Francis Ford': ['Metteur en scène ou réalisateur'], 'Hart,  James V.': ['Scénariste'], 'Kilar, Wojciech': ['Compositeur'], ' Oldman': ['Acteur'], 'Ryder': ['Acteur'], 'Hopkins': ['Acteur'], 'American Zoetrope, Firme': ['Producteur'], 'Osiris Films, Firme': ['Producteur'], 'Columbia pictures': ['Producteur']}\n",
      "{'Ménégaldo, Gilles': ['Directeur de publication'], 'Sipière, Dominique': ['Directeur de publication']}\n",
      "{'Cazacu, Matei': ['Auteur']}\n",
      "{'Valls de Gomis, Estelle': ['Auteur']}\n",
      "{'Idol FX AB': ['Programmeur'], 'Pan vision corporate games': ['Programmeur']}\n",
      "{'Druillet, Philippe': ['Auteur', 'Illustrateur']}\n",
      "{'Francis, Freddie (1917-2007)\\u200e': ['Metteur en scène ou réalisateur'], 'Elder, John': ['Scénariste'], 'Bernard, James': ['Compositeur'], 'Lee, Christopher': ['Acteur'], 'Davies, Rupert': ['Acteur'], 'Carlson, Veronica': ['Acteur'], 'Hammer Film Productions\\u200e': ['Producteur']}\n",
      "{'Hughes, William': ['Auteur']}\n",
      "{'Stoker, Dacre': ['Auteur'], 'Holt, Ian': ['Auteur']}\n",
      "{'Dufranne, Michel': ['Auteur'], 'Kowalski, Piotr': ['Illustrateur'], 'Svart': ['Technicien graphique']}\n",
      "{'Brooks, Mel': ['Metteur en scène ou réalisateur', 'Scénariste'], 'De Luca, Rudy': ['Scénariste'], 'Haberman, Steve': ['Scénariste'], 'Nielsen, Leslie': ['Acteur'], 'MacNicol, Peter': ['Acteur'], 'Weber, Steven': ['Acteur'], 'Mann, Hummie': ['Compositeur'], 'Brooksfilms, Firme': ['Producteur'], 'Gaumont': ['Producteur'], 'Castle Rock Entertainment': ['Producteur']}\n",
      "{'Stoker, Bram': ['Auteur'], 'Eighteen-Bisang, Robert': ['Directeur de publication'], 'Miller, Elizabeth Russel': ['Directeur de publication']}\n",
      "{'Merhige, E. Elias': ['Metteur en scène ou réalisateur'], 'Katz, Stephen': ['Scénariste'], 'Malkovich, John': ['Acteur'], 'Dafoe, Willem': ['Acteur'], 'Elwes, Cary': ['Acteur'], 'BBC Films': ['Producteur'], 'Saturn Films': ['Producteur'], 'Pilgrim Films and Television': ['Producteur'], 'Film Fund Luxembourg': ['Producteur']}\n",
      "{'Eickhoff, Stefan': ['Auteur']}\n",
      "{'Maddin, Guy': ['Metteur en scène ou réalisateur'], 'Zhang, Wei Qiang': ['Danseur'], 'Birtwhistle, Tara': ['Danseur'], 'Moroni, David Lee': ['Danseur'], 'Société Radio-Canada': ['Producteur'], 'Dracula productions': ['Producteur'], 'Royal Winnipeg Ballet': ['Producteur']}\n",
      "{'Jeanneteau, Daniel': ['Artiste'], 'Deratte, Laure': ['Artiste']}\n",
      "{'Valls de Gomis, Estelle': ['Auteur'], 'Lanone, Catherine': ['Directeur de la recherche'], 'Université Toulouse-Jean Jaurès': ['Organisme de soutenance']}\n",
      "{'Gallotta, Jean-Claude': ['Chorégraphe']}\n",
      "{'Dusapin, Pascal': ['Compositeur']}\n",
      "{'Dusapin, Pascal': ['Compositeur']}\n",
      "{'Dusapin, Pascal': ['Compositeur'], 'Trudel, Alain': ['Dédicataire']}\n",
      "{'Dusapin, Pascal': ['Compositeur'], 'Wieder-Atherton, Sonia': ['Dédicataire']}\n",
      "{'Gallotta, Jean-Claude': ['Chorégraphe'], 'Dusapin, Pascal': ['Compositeur'], 'Jeanneteau, Daniel': ['Directeur artistique'], 'Deratte, Laure': ['Directeur artistique'], 'Bériot, Olivier': [\"Membre de l'équipe de production\"], 'Bruguière, Dominique': [\"Membre de l'équipe de production\"], 'Opéra national de Paris': ['Producteur']}\n",
      "{'Finné': ['Auteur'], 'Marigny, Jean': ['Auteur']}\n",
      "{'Druillet, Philippe': ['Illustrateur']}\n",
      "{}\n",
      "{'Browning, Tod': ['Metteur en scène ou réalisateur'], 'Deane, Hamilton': ['Scénariste'], 'Fort, Garrett': ['Scénariste'], 'Lugosi, Bela': ['Acteur'], 'Manners, David': ['Acteur'], 'Chandler, Helen': ['Acteur']}\n",
      "{'Deane, Hamilton': ['Auteur'], 'Balderston,  John L.': ['Auteur']}\n",
      "{'Glass, Philip': ['Compositeur']}\n",
      "{'Melford, George': ['Metteur en scène ou réalisateur'], 'Fernández Cué, Baltasar': ['Scénariste'], 'Villarías, Carlos': ['Acteur'], '\\u200fTovar\\u200f, Lupita': ['Acteur'], 'Norton, Barry': ['Acteur']}\n",
      "{'Godden, Mark': ['Chorégraphe']}\n",
      "{'Mahler, Gustav': ['Compositeur'], 'Godden, Mark': ['Éditeur scientifique']}\n",
      "{'Maddin, Guy': ['Metteur en scène ou réalisateur'], 'ED Distribution': ['Éditeur scientifique']}\n",
      "{'Gauriat, Vincent': ['Illustrateur']}\n",
      "{'Murnau, Friedrich Wilhelm': ['Metteur en scène ou réalisateur'], 'Lang, Fritz': ['Metteur en scène ou réalisateur'], 'Wegener, Paul': ['Metteur en scène ou réalisateur'], 'Wiene, Robert': ['Metteur en scène ou réalisateur'], 'RDM Vidéo': ['Éditeur scientifique']}\n",
      "{'Hammer Film Productions\\u200e': ['Producteur']}\n",
      "{'Dufranne, Michel': ['Auteur'], 'Kowalski, Piotr': ['Illustrateur'], 'Svart': ['Technicien graphique']}\n",
      "{'Houseman, John': ['Adaptateur'], 'Welles, Orson': ['Narrateur', 'Metteur en scène ou réalisateur'], 'Coulouris, George': ['Narrateur'], 'Gabel, Martin': ['Narrateur'], 'Herrmann, Bernard': ['Compositeur'], 'Columbia broadcasting system': ['Producteur de phonogramme']}\n",
      "{'Welles, Orson': ['Narrateur', 'Metteur en scène ou réalisateur'], 'Herrmann, Bernard': ['Compositeur'], 'Mercury Acting Company, New York (New York, États-Unis)': ['Narrateur'], 'Columbia broadcasting system': ['Producteur de phonogramme']}\n",
      "{'Finné': ['Auteur']}\n"
     ]
    }
   ],
   "source": [
    "for el in dict_entities:\n",
    "    print(dict_entities[el].resp)"
   ]
  },
  {
   "cell_type": "code",
   "execution_count": null,
   "metadata": {},
   "outputs": [],
   "source": []
  }
 ],
 "metadata": {
  "kernelspec": {
   "display_name": "Python 3 (ipykernel)",
   "language": "python",
   "name": "python3"
  },
  "language_info": {
   "codemirror_mode": {
    "name": "ipython",
    "version": 3
   },
   "file_extension": ".py",
   "mimetype": "text/x-python",
   "name": "python",
   "nbconvert_exporter": "python",
   "pygments_lexer": "ipython3",
   "version": "3.7.6"
  }
 },
 "nbformat": 4,
 "nbformat_minor": 4
}
