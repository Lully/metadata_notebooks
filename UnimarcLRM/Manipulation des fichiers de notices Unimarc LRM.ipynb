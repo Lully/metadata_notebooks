{
 "cells": [
  {
   "cell_type": "markdown",
   "metadata": {},
   "source": [
    "# Introduction\n",
    "\n",
    "Suite à la publication de 340 notices d'entités LRM par le groupe Systèmes et Données https://zenodo.org/record/7358799 voici un ensemble de scripts pour visualiser un peu leur contenu\n",
    "\n",
    "Les données diffusées en iso2709 ont été converties en MarcXML pour faciliter les traitements.\n",
    "\n",
    "4 fichiers sont fournis :"
   ]
  },
  {
   "cell_type": "code",
   "execution_count": 1,
   "metadata": {},
   "outputs": [],
   "source": [
    "manifs_filename = \"UMB_Manifestations.xml\"\n",
    "oeuvres_expressions_filename = \"UMA_Oeuvres_Expressions.xml\"\n",
    "autres_entites_filename = \"UMA_Autres_Entites_Liees.xml\"\n",
    "items_filename = \"UMH_Items.xml\""
   ]
  },
  {
   "cell_type": "code",
   "execution_count": 2,
   "metadata": {},
   "outputs": [],
   "source": [
    "import SRUextraction as sru # import du fichier https://github.com/Lully/bnf-sru/blob/master/SRUextraction.py\n",
    "from lxml import etree"
   ]
  },
  {
   "cell_type": "code",
   "execution_count": 3,
   "metadata": {},
   "outputs": [],
   "source": [
    "manifs = etree.parse(manifs_filename)\n",
    "oeuvres_expressions = etree.parse(oeuvres_expressions_filename)\n",
    "autres_entites = etree.parse(autres_entites_filename)\n",
    "items = etree.parse(items_filename)"
   ]
  },
  {
   "cell_type": "code",
   "execution_count": null,
   "metadata": {},
   "outputs": [],
   "source": []
  }
 ],
 "metadata": {
  "kernelspec": {
   "display_name": "Python 3",
   "language": "python",
   "name": "python3"
  },
  "language_info": {
   "codemirror_mode": {
    "name": "ipython",
    "version": 3
   },
   "file_extension": ".py",
   "mimetype": "text/x-python",
   "name": "python",
   "nbconvert_exporter": "python",
   "pygments_lexer": "ipython3",
   "version": "3.8.3"
  }
 },
 "nbformat": 4,
 "nbformat_minor": 4
}
