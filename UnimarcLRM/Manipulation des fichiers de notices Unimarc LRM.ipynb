{
 "cells": [
  {
   "cell_type": "markdown",
   "metadata": {},
   "source": [
    "# Introduction\n",
    "\n",
    "Suite à la publication de 340 notices d'entités LRM par le groupe Systèmes et Données https://zenodo.org/record/7358799 voici un ensemble de scripts pour visualiser un peu leur contenu\n",
    "\n",
    "Les données diffusées en iso2709 ont été converties en MarcXML pour faciliter les traitements.\n",
    "\n",
    "**Plan**\n",
    " * [Objectifs](#Objectifs)\n",
    "\n",
    "\n",
    " 1. **[Construction des données](#1.-Construction-des-donn%C3%A9es)**\n",
    "   * [Chargement des données initiales](#Chargement-des-donn%C3%A9es-initiales)\n",
    "     * [Fonctions d'extraction](#Fonctions-d'extraction)\n",
    "       * [Zones de liens entre entités OEMI](#Zones-de-liens-entre-entit%C3%A9s-OEMI)\n",
    "       * [Classes et fonctions](#Classes-et-fonctions)\n",
    "   * [Initialisation des entités](#Initialisation-des-entit%C3%A9s)\n",
    "   * [Les dictionnaires utiles](#Les-dictionnaires-utiles)\n",
    "     * [Dictionnaire ID > entité complète](#Dictionnaire-ID-%3E-entit%C3%A9-compl%C3%A8te)\n",
    "     * [Dictionnaire Manif > Item](#Dictionnaire-Manif-%3E-Items)\n",
    "     * [Propriétés Oeuvre.toExpressions, Oeuvre.toManifs, Oeuvre.toItems](#Propri%C3%A9t%C3%A9s-Oeuvre.toExpressions,-Oeuvre.toManifs,-Oeuvre.toItems)\n",
    "     * [Propriétés Expression.toManifs, Expression.toItems](#Propri%C3%A9t%C3%A9s-Expression.toManifs,-Expression.toItems)\n",
    "     * [Propriétés Manif.toItems, Manif.toOeuvres](#Propri%C3%A9t%C3%A9s-Manif.toOeuvre,-Manif.toItems)\n",
    "     * [Propriétés Item.toOeuvres, Item.toExpressions](#Propri%C3%A9t%C3%A9s-Item.toOeuvres,-Item.toExpressions)\n",
    "\n",
    "\n",
    " 2. **[Les entités](#2.-Les-entit%C3%A9s)**\n",
    "   * [Les oeuvres](#Les-oeuvres)     \n",
    "     * [Propriété oeuvre.detailed](#Propri%C3%A9t%C3%A9-oeuvre.detailed)\n",
    "     * [Propriétés de liens aux autres entités : oeuvre.toExpressions, oeuvre.toManifs, oeuvre.toItems](#Propri%C3%A9t%C3%A9s-de-liens-aux-autres-entit%C3%A9s-:-oeuvre.toExpressions,-oeuvre.toManifs,-oeuvre.toItems)\n",
    "     * [Propriétés oeuvre.resp, oeuvre.respIds](#Propri%C3%A9t%C3%A9s-oeuvre.resp,-oeuvre.respIds)\n",
    "     * [Liste des titres des oeuvres](#Liste-des-titres-des-oeuvres)\n",
    "     * [Analyse d'une oeuvre précise](#Analyse-d'une-oeuvre-pr%C3%A9cise)\n",
    "       * [Expressions et manifestations liées](#Expressions-et-manifestations-li%C3%A9es)\n",
    "       * [Autres liens](#Autres-liens)\n",
    "   * [Les expressions](#Les-expressions)\n",
    "     * [Liste des expressions et liens aux oeuvres](#Liste-des-expressions-et-liens-aux-oeuvres)\n",
    "   * [Les manifestations](#Les-manifestations)\n",
    "     * [Liens dans les manifs](#Liens-dans-les-manifestations)\n",
    "     * [Liste des manifs et liens aux expressions](#Liste-des-manifs-et-liens-aux-expressions)\n",
    "   * [Les items](#Les-items)\n",
    "   \n",
    "\n",
    " 3. **[Relations entre entités](#Relations-entre-entit%C3%A9s)**\n",
    "   * [Codes fonctions](#Codes-fonctions)\n",
    "   * [Liens dans les manifs](#Liens-dans-les-manifs)\n",
    "\n",
    "\n",
    " 4. **[Visualisation en graphe](#3.-Visualisation-en-graphe)**\n",
    "   * [Générer un graphe Gephi](#G%C3%A9n%C3%A9rer-un-graphe-Gephi)\n",
    "   * [Avec GraphViz](#Avec-GraphViz)\n",
    "\n",
    "\n",
    " * [Coquilles rencontrées](#Coquilles-rencontrées)"
   ]
  },
  {
   "cell_type": "code",
   "execution_count": null,
   "metadata": {},
   "outputs": [],
   "source": [
    "# Déclaration des librairies et variables globales\n",
    "\n",
    "import SRUextraction as sru # import du fichier https://github.com/Lully/bnf-sru/blob/master/SRUextraction.py\n",
    "from lxml import etree\n",
    "from string import ascii_lowercase\n",
    "import re\n",
    "from collections import defaultdict\n",
    "import pandas as pd\n",
    "from pprint import pprint\n",
    "from IPython.display import FileLink, FileLinks\n",
    "\n",
    "from unidecode import unidecode\n",
    "\n",
    "ns = {\"marc\": \"http://www.loc.gov/MARC21/slim\"}"
   ]
  },
  {
   "cell_type": "markdown",
   "metadata": {},
   "source": [
    "# Objectifs\n",
    "\n",
    "* **Contrôler les données et faire remonter d'éventuels problèmes dans leur contenu ou leur architecture**\n",
    "\n",
    "\n",
    "* **Fournir des outils pour manipuler les données**, savoir ce qu'elles contiennent. Cela passe par construire un \"objet\" (Python) intermédiaire pour chaque entité, doté de plusieurs attributs, à savoir :\n",
    "  * un point d'accès et/ou un label\n",
    "  * le contenu intégral de la notice\n",
    "  * la liste des liens vers d'autres entités (avec identifiant et point d'accès)\n",
    "\n",
    "\n",
    "* **proposer une visualisation pour une entité donnée** :\n",
    "  * métadonnées simples\n",
    "  * métadonnées enrichies des entités en liens\n",
    "  * graphe de liens vers les entités OEMI et autres\n",
    "  \n",
    "\n",
    "* **proposer une visualisation pour l'ensemble des données** si cela s'avère pertinent\n",
    "  \n",
    "  \n",
    "* **donner à voir les liens autres que les seuls arbres OEMI** : adaptations ou autres\n",
    "\n",
    "\n",
    "* **Proposer une simulation d'un moteur de recherche** qui, pour un terme donné, renvoie une liste de résultats. Cela permet de réfléchir à \n",
    "  * l'affichage des résultats : quelles informations afficher ? (en imaginant un double affichage simple / détaillé)\n",
    "  * l'intégration de méatdonnées des entités en lien dans le résultat affiché (pour qu'une recherche puisse s'effectuer à la fois sur des métadonnées de manifestation et d'oeuvre, par exemple)"
   ]
  },
  {
   "cell_type": "markdown",
   "metadata": {},
   "source": [
    "# 1. Construction des données"
   ]
  },
  {
   "cell_type": "markdown",
   "metadata": {},
   "source": [
    "## Chargement des données initiales\n",
    "\n",
    "Nom des 4 fichiers à importer (MarcXML) import des notices en 4 arbres XML"
   ]
  },
  {
   "cell_type": "code",
   "execution_count": null,
   "metadata": {},
   "outputs": [],
   "source": [
    "manifs_filename = \"UMB_Manifestations.xml\"\n",
    "oeuvres_expressions_filename = \"UMA_Oeuvres_Expressions.xml\"\n",
    "autres_entites_filename = \"UMA_Autres_Entites_Liees.xml\"\n",
    "items_filename = \"UMH_Items.xml\""
   ]
  },
  {
   "cell_type": "markdown",
   "metadata": {},
   "source": [
    "Import des fichiers -> conversion en arbres XML"
   ]
  },
  {
   "cell_type": "code",
   "execution_count": null,
   "metadata": {},
   "outputs": [],
   "source": [
    "manifs_file = etree.parse(manifs_filename)\n",
    "oeuvres_expressions_file = etree.parse(oeuvres_expressions_filename)\n",
    "autres_entites_file = etree.parse(autres_entites_filename)\n",
    "items_file = etree.parse(items_filename)"
   ]
  },
  {
   "cell_type": "markdown",
   "metadata": {},
   "source": [
    "### Fonctions d'extraction"
   ]
  },
  {
   "cell_type": "markdown",
   "metadata": {},
   "source": [
    "#### Zones de liens entre entités OEMI"
   ]
  },
  {
   "cell_type": "markdown",
   "metadata": {},
   "source": [
    "#### Classes et fonctions\n",
    "\n",
    "Import des classes d'objet Record, Item, Manifestation, Expression et Oeuvres\n",
    "\n",
    "Ce fichier contient aussi le dictionnaire `dic_id2type` : Numéro de notice > Type d'entité"
   ]
  },
  {
   "cell_type": "code",
   "execution_count": null,
   "metadata": {},
   "outputs": [],
   "source": [
    "from Record import *"
   ]
  },
  {
   "cell_type": "markdown",
   "metadata": {},
   "source": [
    "Import d'un second fichier local avec différents dictionnaires de valeurs\n",
    "1. Codes fonction (correspondance code Unimarc à 3 chiffres > Libellé). [Source : Abes](https://documentation.abes.fr/sudoc/formats/unmb/DonneesCodees/CodesFonctions.htm#TriCode)\n",
    "2. Tags de liens entre entités\n"
   ]
  },
  {
   "cell_type": "code",
   "execution_count": null,
   "metadata": {},
   "outputs": [],
   "source": [
    "from common_dicts import * "
   ]
  },
  {
   "cell_type": "markdown",
   "metadata": {},
   "source": [
    "Le fichier Record.py définit **une classe d'objet Record** avec 4 (ou +) sous-classes:\n",
    " * Item\n",
    " * Manif\n",
    " * Expression\n",
    " * Oeuvre\n",
    "\n",
    "Les attributs communs sont \n",
    " * l'identifiant : **.id**\n",
    " * le type d'entité : **.type**\n",
    " * la notice en XML et en texte : **.xml** et **.txt**\n",
    " * un \"label\" (pas tout à fait un point d'accès en bonne et due forme) : **.label**\n",
    " * les statistiques des zones et sous-zones (dictionnaire) : **.stats_zones**\n",
    " * les liens aux mentions de responsabilités (dictionnaire) : **.resp**\n",
    "\n",
    "Chaque entité a en plus un attribut listant (dictionnaire) la ou les entités supérieures auxquelles elle est liée : \n",
    " * items : **.toManifs**\n",
    " * manifs : **.toExpressions**\n",
    " * expressions : **.toOeuvres**"
   ]
  },
  {
   "cell_type": "markdown",
   "metadata": {},
   "source": [
    "# Initialisation des entités\n",
    "\n",
    "On transforme les notices présentes dans les fichiers XML en objets de classes Item, Manif, Expression et Oeuvre telles que définies ci-dessus"
   ]
  },
  {
   "cell_type": "code",
   "execution_count": null,
   "metadata": {},
   "outputs": [],
   "source": [
    "manifs = [Manifestation(manif, \"m\") for manif in manifs_file.xpath(\".//marc:record\", namespaces=ns)]\n",
    "oeuvres_expr = [Record(oe, \"oe\") for oe in oeuvres_expressions_file.xpath(\".//marc:record\", namespaces=ns)] \n",
    "items = [Item(oe, \"i\") for oe in items_file.xpath(\".//marc:record\", namespaces=ns)] \n",
    "autres_entites = [Record(r, \"p\") for r in autres_entites_file.xpath(\".//marc:record\", namespaces=ns)] \n",
    "\n",
    "oeuvres = []\n",
    "expressions = []\n",
    "oeuvres_or_expressions  =[]\n",
    "for entity in oeuvres_expr:\n",
    "    if entity.type == \"o\":\n",
    "        oeuvre = Oeuvre(entity.xml, entity.init_type)\n",
    "        oeuvres.append(oeuvre)\n",
    "        \n",
    "    elif entity.type == \"e\":\n",
    "        expression = Expression(entity.xml, entity.init_type)\n",
    "        expressions.append(expression)\n",
    "    else:\n",
    "        oeuvres_or_expressions.append(entity)"
   ]
  },
  {
   "cell_type": "markdown",
   "metadata": {},
   "source": [
    "On peut donc désormais appeler manipuler les informations présentes dans ces entités : on dispose de 4 listes (items, manifs, oeuvres, expressions) \n",
    "\n",
    "par exemple, pour la liste des manifestations avec leur identifiant et leur label, écrire :\n",
    "\n",
    "```for manif in manifs:\n",
    "    print(manif.id, manif.label)```"
   ]
  },
  {
   "cell_type": "markdown",
   "metadata": {},
   "source": [
    "Vous pouvez aussi vous demander à quoi ressemble une notice d'item en Unimarc, en affichant un des items de la liste `items`:\n",
    "\n",
    "`print(items[0].txt)`\n",
    "\n",
    "ou le 2e : \n",
    "\n",
    "`print(item[1]).txt`"
   ]
  },
  {
   "cell_type": "markdown",
   "metadata": {},
   "source": [
    "**Distinction entre oeuvres et expressions dans le fichier oeuvres_expressions.xml**\n",
    "\n",
    "Label pos.9 permet de distinguer oeuvres et expressions : valeurs h / t (auteur-titre, ou titre seul) \n",
    "\n",
    "Zone 154 $a pos1 : a = oeuvre ; b = expression ; x = ne s'applique pas\n",
    "\n",
    "Point d'accès\n",
    "* 231 pour les oeuvres\n",
    "* 232 pour les expressions"
   ]
  },
  {
   "cell_type": "markdown",
   "metadata": {},
   "source": [
    "## Les dictionnaires utiles et les attributs à enrichir\n",
    "\n",
    "Ensemble de dictionnaires permettant de naviguer dans les entités à partir d'un élément d'information\n",
    "\n",
    "En outre, les liens indirects (Oeuvre > Manifestation, Item > Expression) doivent être générés lors d'un second passage sur les lots d'entités, pour que chaque objet dispose de toutes ces informations comme des propriétés qui lui soient rattachées"
   ]
  },
  {
   "cell_type": "markdown",
   "metadata": {},
   "source": [
    "### Dictionnaire ID > entité complète\n",
    "\n",
    "A partir de l'identifiant (numéro de notice) on récupère l'entité de classe Item, Manif, Expression ou Oeuvre (au sens des classes définies dans le code ci-dessus"
   ]
  },
  {
   "cell_type": "code",
   "execution_count": null,
   "metadata": {},
   "outputs": [],
   "source": [
    "# dict_entities importé du fichier Record.py\n",
    "for entity in items + manifs + expressions + oeuvres + autres_entites:\n",
    "    dict_entities[entity.id] = entity"
   ]
  },
  {
   "cell_type": "markdown",
   "metadata": {},
   "source": [
    "### Dictionnaire Manif > Items\n",
    "\n",
    "Chaque notice contient des liens vers l'entité \"supérieure\" dans l'arbre FRBR. Mais les liens inverses peuvent être utiles.\n",
    "\n",
    "On en profite pour récupérer les points d'accès des manifs dans les liens Item > Manif (au sein de l'item)"
   ]
  },
  {
   "cell_type": "code",
   "execution_count": null,
   "metadata": {},
   "outputs": [],
   "source": [
    "dict_manif2item = defaultdict(list)\n",
    "for item in items:\n",
    "    for manif in item.toManifs:\n",
    "        try:\n",
    "            manif_accesspoint = dict_entities[manif].label\n",
    "        except KeyError:\n",
    "            print(\"Manifestation\", manif, f\"mentionnée dans l'item {item.id} mais absente du fichier des manifestations\")\n",
    "        item.toManifs[manif] = manif_accesspoint\n",
    "        dict_manif2item[manif].append(item.id)"
   ]
  },
  {
   "cell_type": "markdown",
   "metadata": {},
   "source": [
    "### Propriétés Oeuvre.toExpressions, Oeuvre.toManifs, Oeuvre.toItems"
   ]
  },
  {
   "cell_type": "code",
   "execution_count": null,
   "metadata": {},
   "outputs": [],
   "source": [
    "for expr in expressions:\n",
    "    for oeuvre in expr.toOeuvres:\n",
    "        dict_entities[oeuvre].toExpressions[expr.id] = expr.label\n",
    "for manif in manifs:\n",
    "    for expr in manif.toExpressions:\n",
    "        if expr:\n",
    "            for oeuvre in dict_entities[expr].toOeuvres:\n",
    "                dict_entities[oeuvre].toManifs[manif.id] = manif.label\n",
    "for item in items:\n",
    "    for manif in item.toManifs:\n",
    "        for expr in dict_entities[manif].toExpressions:\n",
    "            if expr:\n",
    "                for oeuvre in dict_entities[expr].toOeuvres:\n",
    "                    dict_entities[oeuvre].toItems[item.id] = item.label\n",
    "# régénération de la liste des oeuvres\n",
    "oeuvres = [dict_entities[o] for o in dict_entities if dict_entities[o].type == \"o\"]"
   ]
  },
  {
   "cell_type": "markdown",
   "metadata": {},
   "source": [
    "### Propriétés Expression.toManifs, Expression.toItems"
   ]
  },
  {
   "cell_type": "code",
   "execution_count": null,
   "metadata": {},
   "outputs": [],
   "source": [
    "for manif in manifs:\n",
    "    for expr in manif.toExpressions:\n",
    "        if expr:\n",
    "            dict_entities[expr].toManifs[manif.id] = manif.label\n",
    "for expr in dict_entities:\n",
    "    if dict_entities[expr].type == \"e\":\n",
    "        for manif in dict_entities[expr].toManifs:\n",
    "            items_list = dict_manif2item[manif]\n",
    "            for item in items_list:\n",
    "                dict_entities[expr].toItems[item] = dict_entities[item].label\n",
    "# régénération de la liste des expressions\n",
    "expressions = [dict_entities[e] for e in dict_entities if dict_entities[e].type == \"e\"]"
   ]
  },
  {
   "cell_type": "markdown",
   "metadata": {},
   "source": [
    "### Propriétés Manif.toOeuvre, Manif.toItems"
   ]
  },
  {
   "cell_type": "code",
   "execution_count": null,
   "metadata": {},
   "outputs": [],
   "source": [
    "for manif in manifs:\n",
    "    for expr in manif.toExpressions:\n",
    "        if expr:\n",
    "            oeuvres_list = dict_entities[expr].toOeuvres\n",
    "            for oeuvre in oeuvres_list:\n",
    "                dict_entities[manif.id].toOeuvres[oeuvre] = dict_entities[oeuvre].label\n",
    "    for item in dict_manif2item[manif.id]:\n",
    "        dict_entities[manif.id].toItems[item] = dict_entities[item].label\n",
    "# régénération de la liste des expressions\n",
    "manifs = [dict_entities[m] for m in dict_entities if dict_entities[m].type == \"m\"]"
   ]
  },
  {
   "cell_type": "markdown",
   "metadata": {},
   "source": [
    "### Propriétés Item.toOeuvres, Item.toExpressions"
   ]
  },
  {
   "cell_type": "code",
   "execution_count": null,
   "metadata": {},
   "outputs": [],
   "source": [
    "for item in items:\n",
    "    for manif in item.toManifs:\n",
    "        manif_entity = dict_entities[manif]\n",
    "        for expr in manif_entity.toExpressions:\n",
    "            if expr:\n",
    "                dict_entities[item.id].toExpressions[expr] = dict_entities[expr].label\n",
    "        for oeuvre in manif_entity.toOeuvres:\n",
    "            dict_entities[item.id].toOeuvres[oeuvre] = dict_entities[oeuvre].label"
   ]
  },
  {
   "cell_type": "markdown",
   "metadata": {},
   "source": [
    "# 2. Les entités"
   ]
  },
  {
   "cell_type": "markdown",
   "metadata": {},
   "source": [
    "## Les oeuvres"
   ]
  },
  {
   "cell_type": "code",
   "execution_count": null,
   "metadata": {},
   "outputs": [],
   "source": [
    "print(\"Nombre d'oeuvres : \", len(oeuvres))"
   ]
  },
  {
   "cell_type": "markdown",
   "metadata": {},
   "source": [
    "Exemple d'une oeuvre, avec son contenu et ses enrichissements"
   ]
  },
  {
   "cell_type": "code",
   "execution_count": null,
   "metadata": {},
   "outputs": [],
   "source": [
    "print(dict_entities[\"UMLRM0163\"])"
   ]
  },
  {
   "cell_type": "markdown",
   "metadata": {},
   "source": [
    "#### Propriété oeuvre.detailed"
   ]
  },
  {
   "cell_type": "code",
   "execution_count": null,
   "metadata": {},
   "outputs": [],
   "source": [
    "print(dict_entities[\"UMLRM0163\"].detailed)"
   ]
  },
  {
   "cell_type": "markdown",
   "metadata": {},
   "source": [
    "#### Propriétés de liens aux autres entités : oeuvre.toExpressions, oeuvre.toManifs, oeuvre.toItems"
   ]
  },
  {
   "cell_type": "code",
   "execution_count": null,
   "metadata": {},
   "outputs": [],
   "source": [
    "print(\"Oeuvre.toExpressions : \", dict_entities[\"UMLRM0163\"].toExpressions)\n",
    "print(\"Oeuvre.toManifs      : \", dict_entities[\"UMLRM0163\"].toManifs)\n",
    "print(\"Oeuvre.toItems       : \", dict_entities[\"UMLRM0163\"].toItems)"
   ]
  },
  {
   "cell_type": "markdown",
   "metadata": {},
   "source": [
    "#### Propriétés oeuvre.resp, oeuvre.respIds\n",
    "\n",
    "Liens aux mentions de responsabilités"
   ]
  },
  {
   "cell_type": "code",
   "execution_count": null,
   "metadata": {},
   "outputs": [],
   "source": [
    "print(\"Oeuvre.resp    : \", dict_entities[\"UMLRM0163\"].resp)\n",
    "print(\"\\n\")\n",
    "print(\"Oeuvre.respIds : \", dict_entities[\"UMLRM0163\"].respIds)"
   ]
  },
  {
   "cell_type": "markdown",
   "metadata": {},
   "source": [
    "### Liste des titres des oeuvres"
   ]
  },
  {
   "cell_type": "code",
   "execution_count": null,
   "metadata": {},
   "outputs": [],
   "source": [
    "liste_titres_oeuvres = []\n",
    "\n",
    "for oeuvre in oeuvres:\n",
    "    liste_titres_oeuvres.append({\"id\": oeuvre.id,\"Label\": oeuvre.label, \n",
    "                                 \"Nb Expressions liées\": len(oeuvre.toExpressions),\n",
    "                                 \"Nb Manifs liées\": len(oeuvre.toManifs),\n",
    "                                 \"Nb Items liés\": len(oeuvre.toItems)})\n",
    "liste_titres_oeuvres = pd.DataFrame(liste_titres_oeuvres)\n",
    "# liste_titres_oeuvres.to_excel(\"Liste des oeuvres.xlsx\", encoding=\"utf-8\")\n",
    "liste_titres_oeuvres"
   ]
  },
  {
   "cell_type": "markdown",
   "metadata": {},
   "source": [
    "## Oeuvres et expressions liées"
   ]
  },
  {
   "cell_type": "markdown",
   "metadata": {},
   "source": [
    "Après un peu de mise en forme du [tableau ci-contre, au format Excel](Liste%20des%20oeuvres_mef.xlsx), on voit ressortir l'oeuvre la plus reprise et éditée, avec 10 expressions et 20 manifestations liées : Dracula, de Bram Stocker\n"
   ]
  },
  {
   "cell_type": "markdown",
   "metadata": {},
   "source": [
    "## Analyse d'une oeuvre précise\n",
    "\n",
    "Prenons le temps de regarder cette notice d'oeuvre UMLRM0004 : Bram Stoker, Dracula, 1890"
   ]
  },
  {
   "cell_type": "code",
   "execution_count": null,
   "metadata": {},
   "outputs": [],
   "source": [
    "oeuvre_zoom = \"UMLRM0004\""
   ]
  },
  {
   "cell_type": "code",
   "execution_count": null,
   "metadata": {},
   "outputs": [],
   "source": [
    "print(dict_entities[oeuvre_zoom])"
   ]
  },
  {
   "cell_type": "markdown",
   "metadata": {},
   "source": [
    "### Expressions et manifestations liées"
   ]
  },
  {
   "cell_type": "code",
   "execution_count": null,
   "metadata": {},
   "outputs": [],
   "source": [
    "for expr in dict_entities[oeuvre_zoom].toExpressions:\n",
    "    print(\"\\n\", dict_entities[expr].detailed)\n",
    "    for manif in dict_entities[expr].toManifs:\n",
    "        print(\" \"*5, \"|---\", manif, dict_entities[manif].label)\n",
    "#    print(expr, dict_entities[\"UMLRM0004\"].toExpressions[expr])"
   ]
  },
  {
   "cell_type": "markdown",
   "metadata": {},
   "source": [
    "### Autres liens"
   ]
  },
  {
   "cell_type": "code",
   "execution_count": null,
   "metadata": {},
   "outputs": [],
   "source": [
    "i = 1\n",
    "for oeuvre in oeuvres:\n",
    "    f541_3 = sru.record2fieldvalue(oeuvre.xml, \"541$3\")\n",
    "    if f541_3 == oeuvre_zoom:\n",
    "        lien = [sru.record2fieldvalue(oeuvre.xml, \"541$p\") + \" \" + sru.record2fieldvalue(oeuvre.xml, \"541$t\"), sru.record2fieldvalue(oeuvre.xml, \"541$a\")]\n",
    "        lien = [el.strip() for el in lien if el.strip()]\n",
    "        print(\"\")\n",
    "        print(i, \"-\", oeuvre.label, f\"({oeuvre.id})\")\n",
    "        print(\", \".join(lien))\n",
    "        i += 1"
   ]
  },
  {
   "cell_type": "markdown",
   "metadata": {},
   "source": [
    "**Items liés**"
   ]
  },
  {
   "cell_type": "code",
   "execution_count": null,
   "metadata": {},
   "outputs": [],
   "source": [
    "for item in dict_entities[\"UMLRM0004\"].toItems:\n",
    "    print(item, dict_entities[\"UMLRM0004\"].toItems[item])"
   ]
  },
  {
   "cell_type": "markdown",
   "metadata": {},
   "source": [
    "## Les expressions\n",
    "\n",
    "Les expressions sont présentes dans le fichier oeuvres_expressions, et distinguables les une des autres par la zone **154$a pos.1**, selon la valeur trouvée : \n",
    "* a : oeuvre\n",
    "* b : expression\n",
    "* x : autres"
   ]
  },
  {
   "cell_type": "markdown",
   "metadata": {},
   "source": [
    "### Liens Expressions > mentions de responsabilités"
   ]
  },
  {
   "cell_type": "code",
   "execution_count": null,
   "metadata": {},
   "outputs": [],
   "source": [
    "stats_exp_resp = defaultdict(int)\n",
    "\n",
    "for expr in expressions:\n",
    "    stats_exp_resp[len(expr.resp)] += 1\n",
    "\n",
    "for key in stats_exp_resp:\n",
    "    print(\"Nombre d'expressions contenant\", key, \"mentions de responsabilités : \", stats_exp_resp[key])"
   ]
  },
  {
   "cell_type": "markdown",
   "metadata": {},
   "source": [
    "### Fichier contenant les expressions"
   ]
  },
  {
   "cell_type": "code",
   "execution_count": null,
   "metadata": {},
   "outputs": [],
   "source": [
    "def line2report(line, file):\n",
    "    file.write(line)\n",
    "    file.write(\"\\n\")\n",
    "\n",
    "with open(\"expressions.txt\", \"w\", encoding=\"utf-8\") as f:\n",
    "    for expr in expressions:\n",
    "        line2report(\"\\n\"*2, f)\n",
    "        line2report(f\"{expr.id} : {expr.label}\", f)\n",
    "        line2report(expr.txt, f)"
   ]
  },
  {
   "cell_type": "markdown",
   "metadata": {},
   "source": [
    "### Les liens dans les expressions\n",
    "\n",
    "Expression UMLRM0056"
   ]
  },
  {
   "cell_type": "markdown",
   "metadata": {},
   "source": [
    "## Les manifestations\n",
    "\n",
    "Besoins : \n",
    "* pour une manifestation, récupérer les métas principales :\n",
    "  * titre, point d'accès, auteur\n",
    "  * liens aux entités Expressions (et oeuvre ?)\n",
    "* pour une manif, récupérer la liste des expressions et la liste des oeuvres (lien direct)\n",
    "  * créer des attributs à la manifs, en fournissant l'expression source pour chaque oeuvre identifié"
   ]
  },
  {
   "cell_type": "markdown",
   "metadata": {},
   "source": [
    "## Les items"
   ]
  },
  {
   "cell_type": "code",
   "execution_count": null,
   "metadata": {},
   "outputs": [],
   "source": [
    "print(\"Nombre d'items : \", len(items))"
   ]
  },
  {
   "cell_type": "markdown",
   "metadata": {},
   "source": [
    "Liste des numéros de notices d'item"
   ]
  },
  {
   "cell_type": "code",
   "execution_count": null,
   "metadata": {},
   "outputs": [],
   "source": [
    "print([item.id for item in items])"
   ]
  },
  {
   "cell_type": "markdown",
   "metadata": {},
   "source": [
    "**Visualiser un item par son numéro de notice (liste ci-dessus) :**"
   ]
  },
  {
   "cell_type": "code",
   "execution_count": null,
   "metadata": {},
   "outputs": [],
   "source": [
    "# Fonction désactivée temporairement\n",
    "# pour facilités de développement -- mais elle fonctionne\n",
    "\n",
    "\"\"\"itemid = input(\"Numéro d'item (exemple UMLRM1050): \")\n",
    "if itemid == \"\":\n",
    "    itemid = \"UMLRM1050\"\n",
    "print(dict_entities[itemid])\"\"\""
   ]
  },
  {
   "cell_type": "markdown",
   "metadata": {},
   "source": [
    "Chaque item n'est relié qu'à 1 manifestation"
   ]
  },
  {
   "cell_type": "code",
   "execution_count": null,
   "metadata": {},
   "outputs": [],
   "source": [
    "stats_manifs_items = defaultdict(int)\n",
    "for manif in dict_manif2item:\n",
    "    stats_manifs_items[len(dict_manif2item[manif])] += 1\n",
    "for nb_items in stats_manifs_items:\n",
    "    print(stats_manifs_items[nb_items], \"manifestations reliées à\", nb_items, \"items\")\n",
    "for manif in dict_manif2item:\n",
    "    if len(dict_manif2item[manif]) > 1:\n",
    "        print(manif, \"liée à\", len(dict_manif2item[manif]), \"items\")"
   ]
  },
  {
   "cell_type": "markdown",
   "metadata": {},
   "source": [
    "# Relations entre entités\n",
    "\n",
    "Note (non exploitable informatiquement) 370\n"
   ]
  },
  {
   "cell_type": "markdown",
   "metadata": {},
   "source": [
    "## Codes fonctions"
   ]
  },
  {
   "cell_type": "code",
   "execution_count": null,
   "metadata": {},
   "outputs": [],
   "source": [
    "liste_roles = set()\n",
    "for e in manifs + expressions + oeuvres:\n",
    "    for r in e.resp:\n",
    "        for role in e.resp[r]:\n",
    "            liste_roles.add(f\"Entité {e.type} - {role}\")\n",
    "for el in sorted(liste_roles):\n",
    "    print(el)"
   ]
  },
  {
   "cell_type": "markdown",
   "metadata": {},
   "source": [
    "## Liens dans les manifs"
   ]
  },
  {
   "cell_type": "markdown",
   "metadata": {},
   "source": [
    "### Liens manif > expression"
   ]
  },
  {
   "cell_type": "code",
   "execution_count": null,
   "metadata": {},
   "outputs": [],
   "source": [
    "print(\"*** Liens aux Expressions ***\")\n",
    "for lien in tags_manif2expressions:\n",
    "    print(lien, tags_manif2expressions[lien])"
   ]
  },
  {
   "cell_type": "markdown",
   "metadata": {},
   "source": [
    "* Chaque manifestation a un attribut **.toExpression** qui est un dictionnaire :\n",
    "  * clé : numéro de notice d'expression\n",
    "  * valeur : point d'accès (sans les dollars)"
   ]
  },
  {
   "cell_type": "markdown",
   "metadata": {},
   "source": [
    "**Liste des manifestations et liens aux expressions**"
   ]
  },
  {
   "cell_type": "code",
   "execution_count": null,
   "metadata": {},
   "outputs": [],
   "source": [
    "for el in manifs:\n",
    "    print(\"\\n\", el.id, el.label)\n",
    "    for expression in el.toExpressions:\n",
    "        print(f\"    ∟{'-'*5}Expr{'-'*2}\", expression, el.toExpressions[expression])"
   ]
  },
  {
   "cell_type": "markdown",
   "metadata": {},
   "source": [
    "### Mentions de responsabilités"
   ]
  },
  {
   "cell_type": "code",
   "execution_count": null,
   "metadata": {},
   "outputs": [],
   "source": [
    "print(\"*** Liens aux mentions de responsabilités ***\")\n",
    "for lien in tags_resp[\"m\"]:\n",
    "    print(lien, tags_resp[\"m\"][lien])"
   ]
  },
  {
   "cell_type": "markdown",
   "metadata": {},
   "source": [
    "* Chaque manifestation a un attribut **.resp** qui est un dictionnaire:\n",
    "  * clé : label de l'entité en lien\n",
    "  * valeur : liste des fonctions"
   ]
  },
  {
   "cell_type": "markdown",
   "metadata": {},
   "source": [
    "## Les expressions"
   ]
  },
  {
   "cell_type": "markdown",
   "metadata": {},
   "source": [
    "### Liste des expressions et liens aux oeuvres\n",
    "\n",
    "Chaque instance de l'entité Expression a un attribut \".toOeuvres\" qui liste sous forme de dictionnaire les liens aux oeuvres (clé : numéro de notice d'oeuvre ; valeur : point d'accès de l'oeuvre)"
   ]
  },
  {
   "cell_type": "code",
   "execution_count": null,
   "metadata": {},
   "outputs": [],
   "source": [
    "for el in expressions:\n",
    "    print(\"\\n\", el.id, el.label)\n",
    "    for oeuvre in el.toOeuvres:\n",
    "        print(f\"    ∟{'-'*5}\", oeuvre, el.toOeuvres[oeuvre])"
   ]
  },
  {
   "cell_type": "code",
   "execution_count": null,
   "metadata": {},
   "outputs": [],
   "source": [
    "# Mentions de responsabilités dans les expressions:\n",
    "\n",
    "for exp in expressions:\n",
    "    for field in [str(el) for el in range(500, 599)]:\n",
    "        for field_occ in exp.xml.xpath(f\"*[@tag='{field}']\"):\n",
    "            value = sru.field2value(field_occ)\n",
    "            if \"$4\" in value:\n",
    "                print(exp.type, field, value)"
   ]
  },
  {
   "cell_type": "markdown",
   "metadata": {},
   "source": [
    "# Visualisation en graphe"
   ]
  },
  {
   "cell_type": "markdown",
   "metadata": {},
   "source": [
    "## Générer un graphe Gephi\n",
    "\n",
    "Objectif : générer 2 fichiers TSV (format en colonnes, tabulé) afin d'alimenter Gephi et de calculer un graphe\n",
    "\n",
    "Un fichier listera les noeuds : \n",
    " * identifiant (n° de notice)\n",
    " * label (point d'accès)\n",
    " * type (manifestation/expression/oeuvre) (à voir la pertinence d'y mettre aussi les items)\n",
    "\n",
    "Un second fichier listera les liens entre ces noeuds\n",
    " "
   ]
  },
  {
   "cell_type": "markdown",
   "metadata": {},
   "source": [
    "### Fichier - liste des noeuds"
   ]
  },
  {
   "cell_type": "code",
   "execution_count": null,
   "metadata": {},
   "outputs": [],
   "source": [
    "liste_noeuds = [[\"Identifiant\", \"Label\", \"Type\"]]\n",
    "\n",
    "def add_in_nodes_list(corpus, liste):\n",
    "    for entity in corpus:\n",
    "        liste.append([entity.id, entity.label, entity.type])\n",
    "\n",
    "add_in_nodes_list(manifs, liste_noeuds)\n",
    "add_in_nodes_list(expressions, liste_noeuds)\n",
    "add_in_nodes_list(oeuvres, liste_noeuds)\n",
    "add_in_nodes_list(items, liste_noeuds)\n",
    "add_in_nodes_list(autres_entites, liste_noeuds)"
   ]
  },
  {
   "cell_type": "markdown",
   "metadata": {},
   "source": [
    "### Fichier - liste des liens"
   ]
  },
  {
   "cell_type": "code",
   "execution_count": null,
   "metadata": {},
   "outputs": [],
   "source": [
    "liste_liens = []\n",
    "for item in items:\n",
    "    for manif in item.toManifs:\n",
    "        liste_liens.append([item.id, manif])\n",
    "for manif in manifs:\n",
    "    for expr in manif.toExpressions:\n",
    "        liste_liens.append([manif.id, expr])\n",
    "for expr in expressions:\n",
    "    for oeuvre in expr.toOeuvres:\n",
    "        liste_liens.append([expr.id, oeuvre])\n",
    "for entity in dict_entities:\n",
    "    for resp in dict_entities[entity].respIds:\n",
    "        liste_liens.append([entity, resp])\n",
    "for oeuvre in oeuvres:\n",
    "    for subject in oeuvre.subjects:\n",
    "        liste_liens.append([oeuvre.id, subject])\n",
    "    for gf in oeuvre.genreforme:\n",
    "        liste_liens.append([oeuvre.id, gf])"
   ]
  },
  {
   "cell_type": "code",
   "execution_count": null,
   "metadata": {},
   "outputs": [],
   "source": [
    "print(\"Exemple de relations exprimées par des points d'accès seul : \")\n",
    "for lien in liste_liens:\n",
    "    for recordid in lien:\n",
    "        if re.fullmatch(r\"UMLRM\\d\\d\\d\\d\", recordid) is None:\n",
    "            print(dic_id2type[lien[0]], lien)"
   ]
  },
  {
   "cell_type": "markdown",
   "metadata": {},
   "source": [
    "## Génération des fichiers"
   ]
  },
  {
   "cell_type": "code",
   "execution_count": null,
   "metadata": {},
   "outputs": [],
   "source": [
    "with open(\"liste_noeuds.txt\", \"w\", encoding=\"utf-8\") as file:\n",
    "    for node in liste_noeuds:\n",
    "        file.write(\"\\t\".join(node) + \"\\n\")\n",
    "with open(\"liste_liens.txt\", \"w\", encoding=\"utf-8\") as file:\n",
    "    for link in liste_liens:\n",
    "        file.write(\"\\t\".join(link) + \"\\n\")"
   ]
  },
  {
   "cell_type": "markdown",
   "metadata": {},
   "source": [
    "### Graphe GEXF\n",
    "\n",
    "On peut aussi utiliser Gephi pour générer un fichier \\*.gexf avec une librairie JavaScript qui va générer un graphe interactif dans le navigateur\n",
    "\n",
    "On fournit à Gephi les noeuds et liens, pour avoir la projection dans le plan."
   ]
  },
  {
   "cell_type": "markdown",
   "metadata": {},
   "source": [
    "## Avec GraphViz\n",
    "\n",
    "Cf. test sur [../graphviz/Test Graphviz.ipynb](graphviz/Test Graphviz.ipynb)"
   ]
  },
  {
   "cell_type": "code",
   "execution_count": null,
   "metadata": {},
   "outputs": [],
   "source": [
    "import graphviz"
   ]
  },
  {
   "cell_type": "markdown",
   "metadata": {},
   "source": [
    "### Fonctions de génération d'un graphe à partir d'une oeuvre"
   ]
  },
  {
   "cell_type": "code",
   "execution_count": null,
   "metadata": {},
   "outputs": [],
   "source": [
    "\n",
    "def generate_graph_from_oeuvre(oeuvre, size):\n",
    "    # A partir d'une manifestation, renvoie un graphe GraphViz\n",
    "    dot = graphviz.Digraph(oeuvre.id, comment=f'Notice {oeuvre.id}')  \n",
    "    dot.attr(rankdir='LR')\n",
    "    dot.attr(size=size)\n",
    "    # Add nodes and edges to the graph object using its node() and edge() or edges() methods:\n",
    "    dot.node(oeuvre.id, oeuvre.label)\n",
    "    liste_edges = []\n",
    "    for expr in oeuvre.toExpressions:\n",
    "        if expr:\n",
    "            dot.node(expr, dict_entities[expr].label)\n",
    "            dot.edge(oeuvre.id, expr, label=\"Expression de\")\n",
    "        for manif in dict_entities[expr].toManifs:\n",
    "            if manif:\n",
    "                dot.node(manif, dict_entities[manif].label)\n",
    "                dot.edge(expr, manif, label=\"Manifestation de\")\n",
    "    return dot\n",
    "    # dot.edges(liste_edges)\n",
    "    \n",
    "def oeuvreid2graph(recordid, size=\"10,10\"):\n",
    "    return generate_graph_from_oeuvre(dict_entities[recordid], size)"
   ]
  },
  {
   "cell_type": "code",
   "execution_count": null,
   "metadata": {},
   "outputs": [],
   "source": [
    "graphe_oeuvre = oeuvreid2graph(\"UMLRM0129\", \"15,15\")\n",
    "graphe_oeuvre"
   ]
  },
  {
   "cell_type": "code",
   "execution_count": null,
   "metadata": {},
   "outputs": [],
   "source": [
    "graphe_oeuvre = oeuvreid2graph(\"UMLRM0129\")\n",
    "graphe_oeuvre"
   ]
  },
  {
   "cell_type": "markdown",
   "metadata": {},
   "source": [
    "### Fonctions de génération d'un graphe à partir d'une manifestation"
   ]
  },
  {
   "cell_type": "code",
   "execution_count": null,
   "metadata": {},
   "outputs": [],
   "source": [
    "\n",
    "def generate_graph_from_manif(manif):\n",
    "    # A partir d'une manifestation, renvoie un graphe GraphViz\n",
    "    dot = graphviz.Digraph(manif.id, comment=f'Notice {manif.id}')  \n",
    "    # Add nodes and edges to the graph object using its node() and edge() or edges() methods:\n",
    "    dot.node(manif.id, manif.label)\n",
    "    liste_edges = []\n",
    "    for expr in manif.toExpressions:\n",
    "        if expr:\n",
    "            dot.node(expr, dict_entities[expr].label)\n",
    "            dot.edge(manif.id, expr, label=\"manif de\")\n",
    "        for oeuvre in dict_entities[expr].toOeuvres:\n",
    "            if oeuvre:\n",
    "                dot.node(oeuvre, dict_entities[oeuvre].label)\n",
    "                dot.edge(expr, oeuvre, label=\"expression de\")\n",
    "    return dot\n",
    "    # dot.edges(liste_edges)\n",
    "    \n",
    "def manifid2graph(recordid):\n",
    "    return generate_graph_from_manif(dict_entities[recordid])"
   ]
  },
  {
   "cell_type": "markdown",
   "metadata": {},
   "source": [
    "[Liste des notices de manifestations ci-dessus](#Liste-des-manifs-et-liens-aux-expressions)"
   ]
  },
  {
   "cell_type": "code",
   "execution_count": null,
   "metadata": {},
   "outputs": [],
   "source": [
    "# Fonction désactivée temporairement\n",
    "# pour facilités de développement -- mais elle fonctionne\n",
    "\n",
    "# manifid = input(\"Numéro de notice de manifestation (exemple : UMLRM0077, avec 2 expressions liées) : \")\n",
    "manifid = \"\""
   ]
  },
  {
   "cell_type": "code",
   "execution_count": null,
   "metadata": {},
   "outputs": [],
   "source": [
    "if manifid == \"\":\n",
    "    manifid = \"UMLRM0077\"\n",
    "graphe_manif = manifid2graph(manifid)"
   ]
  },
  {
   "cell_type": "code",
   "execution_count": null,
   "metadata": {},
   "outputs": [],
   "source": [
    "graphe_manif"
   ]
  },
  {
   "cell_type": "markdown",
   "metadata": {},
   "source": [
    "### Générer un graphe complet"
   ]
  },
  {
   "cell_type": "code",
   "execution_count": null,
   "metadata": {},
   "outputs": [],
   "source": [
    "def generate_global_graph(dict_entities, list_links, size):\n",
    "    # A partir d'une manifestation, renvoie un graphe GraphViz\n",
    "    dot = graphviz.Digraph(\"Graphe global\", comment=f'Graphe global', format=\"png\")\n",
    "    colors = {\"i\": \"white\", \"m\": \"#C9E0FF\", \"e\": \"#BCC9FF\", \"o\": \"#BBAAFF\",\n",
    "              \"p\": \"#FF969F\", \"c\": \"#FFD1D9\"}\n",
    "    for t in \"glntz\": \n",
    "        colors[t] = \"white\"\n",
    "    \"\"\"for c in colors:\n",
    "        colors[c] = \"red\" \"\"\"\n",
    "    dot.attr(rankdir='LR')\n",
    "    dot.attr(size=size)\n",
    "    # Ajout de tous les noeuds pour les oeuvres\n",
    "    liste_edges = []\n",
    "    list_nodes_in_links = set()\n",
    "    for paire in list_links:\n",
    "        for l in paire:\n",
    "            list_nodes_in_links.add(l)\n",
    "    for e in dict_entities:\n",
    "        if e in list_nodes_in_links:\n",
    "            dot.node(e, f\"{dict_entities[e].label} [{dict_entities[e].type}]\", \n",
    "                     color=colors[dict_entities[e].type], style=\"filled\",\n",
    "                     fillcolor=colors[dict_entities[e].type])\n",
    "    for e in dict_entities:\n",
    "        if dict_entities[e].type == \"o\":\n",
    "            for resp in dict_entities[e].respIds:\n",
    "                if resp not in list_nodes_in_links:\n",
    "                    list_nodes_in_links.add(resp)\n",
    "                    dot.node(e, f\"{dict_entities[resp].label} [{dict_entities[resp].type}]\", \n",
    "                     color=colors[dict_entities[resp].type], style=\"filled\",\n",
    "                     fillcolor=colors[dict_entities[resp].type])\n",
    "                dot.edge(resp, e, label=\"Auteur\")\n",
    "            for i in dict_entities[e].subjects:\n",
    "                if i not in list_nodes_in_links:\n",
    "                    list_nodes_in_links.add(i)\n",
    "                    dot.node(e, f\"{dict_entities[i].label} [{dict_entities[i].type}]\", \n",
    "                     color=colors[dict_entities[i].type], style=\"filled\",\n",
    "                     fillcolor=colors[dict_entities[i].type])\n",
    "                dot.edge(i, e, label=\"Sujet\")\n",
    "            for gf in dict_entities[e].genreforme:\n",
    "                if gf not in list_nodes_in_links:\n",
    "                    list_nodes_in_links.add(gf)\n",
    "                    dot.node(e, f\"{dict_entities[gf].label} [{dict_entities[gf].type}]\", \n",
    "                     color=colors[dict_entities[gf].type], style=\"filled\",\n",
    "                     fillcolor=colors[dict_entities[gf].type])\n",
    "                dot.edge(gf, e, label=\"genre\")\n",
    "        if dict_entities[e].type == \"e\":\n",
    "            for o in dict_entities[e].toOeuvres:\n",
    "                dot.edge(e, o, label=\"Expression de\")\n",
    "        elif dict_entities[e].type == \"m\":\n",
    "            for expr in dict_entities[e].toExpressions:\n",
    "                dot.edge(e, expr, label=\"Manifestation de\")\n",
    "        elif dict_entities[e].type == \"i\":\n",
    "            for m in dict_entities[e].toManifs:\n",
    "                dot.edge(e, m, label=\"Item de\")\n",
    "    return dot\n",
    "    # dot.edges(liste_edges)\n"
   ]
  },
  {
   "cell_type": "code",
   "execution_count": null,
   "metadata": {},
   "outputs": [],
   "source": [
    "global_graph = generate_global_graph(dict_entities, liste_liens, \"100\")\n",
    "global_graph.render(\"Graphe global\")"
   ]
  },
  {
   "cell_type": "markdown",
   "metadata": {},
   "source": [
    "# Coquilles rencontrées\n",
    "\n",
    "https://semestriel.framapad.org/p/bugs_unimarclrm"
   ]
  },
  {
   "cell_type": "code",
   "execution_count": null,
   "metadata": {},
   "outputs": [],
   "source": [
    "with open(\"stats_zones.txt\", \"w\", encoding=\"utf-8\") as file:\n",
    "    for entity in dict_entities:\n",
    "        for zone in dict_entities[entity].stats_zones:\n",
    "            line = [entity, dict_entities[entity].type, zone, str(dict_entities[entity].stats_zones[zone])]\n",
    "            file.write(\"\\t\".join(line) + \"\\n\")"
   ]
  },
  {
   "cell_type": "markdown",
   "metadata": {},
   "source": [
    "Expressions sans oeuvre"
   ]
  },
  {
   "cell_type": "code",
   "execution_count": null,
   "metadata": {},
   "outputs": [],
   "source": [
    "for expr in expressions:\n",
    "    if len(expr.toOeuvres) == 0:\n",
    "        print(expr.id)#"
   ]
  },
  {
   "cell_type": "code",
   "execution_count": null,
   "metadata": {},
   "outputs": [],
   "source": [
    "# Longueur des guides.\n",
    "\n",
    "for el in dict_entities:\n",
    "    guide = sru.record2fieldvalue(dict_entities[el].xml, \"000\")\n",
    "    print(f\"{dict_entities[el].type}¤{el}¤{guide}\")"
   ]
  },
  {
   "cell_type": "code",
   "execution_count": null,
   "metadata": {},
   "outputs": [],
   "source": [
    "for rec in dict_entities:\n",
    "    for resp in dict_entities[rec].respIds:\n",
    "        if resp not in dict_entities:\n",
    "            print(rec, dict_entities[rec].type, resp)"
   ]
  },
  {
   "cell_type": "code",
   "execution_count": null,
   "metadata": {},
   "outputs": [],
   "source": [
    "for el in autres_entites:\n",
    "    print(el.id)"
   ]
  },
  {
   "cell_type": "markdown",
   "metadata": {},
   "source": [
    "# Pseudo-moteur de recherche "
   ]
  },
  {
   "cell_type": "markdown",
   "metadata": {},
   "source": [
    "L'objectif est de proposer une boîte de saisie pour chercher un ou plusieurs mots-clés, et évaluer les résultats d'affichage possible\n"
   ]
  },
  {
   "cell_type": "code",
   "execution_count": null,
   "metadata": {},
   "outputs": [],
   "source": [
    "def clean_str(string):\n",
    "    string = unidecode(string.lower())\n",
    "    punct = \"!:,;.?/%$\\\"'\"\n",
    "    for char in punct:\n",
    "        string = string.replace(\"char\", \" \")\n",
    "    string = \" \".join([el for el in string.split(\" \") if el])\n",
    "    return string\n",
    "\n",
    "def search(keywords, oeuvres, dict_entities, index=\"all\"):\n",
    "    keywords = clean_str(keywords).split(\" \")\n",
    "    results_entities = {}\n",
    "    for o in oeuvres:\n",
    "        if index == \"all\":\n",
    "            for k in keywords:\n",
    "                if k in o.global_index:\n",
    "                    results_entities[o.id] = o\n",
    "    return results_entities\n",
    "\n",
    "def short_display(results_entities):\n",
    "    i = 1\n",
    "    for e in results_entities:\n",
    "        print(\"\")\n",
    "        print(f\"{str(i)}.\",  results_entities[e].label)\n",
    "        print(\"\")\n",
    "        if i < len(results_entities) :\n",
    "            print(\"-\"*20)\n",
    "        i += 1\n",
    "    \n",
    "def full_display(results_entities, kw_search):\n",
    "    i = 1\n",
    "    for e in results_entities:\n",
    "        print(\"\")\n",
    "        print(f\"{str(i)}.\",  results_entities[e].detailed)\n",
    "        print(\"\")\n",
    "        if i < len(results_entities) :\n",
    "            print(\"-\"*20)\n",
    "        i += 1\n",
    "    \n",
    "    \n",
    "def display_results(results_entities, kw_search):\n",
    "    \n",
    "    print(\"\\nRappel de la recherche : \", kw_search)\n",
    "    print(\"Nombre de résultats :\", len(results_entities))\n",
    "    short_display(results_entities)\n",
    "    print(\"\\n\", \"*\"*20, \"\\n*    Résultats détaillés   *\\n\", \"*\"*20, \"\\n\")\n",
    "    full_display(results_entities, kw_search)"
   ]
  },
  {
   "cell_type": "markdown",
   "metadata": {},
   "source": [
    "### Formulaire de recherche simple"
   ]
  },
  {
   "cell_type": "code",
   "execution_count": null,
   "metadata": {},
   "outputs": [],
   "source": [
    "kw_search = input(\"Chercher dans la base : \")\n",
    "results = search(kw_search, oeuvres, dict_entities, \"all\")\n",
    "display_results(results, kw_search)"
   ]
  },
  {
   "cell_type": "markdown",
   "metadata": {},
   "source": [
    "### Recherche avec pages HTML\n",
    "\n",
    "La recherche génére une page de résultats dans [results/short_results.html](results/short_results.html), laquelle contient des liens vers des notices détaillées\n",
    "\n",
    "On peut ensuite supprimer toutes les pages générées en utilisant la fonction `delete_html_results()`\n",
    "\n",
    "Voir le noteboook [Jeu de données Unimarc(entités) - affichage des résultats](Jeu%20de%20donn%C3%A9es%20Unimarc(entit%C3%A9s)%20-%20affichage%20des%20r%C3%A9sultats.ipynb)"
   ]
  },
  {
   "cell_type": "code",
   "execution_count": null,
   "metadata": {},
   "outputs": [],
   "source": [
    "from generate_results import display_html_results, delete_html_results"
   ]
  },
  {
   "cell_type": "code",
   "execution_count": null,
   "metadata": {},
   "outputs": [],
   "source": [
    "kw_search = input(\"Chercher dans la base : \")\n",
    "results = search(kw_search, dict_entities, \"all\")\n",
    "print(\"Nombre de résultats :\", len(results))\n",
    "display_html_results(results, dict_entities, kw_search)"
   ]
  },
  {
   "cell_type": "markdown",
   "metadata": {},
   "source": [
    "**[Afficher les résultats](results/short_results.html)**"
   ]
  },
  {
   "cell_type": "markdown",
   "metadata": {},
   "source": [
    "#### Supprimer les pages de résultats"
   ]
  },
  {
   "cell_type": "code",
   "execution_count": null,
   "metadata": {},
   "outputs": [],
   "source": [
    "# delete_html_results()"
   ]
  },
  {
   "cell_type": "markdown",
   "metadata": {},
   "source": [
    "# Corrections à faire"
   ]
  },
  {
   "cell_type": "markdown",
   "metadata": {},
   "source": [
    "Notice d'oeuvre UMLRM0163 : 2e zone 640 erronée :\n",
    "```640 6  $0 Date de première sortie en salle $a US $d New ```\n",
    "\n",
    "Notice de manif : lien 716$3 FRBNF13876673 --> FRBNF138766730 (notice de marque)\n",
    "\n",
    "Coquilles sur les identifiants en général"
   ]
  },
  {
   "cell_type": "code",
   "execution_count": null,
   "metadata": {},
   "outputs": [],
   "source": []
  },
  {
   "cell_type": "code",
   "execution_count": null,
   "metadata": {},
   "outputs": [],
   "source": []
  }
 ],
 "metadata": {
  "kernelspec": {
   "display_name": "Python 3",
   "language": "python",
   "name": "python3"
  },
  "language_info": {
   "codemirror_mode": {
    "name": "ipython",
    "version": 3
   },
   "file_extension": ".py",
   "mimetype": "text/x-python",
   "name": "python",
   "nbconvert_exporter": "python",
   "pygments_lexer": "ipython3",
   "version": "3.8.3"
  }
 },
 "nbformat": 4,
 "nbformat_minor": 4
}
