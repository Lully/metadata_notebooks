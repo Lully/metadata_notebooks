{
 "cells": [
  {
   "cell_type": "markdown",
   "metadata": {},
   "source": [
    "# Objectif\n",
    "\n",
    "Proposer un affichage de résultats (sous forme de pages HTML articulées entre elles) à partir du jeu de données (4 fichiers Unimarc XML d'entités LRM) et des objets Python créés dessus, à partir du code présenté dans le notebook **Manipulation des fichiers de notices Unimarc LRM**\n",
    "\n",
    "Ce code sera amené à évoluer selon les besoins des affichages"
   ]
  },
  {
   "cell_type": "markdown",
   "metadata": {},
   "source": [
    "Le coeur du dispositif est un dictionnaire d'instances de classes Item, Manif, Expression, Oeuvre et Record (pour les autres notices : personnes et sujets notamment) dont la clé est le numéro de notice, et la valeur l'instance en question."
   ]
  },
  {
   "cell_type": "code",
   "execution_count": 1,
   "metadata": {},
   "outputs": [],
   "source": [
    "import os\n",
    "from Record import construct_indexation\n",
    "from generate_records import generate_dict_entities\n",
    "from generate_results import search, display_html_results, delete_html_results"
   ]
  },
  {
   "cell_type": "markdown",
   "metadata": {},
   "source": [
    "### Préalable : génération du dictionnaire d'entités"
   ]
  },
  {
   "cell_type": "code",
   "execution_count": 2,
   "metadata": {},
   "outputs": [],
   "source": [
    "dict_entities = generate_dict_entities(\"UMA_Oeuvres_Expressions.xml\", \"UMB_Manifestations.xml\",\n",
    "                                       \"UMH_Items.xml\", \"UMA_Autres_Entites_Liees.xml\")\n",
    "oeuvres = [dict_entities[o] for o in dict_entities if dict_entities[o].type == \"o\"]\n",
    "expressions = [dict_entities[e] for e in dict_entities if dict_entities[e].type == \"e\"]"
   ]
  },
  {
   "cell_type": "markdown",
   "metadata": {},
   "source": [
    "# Moteur de recherche (afficher des oeuvres)"
   ]
  },
  {
   "cell_type": "code",
   "execution_count": null,
   "metadata": {},
   "outputs": [],
   "source": [
    "kw_search = input(\"Chercher dans la base : \")\n",
    "results_o = search(kw_search, oeuvres, dict_entities, \"all\")\n",
    "results_e = search(kw_search, expressions, dict_entities, \"all\")\n",
    "\n",
    "print(\"Nombre de résultats :\", len(results_o), \"oeuvre(s) - \", len(results_e), \"expression(s)\")\n",
    "display_html_results(results_o, dict_entities, kw_search, \"o\")\n",
    "display_html_results(results_e, dict_entities, kw_search, \"e\")"
   ]
  },
  {
   "cell_type": "markdown",
   "metadata": {},
   "source": [
    "**[Résultats par oeuvres](results/short_results_o.html)** **[Résultats par expressions](results/short_results_e.html)**"
   ]
  },
  {
   "cell_type": "markdown",
   "metadata": {},
   "source": [
    "### Supprimer les pages de résultats\n",
    "\n",
    "Lancer la cellule ci-dessous"
   ]
  },
  {
   "cell_type": "code",
   "execution_count": 9,
   "metadata": {},
   "outputs": [],
   "source": [
    "delete_html_results()"
   ]
  },
  {
   "cell_type": "markdown",
   "metadata": {},
   "source": [
    "# Zipper les résultats"
   ]
  },
  {
   "cell_type": "code",
   "execution_count": 4,
   "metadata": {},
   "outputs": [],
   "source": [
    "from zipfile import ZipFile\n",
    "import os"
   ]
  },
  {
   "cell_type": "code",
   "execution_count": 5,
   "metadata": {},
   "outputs": [],
   "source": [
    "results = ZipFile(\"results.zip\", \"w\")\n",
    "for file in os.listdir(\"results\"):\n",
    "    results.write(os.path.join(\"results\", file))\n",
    "subdirs = [\"results/graphs\", \"results/icons\"]\n",
    "for subdir in subdirs:\n",
    "    for file in os.listdir(subdir):\n",
    "        results.write(os.path.join(subdir, file))\n",
    "    "
   ]
  },
  {
   "cell_type": "code",
   "execution_count": 6,
   "metadata": {},
   "outputs": [],
   "source": [
    "results.close()"
   ]
  },
  {
   "cell_type": "markdown",
   "metadata": {},
   "source": [
    "# Génération d'une arborescence des résultats\n",
    "\n",
    "Générer une page HTML qui contienne des listes imbriquées : \n",
    "* pour chaque oeuvre : la liste des expressions\n",
    "* pour chaque expression : la liste des manifestations\n",
    "* pour chaque manifestation : la liste des items"
   ]
  },
  {
   "cell_type": "code",
   "execution_count": 19,
   "metadata": {},
   "outputs": [
    {
     "data": {
      "text/plain": [
       "4"
      ]
     },
     "execution_count": 19,
     "metadata": {},
     "output_type": "execute_result"
    }
   ],
   "source": [
    "listes_file = open(\"liste_entites.html\", \"w\", encoding=\"utf-8\")\n",
    "listes_file.write(\"<html>\\n<meta encoding='utf-8'/>\\n<head>\\n<title>Liste des entités</title>\\n\\\n",
    "<style type='text/css'>a {text-decoration: none;}\\n\\\n",
    "body > ol > li {margin-top: 20px;}\\n\\\n",
    "body > ol > li > ol > li {margin-top: 5px;}</style></head>\\n\")\n",
    "listes_file.write(\"<body>\\n<h1>Liste des entités</h1>\\n\")\n",
    "listes_file.write(\"<ol>\")"
   ]
  },
  {
   "cell_type": "code",
   "execution_count": 20,
   "metadata": {},
   "outputs": [],
   "source": [
    "for o in oeuvres:\n",
    "    listes_file.write(f\"<li><strong><a href='results/full_results_{o.id}.html'>{o.label}</a></strong>\")\n",
    "    if len(dict_entities[o.id].toExpressions):\n",
    "        listes_file.write(\"\\n<ol>\")\n",
    "        for eid in dict_entities[o.id].toExpressions:\n",
    "            listes_file.write(f\"\\n<li><a href='results/full_results_{eid}.html'>{dict_entities[o.id].toExpressions[eid]}</a></li>\")\n",
    "            manifs = dict_entities[eid].toManifs\n",
    "            if len(manifs):\n",
    "                listes_file.write(\"\\n<ul>\")\n",
    "                for manifid in manifs:\n",
    "                    listes_file.write(f\"\\n<li>{dict_entities[manifid].label}</li>\")\n",
    "                listes_file.write(\"\\n</ul>\")\n",
    "        listes_file.write(\"\\n</ol>\")\n",
    "    listes_file.write(\"\\n</li>\\n\")\n",
    "listes_file.write(\"</ol>\\n</body>\\n</html>\")\n",
    "listes_file.close()"
   ]
  },
  {
   "cell_type": "code",
   "execution_count": null,
   "metadata": {},
   "outputs": [],
   "source": []
  },
  {
   "cell_type": "code",
   "execution_count": null,
   "metadata": {},
   "outputs": [],
   "source": []
  }
 ],
 "metadata": {
  "kernelspec": {
   "display_name": "Python 3",
   "language": "python",
   "name": "python3"
  },
  "language_info": {
   "codemirror_mode": {
    "name": "ipython",
    "version": 3
   },
   "file_extension": ".py",
   "mimetype": "text/x-python",
   "name": "python",
   "nbconvert_exporter": "python",
   "pygments_lexer": "ipython3",
   "version": "3.8.3"
  }
 },
 "nbformat": 4,
 "nbformat_minor": 4
}
