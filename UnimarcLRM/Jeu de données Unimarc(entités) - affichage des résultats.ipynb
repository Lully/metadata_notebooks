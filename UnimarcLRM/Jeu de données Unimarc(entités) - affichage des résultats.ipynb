{
 "cells": [
  {
   "cell_type": "markdown",
   "metadata": {},
   "source": [
    "# Objectif\n",
    "\n",
    "Proposer un affichage de résultats (sous forme de pages HTML articulées entre elles) à partir du jeu de données (4 fichiers Unimarc XML d'entités LRM) et des objets Python créés dessus, à partir du code présenté dans le notebook **Manipulation des fichiers de notices Unimarc LRM**\n",
    "\n",
    "Ce code sera amené à évoluer selon les besoins des affichages"
   ]
  },
  {
   "cell_type": "markdown",
   "metadata": {},
   "source": [
    "Le coeur du dispositif est un dictionnaire d'instances de classes Item, Manif, Expression, Oeuvre et Record (pour les autres notices : personnes et sujets notamment) dont la clé est le numéro de notice, et la valeur l'instance en question."
   ]
  },
  {
   "cell_type": "code",
   "execution_count": 1,
   "metadata": {},
   "outputs": [],
   "source": [
    "import os\n",
    "from Record import construct_indexation\n",
    "from generate_records import generate_dict_entities\n",
    "from generate_results import search, display_html_results, delete_html_results"
   ]
  },
  {
   "cell_type": "markdown",
   "metadata": {},
   "source": [
    "### Préalable : génération du dictionnaire d'entités"
   ]
  },
  {
   "cell_type": "code",
   "execution_count": 2,
   "metadata": {},
   "outputs": [],
   "source": [
    "dict_entities = generate_dict_entities(\"UMA_Oeuvres_Expressions.xml\", \"UMB_Manifestations.xml\",\n",
    "                                       \"UMH_Items.xml\", \"UMA_Autres_Entites_Liees.xml\")\n",
    "oeuvres = [dict_entities[o] for o in dict_entities if dict_entities[o].type == \"o\"]\n",
    "expressions = [dict_entities[e] for e in dict_entities if dict_entities[e].type == \"e\"]"
   ]
  },
  {
   "cell_type": "markdown",
   "metadata": {},
   "source": [
    "# Moteur de recherche (afficher des oeuvres)"
   ]
  },
  {
   "cell_type": "code",
   "execution_count": 3,
   "metadata": {},
   "outputs": [
    {
     "name": "stdout",
     "output_type": "stream",
     "text": [
      "Chercher dans la base : \n",
      "Nombre de résultats : 50 oeuvre(s) -  53 expression(s)\n"
     ]
    }
   ],
   "source": [
    "kw_search = input(\"Chercher dans la base : \")\n",
    "results_o = search(kw_search, oeuvres, dict_entities, \"all\")\n",
    "results_e = search(kw_search, expressions, dict_entities, \"all\")\n",
    "\n",
    "print(\"Nombre de résultats :\", len(results_o), \"oeuvre(s) - \", len(results_e), \"expression(s)\")\n",
    "display_html_results(results_o, dict_entities, kw_search, \"o\")\n",
    "display_html_results(results_e, dict_entities, kw_search, \"e\")"
   ]
  },
  {
   "cell_type": "markdown",
   "metadata": {},
   "source": [
    "**[Résultats par oeuvres](results/short_results_o.html)** **[Résultats par expressions](results/short_results_e.html)**"
   ]
  },
  {
   "cell_type": "markdown",
   "metadata": {},
   "source": [
    "### Supprimer les pages de résultats\n",
    "\n",
    "Lancer la cellule ci-dessous"
   ]
  },
  {
   "cell_type": "code",
   "execution_count": null,
   "metadata": {},
   "outputs": [],
   "source": [
    " # delete_html_results()"
   ]
  },
  {
   "cell_type": "code",
   "execution_count": null,
   "metadata": {},
   "outputs": [],
   "source": [
    "liste_types = set()\n",
    "for e in expressions:\n",
    "    liste_types.add(e.expressionContentType)\n",
    "for e in liste_types:\n",
    "    print(e)"
   ]
  },
  {
   "cell_type": "code",
   "execution_count": 4,
   "metadata": {},
   "outputs": [
    {
     "name": "stdout",
     "output_type": "stream",
     "text": [
      "xml <class 'lxml.etree._Element'>\n",
      "init_type <class 'str'>\n",
      "id <class 'str'>\n",
      "txt <class 'str'>\n",
      "self_index <class 'list'>\n",
      "linked_entities_index <class 'list'>\n",
      "resp_index <class 'list'>\n",
      "linked_resp_index <class 'list'>\n",
      "global_index <class 'str'>\n",
      "type <class 'str'>\n",
      "label <class 'str'>\n",
      "splitted_label <class 'str'>\n",
      "stats_zones <class 'collections.defaultdict'>\n",
      "resp <class 'dict'>\n",
      "respIds <class 'set'>\n",
      "toOeuvres <class 'dict'>\n",
      "toExpressions <class 'collections.defaultdict'>\n",
      "toManifs <class 'collections.defaultdict'>\n",
      "manifsYears <class 'list'>\n",
      "toItems <class 'collections.defaultdict'>\n",
      "repr <class 'str'>\n",
      "lang <class 'list'>\n",
      "expressionContentType <class 'str'>\n",
      "exprContentType <class 'str'>\n",
      "exprResp <class 'list'>\n",
      "detailed <class 'str'>\n",
      "rebonds <class 'str'>\n",
      "other_expressions <class 'NoneType'>\n"
     ]
    },
    {
     "ename": "RuntimeError",
     "evalue": "No active exception to reraise",
     "output_type": "error",
     "traceback": [
      "\u001b[1;31m---------------------------------------------------------------------------\u001b[0m",
      "\u001b[1;31mRuntimeError\u001b[0m                              Traceback (most recent call last)",
      "\u001b[1;32m<ipython-input-4-089cbb15dc6d>\u001b[0m in \u001b[0;36m<module>\u001b[1;34m\u001b[0m\n\u001b[0;32m      2\u001b[0m     \u001b[1;32mfor\u001b[0m \u001b[0mkey\u001b[0m \u001b[1;32min\u001b[0m \u001b[0me\u001b[0m\u001b[1;33m.\u001b[0m\u001b[0m__dict__\u001b[0m\u001b[1;33m:\u001b[0m\u001b[1;33m\u001b[0m\u001b[1;33m\u001b[0m\u001b[0m\n\u001b[0;32m      3\u001b[0m         \u001b[0mprint\u001b[0m\u001b[1;33m(\u001b[0m\u001b[0mkey\u001b[0m\u001b[1;33m,\u001b[0m \u001b[0mtype\u001b[0m\u001b[1;33m(\u001b[0m\u001b[0me\u001b[0m\u001b[1;33m.\u001b[0m\u001b[0m__dict__\u001b[0m\u001b[1;33m[\u001b[0m\u001b[0mkey\u001b[0m\u001b[1;33m]\u001b[0m\u001b[1;33m)\u001b[0m\u001b[1;33m)\u001b[0m\u001b[1;33m\u001b[0m\u001b[1;33m\u001b[0m\u001b[0m\n\u001b[1;32m----> 4\u001b[1;33m     \u001b[1;32mraise\u001b[0m\u001b[1;33m\u001b[0m\u001b[1;33m\u001b[0m\u001b[0m\n\u001b[0m",
      "\u001b[1;31mRuntimeError\u001b[0m: No active exception to reraise"
     ]
    }
   ],
   "source": [
    "for e in expressions:\n",
    "    for key in e.__dict__:\n",
    "        print(key, type(e.__dict__[key]))\n",
    "    raise"
   ]
  },
  {
   "cell_type": "code",
   "execution_count": null,
   "metadata": {},
   "outputs": [],
   "source": []
  },
  {
   "cell_type": "code",
   "execution_count": null,
   "metadata": {},
   "outputs": [],
   "source": []
  },
  {
   "cell_type": "code",
   "execution_count": null,
   "metadata": {},
   "outputs": [],
   "source": []
  }
 ],
 "metadata": {
  "kernelspec": {
   "display_name": "Python 3",
   "language": "python",
   "name": "python3"
  },
  "language_info": {
   "codemirror_mode": {
    "name": "ipython",
    "version": 3
   },
   "file_extension": ".py",
   "mimetype": "text/x-python",
   "name": "python",
   "nbconvert_exporter": "python",
   "pygments_lexer": "ipython3",
   "version": "3.8.3"
  }
 },
 "nbformat": 4,
 "nbformat_minor": 4
}
