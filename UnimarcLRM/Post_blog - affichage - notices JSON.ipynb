{
 "cells": [
  {
   "cell_type": "markdown",
   "metadata": {},
   "source": [
    "# Jeu de données Unimarc entités : affichage des résultats - structuration interne\n",
    "\n",
    "Ca ne vous paraîtra sans doute pas le plus intéressant si vous avez essayé de naviguer un peu dans les pages de résultats, mais j'ai envie d'expliquer un peu la problématique de reconstruction des informations en interne.\n",
    "\n",
    "En effet quand un internaute une recherche sur un lot de notices initialement structurées en entités OEMI, il est susceptible de mettre dans le même formulaire de recherche des informations relevant de plusieurs niveaux de l'arbre, sans le savoir. Il faut donc que les résultats puissent répondre même si vous mettez un nom d'auteur (oeuvre), un titre (oeuvre) et un éditeur (manifestation) ; ou encore un numéro de symphonie (oeuvre) avecun chef d'orchestre (expression).\n",
    "\n",
    "La solution que j'ai trouvée (je ne suis pas sûr qu'il en existe d'autre, en fait ?) est de reconstruire, entre les notices initiales et l'utilisateur, des macro-notices qui agrègent tout un tas d'informations. Vous pouvez en voir le résultat dans le jeu de données, à travers les notices JSON (accessibles depuis une notice détaillée, rubrique \"Infos pros\", lien \"Version JSON\")\n",
    "\n",
    "[!lien_versionjson.png!]"
   ]
  },
  {
   "cell_type": "markdown",
   "metadata": {},
   "source": [
    "En voici un exemple (toutes les notices JSON sont des fichiers disponibles sur Zenodo et sur Github)\n",
    "\n",
    "Vous pouvez voir que la notice JSON récupère tout un tas d'informations :\n",
    "* la notice initiale en XML, ainsi que sa version \"à plat\" (texte, avec une zone par ligne)\n",
    "* les liens à toutes les entités de l'arbre, y compris en sautant par dessus des entités intermédiaires : identifiant et \"label\" (je n'ai pas osé appelé ça \"point d'accès\" parce que le résultat n'est pas du tout propre)\n",
    "* les mentions de responsabilité, en lien ou direct\n",
    "* les termes indexés, soit trouvés directement dans la notice, soit par rebonds successifs\n",
    "* des blocs HTML qui seront des propositions de rebonds depuis l'expression vers d'autres expressions, ou depuis l'oeuvre vers d'autres oeuvres\n",
    "* le résumé, pris au niveau de l'oeuvre et qui pourra ainsi apparaître dans toutes les notices détaillées plutôt centrées sur l'expression\n",
    "* des statistiques d'occurrences de zones et sous-zones (ce n'est pas forcément utile, je l'ai plutôt fait par réflexe)\n",
    "\n",
    "Et c'est cette macro-notice, que j'enrichis au fil de mes besoins pour faire évoluer les notices abrégées et détaillées, qu'utilise le pseudo moteur de recherche"
   ]
  },
  {
   "cell_type": "markdown",
   "metadata": {},
   "source": [
    "## Ce que ça m'apprend\n",
    "\n",
    "On peut imaginer que la construction par arbre permet une factorisation des éléments d'information (liste des interprètes d'un film réédité plusieurs fois, résumé d'une fiction ou d'un livre documentaire).\n",
    "\n",
    "Mais ensuite, pour naviguer dans les résultats, il est plus simple de raisonner à partir d'une **entité pivot** qui contient déjà un certain nombre d'informations, mais qu'on va enrichir automatiquement.\n",
    "\n",
    "Dès lors qu'on l'identifie comme une étape intermédiaire indispensable, cette étape d'enrichissement pourrait aussi bénéficier de sources extérieures aux entités OEMI elles-mêmes : exploitation des identifiants présents dans les notices pour récupérer de l'information plus distante (trouvée sur Wikidata, sur isni.org, etc., par calculs divers).\n",
    "\n",
    "Par ailleurs, j'ai expérimenté ce mécanisme en prenant 2 options possibles (non encore abouties, j'en ai bien conscience) :\n",
    "* entité pivot = expression\n",
    "* entité pivot = oeuvre\n",
    "\n",
    "Mais en réalité on pourrait tout à fait développer un lot de résultats en partant du choix **entité pivot = manifestation** et reconstruire l'interface de navigation en conséquence.\n",
    "\n",
    "Dans un premier temps, ça donnerait certainement l'impression de reconstruire des OPAC tels qu'actuels (mais en ayant rentabilisé l'action de saisie lors du catalogage, cf. quand je parlais plus haut de factorisation)"
   ]
  },
  {
   "cell_type": "code",
   "execution_count": null,
   "metadata": {},
   "outputs": [],
   "source": []
  }
 ],
 "metadata": {
  "kernelspec": {
   "display_name": "Python 3",
   "language": "python",
   "name": "python3"
  },
  "language_info": {
   "codemirror_mode": {
    "name": "ipython",
    "version": 3
   },
   "file_extension": ".py",
   "mimetype": "text/x-python",
   "name": "python",
   "nbconvert_exporter": "python",
   "pygments_lexer": "ipython3",
   "version": "3.8.3"
  }
 },
 "nbformat": 4,
 "nbformat_minor": 4
}
